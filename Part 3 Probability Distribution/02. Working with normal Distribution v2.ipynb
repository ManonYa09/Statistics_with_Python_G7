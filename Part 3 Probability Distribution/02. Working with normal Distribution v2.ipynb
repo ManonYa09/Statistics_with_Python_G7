{
 "cells": [
  {
   "cell_type": "markdown",
   "id": "0cbe40f7-8edd-4dc5-b260-51428094055c",
   "metadata": {},
   "source": [
    "**Table of Content:**\n",
    "\n",
    "- [Import Libraries](#Import_Libraries)\n",
    "- [1. Probability disstributions](#1)\n",
    "- [2. Normal (Gaussian) Distribution](#Normal_Distribution)\n",
    "  \n",
    "    - [2.1 Standard Normal Distribution](#2.1)\n",
    "    - [2.2 Z Score](#2.2)\n",
    "    - [2.3 Empirical Rule](#2.3)\n",
    "- [3. Working with normal Distribution](#3)\n",
    "    - [Detection Outlier using normal distribution](#3.1)"
   ]
  },
  {
   "cell_type": "markdown",
   "id": "ea69fe0c-094e-43ec-a637-fcd72b2a81e5",
   "metadata": {},
   "source": [
    "### Import Libraries"
   ]
  },
  {
   "cell_type": "code",
   "execution_count": 34,
   "id": "90696fd8-cfd5-490d-96dc-ef03527e423e",
   "metadata": {},
   "outputs": [],
   "source": [
    "import pandas as pd # For performing data operations, cleaning, and descriptive statistics,...\n",
    "import matplotlib.pyplot as plt # data visualzation \n",
    "import seaborn as sns ## data visualization advance features easy to plot than matplotlib\n",
    "import numpy as np ## For array generation \n",
    "from scipy import stats ## For statistical analysis, such as calculating Z-scores\n",
    "from scipy.stats import norm\n",
    "import warnings ## To suppress warning messages that could clutter the output\n",
    "\n",
    "warnings.filterwarnings('ignore')"
   ]
  },
  {
   "cell_type": "markdown",
   "id": "182faff9-0f34-4cd6-bc16-865ccfea99a3",
   "metadata": {},
   "source": [
    "### 1. Probability disstributions"
   ]
  },
  {
   "cell_type": "markdown",
   "id": "e8fe4d8f-5206-44fa-9c15-1aeffad127d6",
   "metadata": {},
   "source": [
    "1. **Discrete random variables** can take a finite, countable number of values. For instance, the result of a dice roll can be 1, 2, 3, 4, 5 or 6.\n",
    "\n",
    "2. **Continuous random variables** can take an infinite number of values. Examples include measurements such as temperature, height and weight."
   ]
  },
  {
   "cell_type": "markdown",
   "id": "c80efa4b-e708-458b-a3e8-a7c34a2c22a0",
   "metadata": {},
   "source": [
    "### 2. Normal Distribution"
   ]
  },
  {
   "cell_type": "markdown",
   "id": "a85b575e-fc41-4024-b8fc-e3793ed6df65",
   "metadata": {},
   "source": [
    "\n",
    "A normal distribution is a symmetrical bell-shaped curve, defined by its mean ($\\mu$) and standard deviation ($\\sigma$)\n",
    "\n",
    "$f(x) = \\frac{1}{\\sigma\\sqrt{2\\pi}}\\ \\exp\\left( -\\frac{1}{2}\\left(\\frac{x-\\mu}{\\sigma}\\right)^{\\!2}\\ \\right)\\ \\quad  x  \\in  (- \\infty, \\infty)$\n",
    "\n",
    "$f(x) = probability\\ density\\ function$\n",
    "\n",
    "$\\sigma = standard\\ deviation$\n",
    "\n",
    "$\\mu = mean$"
   ]
  },
  {
   "cell_type": "markdown",
   "id": "a1396649-50a2-4bd6-98da-5666d951bc5e",
   "metadata": {},
   "source": [
    "#### 2.1 standard normal distribution"
   ]
  },
  {
   "cell_type": "markdown",
   "id": "3359dfa1-b4b8-4fe8-a490-4f473b11230d",
   "metadata": {},
   "source": [
    "\n",
    "Properties of a standard normal distribution:\n",
    "+ The standard normal distribution is a normal distribution with a mean value of 0 and a standard deviation as 1.\n",
    "+ Any normal distribution can be converted into standard normal distribution using the following formula:\n",
    "\n",
    "$$z = \\frac {x-\\mu}{\\sigma}$$  \n",
    "\n",
    "where $\\mu$ and $\\sigma$ are the mean and variance of the\n",
    "original normal distribution.\n"
   ]
  },
  {
   "cell_type": "code",
   "execution_count": 2,
   "id": "7c4f7db2-5cf8-45df-8c18-dae03e0dcc87",
   "metadata": {},
   "outputs": [],
   "source": [
    "df = pd.read_csv('data_probability.csv')"
   ]
  },
  {
   "cell_type": "code",
   "execution_count": 19,
   "id": "d83428ad-128c-4697-8818-661408986871",
   "metadata": {},
   "outputs": [
    {
     "data": {
      "text/html": [
       "<div>\n",
       "<style scoped>\n",
       "    .dataframe tbody tr th:only-of-type {\n",
       "        vertical-align: middle;\n",
       "    }\n",
       "\n",
       "    .dataframe tbody tr th {\n",
       "        vertical-align: top;\n",
       "    }\n",
       "\n",
       "    .dataframe thead th {\n",
       "        text-align: right;\n",
       "    }\n",
       "</style>\n",
       "<table border=\"1\" class=\"dataframe\">\n",
       "  <thead>\n",
       "    <tr style=\"text-align: right;\">\n",
       "      <th></th>\n",
       "      <th>Student ID</th>\n",
       "      <th>Undergrad Degree</th>\n",
       "      <th>Undergrad Grade</th>\n",
       "      <th>MBA Grade</th>\n",
       "      <th>Work Experience</th>\n",
       "      <th>Employability (Before)</th>\n",
       "      <th>Employability (After)</th>\n",
       "      <th>Status</th>\n",
       "      <th>Annual Salary</th>\n",
       "    </tr>\n",
       "  </thead>\n",
       "  <tbody>\n",
       "    <tr>\n",
       "      <th>0</th>\n",
       "      <td>1</td>\n",
       "      <td>Business</td>\n",
       "      <td>68.4</td>\n",
       "      <td>90.2</td>\n",
       "      <td>No</td>\n",
       "      <td>252</td>\n",
       "      <td>276</td>\n",
       "      <td>Placed</td>\n",
       "      <td>$111,000</td>\n",
       "    </tr>\n",
       "    <tr>\n",
       "      <th>1</th>\n",
       "      <td>2</td>\n",
       "      <td>Business</td>\n",
       "      <td>62.1</td>\n",
       "      <td>92.8</td>\n",
       "      <td>No</td>\n",
       "      <td>423</td>\n",
       "      <td>410</td>\n",
       "      <td>Not Placed</td>\n",
       "      <td>NaN</td>\n",
       "    </tr>\n",
       "    <tr>\n",
       "      <th>2</th>\n",
       "      <td>3</td>\n",
       "      <td>Computer Science</td>\n",
       "      <td>70.2</td>\n",
       "      <td>68.7</td>\n",
       "      <td>Yes</td>\n",
       "      <td>101</td>\n",
       "      <td>119</td>\n",
       "      <td>Placed</td>\n",
       "      <td>$107,000</td>\n",
       "    </tr>\n",
       "    <tr>\n",
       "      <th>3</th>\n",
       "      <td>4</td>\n",
       "      <td>Engineering</td>\n",
       "      <td>75.1</td>\n",
       "      <td>80.7</td>\n",
       "      <td>No</td>\n",
       "      <td>288</td>\n",
       "      <td>334</td>\n",
       "      <td>Not Placed</td>\n",
       "      <td>NaN</td>\n",
       "    </tr>\n",
       "    <tr>\n",
       "      <th>4</th>\n",
       "      <td>5</td>\n",
       "      <td>Finance</td>\n",
       "      <td>60.9</td>\n",
       "      <td>74.9</td>\n",
       "      <td>No</td>\n",
       "      <td>248</td>\n",
       "      <td>252</td>\n",
       "      <td>Not Placed</td>\n",
       "      <td>NaN</td>\n",
       "    </tr>\n",
       "  </tbody>\n",
       "</table>\n",
       "</div>"
      ],
      "text/plain": [
       "   Student ID  Undergrad Degree  Undergrad Grade  MBA Grade Work Experience  \\\n",
       "0           1          Business             68.4       90.2              No   \n",
       "1           2          Business             62.1       92.8              No   \n",
       "2           3  Computer Science             70.2       68.7             Yes   \n",
       "3           4       Engineering             75.1       80.7              No   \n",
       "4           5           Finance             60.9       74.9              No   \n",
       "\n",
       "   Employability (Before)  Employability (After)      Status Annual Salary  \n",
       "0                     252                    276      Placed     $111,000   \n",
       "1                     423                    410  Not Placed           NaN  \n",
       "2                     101                    119      Placed     $107,000   \n",
       "3                     288                    334  Not Placed           NaN  \n",
       "4                     248                    252  Not Placed           NaN  "
      ]
     },
     "execution_count": 19,
     "metadata": {},
     "output_type": "execute_result"
    }
   ],
   "source": [
    "df.head()"
   ]
  },
  {
   "cell_type": "code",
   "execution_count": null,
   "id": "bca7d403-564b-4872-93ea-0f7638305355",
   "metadata": {},
   "outputs": [],
   "source": []
  },
  {
   "cell_type": "code",
   "execution_count": 31,
   "id": "16f5ae3d-9c81-4673-8781-789b7cce05ce",
   "metadata": {},
   "outputs": [
    {
     "data": {
      "image/png": "[encoded data removed]",
      "text/plain": [
       "<Figure size 800x400 with 1 Axes>"
      ]
     },
     "metadata": {},
     "output_type": "display_data"
    }
   ],
   "source": [
    "fig, ax = plt.subplots(figsize = (8, 4))\n",
    "sns.histplot(x=df['MBA Grade'], bins=np.arange(60, 100, 5), \n",
    "             kde=True, color='royalblue', edgecolor='black')\n",
    "ax.set_xticks(np.arange(60, 100, 5))\n",
    "ax.set_title('Distribution of MBA Grades', fontsize=16, fontweight='bold')\n",
    "ax.set_xlabel('Grade', fontsize=14)\n",
    "ax.set_ylabel('Frequency', fontsize=14)\n",
    "for container in ax.containers:\n",
    "    ax.bar_label(container, padding=3, fontsize=10)\n",
    "sns.despine()\n",
    "# plt.savefig('histogram', dpi = 1000);"
   ]
  },
  {
   "cell_type": "code",
   "execution_count": 28,
   "id": "a879c369-86ca-4078-bbbe-ce5f67e4ad36",
   "metadata": {},
   "outputs": [
    {
     "data": {
      "text/plain": [
       "count    95.000000\n",
       "mean     80.169474\n",
       "std       6.170780\n",
       "min      62.600000\n",
       "25%      76.050000\n",
       "50%      80.200000\n",
       "75%      84.650000\n",
       "max      96.100000\n",
       "Name: MBA Grade, dtype: float64"
      ]
     },
     "execution_count": 28,
     "metadata": {},
     "output_type": "execute_result"
    }
   ],
   "source": [
    "df['MBA Grade'].describe()"
   ]
  },
  {
   "cell_type": "markdown",
   "id": "cc352122-cb04-4f35-b884-e9899c92f76e",
   "metadata": {},
   "source": [
    "#### 2.2 Z Score"
   ]
  },
  {
   "cell_type": "markdown",
   "id": "d06251b7-d9a2-4ff0-99c0-0e15a94881ad",
   "metadata": {},
   "source": [
    "**Reference**: [scipy.stats.zscore](https://docs.scipy.org/doc/scipy/reference/generated/scipy.stats.zscore.html)"
   ]
  },
  {
   "cell_type": "markdown",
   "id": "fb669b53-4609-420f-ad4c-ba24740090af",
   "metadata": {},
   "source": []
  },
  {
   "cell_type": "markdown",
   "id": "4abb6f7c-c879-4ae7-878e-05a8f40a9da6",
   "metadata": {},
   "source": [
    "#### 2.3 Empirical Rule"
   ]
  },
  {
   "cell_type": "markdown",
   "id": "5400b2d7-e05d-4631-8589-189fa796299c",
   "metadata": {},
   "source": [
    "<p align=\"center\"> \n",
    "  <img width=\"650\" height=\"350\" src=\"https://miro.medium.com/max/1400/1*IZ2II2HYKeoMrdLU5jW6Dw.png\"> \n",
    "</p>"
   ]
  },
  {
   "cell_type": "markdown",
   "id": "8c6b16c0-058d-466f-ac7f-07d87d5cd1df",
   "metadata": {},
   "source": [
    "##### Instructions\n",
    "\n",
    "1. **Filter Data Within One Standard Deviation**:\n",
    "   - Extract the subset of the data that falls within one standard deviation of the mean from ($\\mu - \\sigma$) to ($\\mu + \\sigma$).\n",
    "   - Calculate and report the probability of a data point falling within this range.\n",
    "\n",
    "2. **Filter Data Within Two Standard Deviations**:\n",
    "   - Extract the subset of data that falls within two standard deviations of the mean (from ($\\mu - 2*\\sigma$) to ($\\mu + 2*\\sigma$).\n",
    "   - Calculate and report the probability of a data point falling within this range.\n",
    "\n",
    "3. **Filter Data Within Three Standard Deviations**:\n",
    "   - Extract the subset of data that falls within three standard deviations of the mean (from ($\\mu - 3*\\sigma$) to ($\\mu + 3*\\sigma$).\n",
    "   - Calculate and report the probability of a data point falling within this range.\n",
    "\n",
    "**Notes**:\n",
    "- Ensure that your calculations include only the filtered data points within each specified range.\n",
    "- Provide both the number of data points and the probability for each range, expressed as a percentage of the total dataset.\n",
    "\n",
    "**Hints**:\n",
    "- The probability can be calculated by dividing the count of data points within the specified range by the total count of data points in the dataset.\n",
    "- Use statistical functions like `mean()` and `std()` to determine the mean and standard deviation values.\n"
   ]
  },
  {
   "cell_type": "markdown",
   "id": "2dc669a5-a059-432a-b1f2-e9ed2e9120ff",
   "metadata": {},
   "source": [
    "### 3. Detection Outlier using normal distribution (empircal rule)"
   ]
  },
  {
   "cell_type": "code",
   "execution_count": 40,
   "id": "ab9f0480-6eb1-49cf-95c3-bc7af9b563b9",
   "metadata": {},
   "outputs": [],
   "source": [
    "def outlier_detection(df):\n",
    "    \"\"\"\n",
    "    Detect potential outliers in a DataFrame using the Interquartile Range (IQR) method.\n",
    "\n",
    "    Parameters:\n",
    "    - df (pandas.DataFrame): The input DataFrame containing numerical data.\n",
    "\n",
    "    Returns:\n",
    "    - pandas.Series: A Series containing potential outlier values.\n",
    "    \n",
    "    The function calculates the first quartile (Q1), third quartile (Q3), and the Interquartile Range (IQR).\n",
    "    It then identifies potential outliers below the lower bound (Q1 - 1.5 * IQR) or above the upper bound (Q3 + 1.5 * IQR).\n",
    "    The result is a Series containing the values in the DataFrame that are potential outliers.\n",
    "\n",
    "    Example:\n",
    "    >>> data = {'Column1': [2, 4, 5, 7, 8, 9, 10, 11, 12, 50]}\n",
    "    >>> df = pd.DataFrame(data)\n",
    "    >>> outlier_detection(df['Column1'])\n",
    "    Returns:\n",
    "    9    50\n",
    "    Name: Column1, dtype: int64\n",
    "    \"\"\"\n",
    "    Q1 = df.quantile(0.25)\n",
    "    Q3 = df.quantile(0.75)\n",
    "    IQR = Q3 - Q1\n",
    "    upper_end = Q3 + 1.5 * IQR\n",
    "    lower_end = Q1 - 1.5 * IQR\n",
    "    outliers = df[(df > upper_end) | (df < lower_end)]\n",
    "    return outliers"
   ]
  },
  {
   "cell_type": "code",
   "execution_count": 39,
   "id": "af7cf949-81c5-4dc8-8cd9-5e86638b42e2",
   "metadata": {},
   "outputs": [],
   "source": [
    "education_districtwise = pd.read_csv('education_districtwise.csv')\n",
    "education_districtwise = education_districtwise.dropna()"
   ]
  },
  {
   "cell_type": "markdown",
   "id": "f4a27f6a-e9d8-4e42-a7d8-fd3622d560b1",
   "metadata": {},
   "source": [
    "#### find outliers"
   ]
  },
  {
   "cell_type": "markdown",
   "id": "fdb0bea7-a2e1-4bd1-83d7-1a0e6cb72468",
   "metadata": {},
   "source": [
    "Our analysis gives us important information to share. The **government** may want to provide more funding and resources to these two districts in the hopes of significantly improving literacy. "
   ]
  },
  {
   "cell_type": "code",
   "execution_count": null,
   "id": "019fec9c-f4a9-4469-8659-7174cc4c60b9",
   "metadata": {},
   "outputs": [],
   "source": []
  }
 ],
 "metadata": {
  "kernelspec": {
   "display_name": "Python 3 (ipykernel)",
   "language": "python",
   "name": "python3"
  },
  "language_info": {
   "codemirror_mode": {
    "name": "ipython",
    "version": 3
   },
   "file_extension": ".py",
   "mimetype": "text/x-python",
   "name": "python",
   "nbconvert_exporter": "python",
   "pygments_lexer": "ipython3",
   "version": "3.11.5"
  }
 },
 "nbformat": 4,
 "nbformat_minor": 5
}
