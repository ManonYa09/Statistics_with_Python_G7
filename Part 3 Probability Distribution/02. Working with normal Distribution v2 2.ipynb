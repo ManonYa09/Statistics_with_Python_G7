{
 "cells": [
  {
   "cell_type": "markdown",
   "id": "0cbe40f7-8edd-4dc5-b260-51428094055c",
   "metadata": {},
   "source": [
    "**Table of Content:**\n",
    "\n",
    "- [Import Libraries](#Import_Libraries)\n",
    "- [1. Probability disstributions](#1)\n",
    "- [2. Normal (Gaussian) Distribution](#Normal_Distribution)\n",
    "  \n",
    "    - [2.1 Standard Normal Distribution](#2.1)\n",
    "    - [2.2 Z Score](#2.2)\n",
    "    - [2.3 Empirical Rule](#2.3)\n",
    "- [3. Working with normal Distribution](#3)\n",
    "    - [Detection Outlier using normal distribution](#3.1)"
   ]
  },
  {
   "cell_type": "markdown",
   "id": "ea69fe0c-094e-43ec-a637-fcd72b2a81e5",
   "metadata": {},
   "source": [
    "### Import Libraries"
   ]
  },
  {
   "cell_type": "code",
   "execution_count": 5,
   "id": "90696fd8-cfd5-490d-96dc-ef03527e423e",
   "metadata": {},
   "outputs": [],
   "source": [
    "import pandas as pd # For performing data operations, cleaning, and descriptive statistics,...\n",
    "import matplotlib.pyplot as plt # data visualzation \n",
    "import seaborn as sns ## data visualization advance features easy to plot than matplotlib\n",
    "import numpy as np ## For array generation \n",
    "from scipy import stats ## For statistical analysis, such as calculating Z-scores\n",
    "from scipy.stats import norm\n",
    "\n",
    "\n",
    "import warnings ## To suppress warning messages that could clutter the output\n",
    "\n",
    "warnings.filterwarnings('ignore')"
   ]
  },
  {
   "cell_type": "markdown",
   "id": "182faff9-0f34-4cd6-bc16-865ccfea99a3",
   "metadata": {},
   "source": [
    "### 1. Probability disstributions"
   ]
  },
  {
   "cell_type": "markdown",
   "id": "e8fe4d8f-5206-44fa-9c15-1aeffad127d6",
   "metadata": {},
   "source": [
    "1. **Discrete random variables** can take a finite, countable number of values. For instance, the result of a dice roll can be 1, 2, 3, 4, 5 or 6.\n",
    "\n",
    "2. **Continuous random variables** can take an infinite number of values. Examples include measurements such as temperature, height and weight."
   ]
  },
  {
   "cell_type": "markdown",
   "id": "c80efa4b-e708-458b-a3e8-a7c34a2c22a0",
   "metadata": {},
   "source": [
    "### 2. Normal Distribution"
   ]
  },
  {
   "cell_type": "markdown",
   "id": "a85b575e-fc41-4024-b8fc-e3793ed6df65",
   "metadata": {},
   "source": [
    "\n",
    "A normal distribution is a symmetrical bell-shaped curve, defined by its mean ($\\mu$) and standard deviation ($\\sigma$)\n",
    "\n",
    "$f(x) = \\frac{1}{\\sigma\\sqrt{2\\pi}}\\ \\exp\\left( -\\frac{1}{2}\\left(\\frac{x-\\mu}{\\sigma}\\right)^{\\!2}\\ \\right)\\ \\quad  x  \\in  (- \\infty, \\infty)$\n",
    "\n",
    "$f(x) = probability\\ density\\ function$\n",
    "\n",
    "$\\sigma = standard\\ deviation$\n",
    "\n",
    "$\\mu = mean$"
   ]
  },
  {
   "cell_type": "markdown",
   "id": "a1396649-50a2-4bd6-98da-5666d951bc5e",
   "metadata": {},
   "source": [
    "#### 2.1 standard normal distribution"
   ]
  },
  {
   "cell_type": "markdown",
   "id": "3359dfa1-b4b8-4fe8-a490-4f473b11230d",
   "metadata": {},
   "source": [
    "\n",
    "Properties of a standard normal distribution:\n",
    "+ The standard normal distribution is a normal distribution with a mean value of 0 and a standard deviation as 1.\n",
    "+ Any normal distribution can be converted into standard normal distribution using the following formula:\n",
    "\n",
    "$$z = \\frac {x-\\mu}{\\sigma}$$  \n",
    "\n",
    "where $\\mu$ and $\\sigma$ are the mean and variance of the\n",
    "original normal distribution.\n"
   ]
  },
  {
   "cell_type": "code",
   "execution_count": 7,
   "id": "7c4f7db2-5cf8-45df-8c18-dae03e0dcc87",
   "metadata": {},
   "outputs": [],
   "source": [
    "df = pd.read_csv('https://raw.githubusercontent.com/ManonYa09/Statistics_with_Python_G7/main/Part%203%20Probability%20Distribution/data_probability.csv')"
   ]
  },
  {
   "cell_type": "code",
   "execution_count": 9,
   "id": "d83428ad-128c-4697-8818-661408986871",
   "metadata": {},
   "outputs": [
    {
     "data": {
      "text/html": [
       "<div>\n",
       "<style scoped>\n",
       "    .dataframe tbody tr th:only-of-type {\n",
       "        vertical-align: middle;\n",
       "    }\n",
       "\n",
       "    .dataframe tbody tr th {\n",
       "        vertical-align: top;\n",
       "    }\n",
       "\n",
       "    .dataframe thead th {\n",
       "        text-align: right;\n",
       "    }\n",
       "</style>\n",
       "<table border=\"1\" class=\"dataframe\">\n",
       "  <thead>\n",
       "    <tr style=\"text-align: right;\">\n",
       "      <th></th>\n",
       "      <th>Student ID</th>\n",
       "      <th>Undergrad Degree</th>\n",
       "      <th>Undergrad Grade</th>\n",
       "      <th>MBA Grade</th>\n",
       "      <th>Work Experience</th>\n",
       "      <th>Employability (Before)</th>\n",
       "      <th>Employability (After)</th>\n",
       "      <th>Status</th>\n",
       "      <th>Annual Salary</th>\n",
       "    </tr>\n",
       "  </thead>\n",
       "  <tbody>\n",
       "    <tr>\n",
       "      <th>0</th>\n",
       "      <td>1</td>\n",
       "      <td>Business</td>\n",
       "      <td>68.4</td>\n",
       "      <td>90.2</td>\n",
       "      <td>No</td>\n",
       "      <td>252</td>\n",
       "      <td>276</td>\n",
       "      <td>Placed</td>\n",
       "      <td>$111,000</td>\n",
       "    </tr>\n",
       "    <tr>\n",
       "      <th>1</th>\n",
       "      <td>2</td>\n",
       "      <td>Business</td>\n",
       "      <td>62.1</td>\n",
       "      <td>92.8</td>\n",
       "      <td>No</td>\n",
       "      <td>423</td>\n",
       "      <td>410</td>\n",
       "      <td>Not Placed</td>\n",
       "      <td>NaN</td>\n",
       "    </tr>\n",
       "    <tr>\n",
       "      <th>2</th>\n",
       "      <td>3</td>\n",
       "      <td>Computer Science</td>\n",
       "      <td>70.2</td>\n",
       "      <td>68.7</td>\n",
       "      <td>Yes</td>\n",
       "      <td>101</td>\n",
       "      <td>119</td>\n",
       "      <td>Placed</td>\n",
       "      <td>$107,000</td>\n",
       "    </tr>\n",
       "    <tr>\n",
       "      <th>3</th>\n",
       "      <td>4</td>\n",
       "      <td>Engineering</td>\n",
       "      <td>75.1</td>\n",
       "      <td>80.7</td>\n",
       "      <td>No</td>\n",
       "      <td>288</td>\n",
       "      <td>334</td>\n",
       "      <td>Not Placed</td>\n",
       "      <td>NaN</td>\n",
       "    </tr>\n",
       "    <tr>\n",
       "      <th>4</th>\n",
       "      <td>5</td>\n",
       "      <td>Finance</td>\n",
       "      <td>60.9</td>\n",
       "      <td>74.9</td>\n",
       "      <td>No</td>\n",
       "      <td>248</td>\n",
       "      <td>252</td>\n",
       "      <td>Not Placed</td>\n",
       "      <td>NaN</td>\n",
       "    </tr>\n",
       "  </tbody>\n",
       "</table>\n",
       "</div>"
      ],
      "text/plain": [
       "   Student ID  Undergrad Degree  Undergrad Grade  MBA Grade Work Experience  \\\n",
       "0           1          Business             68.4       90.2              No   \n",
       "1           2          Business             62.1       92.8              No   \n",
       "2           3  Computer Science             70.2       68.7             Yes   \n",
       "3           4       Engineering             75.1       80.7              No   \n",
       "4           5           Finance             60.9       74.9              No   \n",
       "\n",
       "   Employability (Before)  Employability (After)      Status Annual Salary  \n",
       "0                     252                    276      Placed     $111,000   \n",
       "1                     423                    410  Not Placed           NaN  \n",
       "2                     101                    119      Placed     $107,000   \n",
       "3                     288                    334  Not Placed           NaN  \n",
       "4                     248                    252  Not Placed           NaN  "
      ]
     },
     "execution_count": 9,
     "metadata": {},
     "output_type": "execute_result"
    }
   ],
   "source": [
    "df.head()"
   ]
  },
  {
   "cell_type": "code",
   "execution_count": 67,
   "id": "9d3b6f7f-55e4-4afd-bf41-4408d116780e",
   "metadata": {},
   "outputs": [],
   "source": [
    "n_s = df['Undergrad Degree'].value_counts().sum()"
   ]
  },
  {
   "cell_type": "code",
   "execution_count": 73,
   "id": "7283343c-6d08-4978-b77b-0ce5f84bb641",
   "metadata": {},
   "outputs": [],
   "source": [
    "Probab_dis = df['Undergrad Degree'].value_counts()/n_s"
   ]
  },
  {
   "cell_type": "code",
   "execution_count": 87,
   "id": "70aa5b02-25bd-4ed3-b15a-a3c97b48b55c",
   "metadata": {},
   "outputs": [],
   "source": [
    "fig, ax = plt.subplots(figsize =  (12, 4))\n",
    "sns.barplot(x = Probab_dis, y = Probab_dis.index,color= 'r');"
   ]
  },
  {
   "cell_type": "code",
   "execution_count": 57,
   "id": "eae82911-12e5-4689-8d98-1c015ab4708e",
   "metadata": {},
   "outputs": [
    {
     "data": {
      "text/plain": [
       "<Axes: xlabel='count', ylabel='Undergrad Degree'>"
      ]
     },
     "execution_count": 57,
     "metadata": {},
     "output_type": "execute_result"
    },
    {
     "data": {
      "image/png": "[encoded data removed]",
      "text/plain": [
       "<Figure size 640x480 with 1 Axes>"
      ]
     },
     "metadata": {},
     "output_type": "display_data"
    }
   ],
   "source": [
    "sns.countplot(y = df['Undergrad Degree'], color= 'r')"
   ]
  },
  {
   "cell_type": "code",
   "execution_count": 29,
   "id": "b3844abe-942d-492f-aa9e-8fbb3187d32f",
   "metadata": {},
   "outputs": [],
   "source": [
    "n_s = df['Undergrad Degree'].value_counts().sum()"
   ]
  },
  {
   "cell_type": "code",
   "execution_count": 43,
   "id": "cc62d0c5-d394-4fa6-860d-35d1288ceea3",
   "metadata": {},
   "outputs": [],
   "source": [
    "P_business = Undergrad['Business']/n_s"
   ]
  },
  {
   "cell_type": "code",
   "execution_count": 45,
   "id": "b68cddc0-b0c8-4a19-8e32-c0e2edd558bf",
   "metadata": {},
   "outputs": [
    {
     "data": {
      "text/plain": [
       "0.37894736842105264"
      ]
     },
     "execution_count": 45,
     "metadata": {},
     "output_type": "execute_result"
    }
   ],
   "source": [
    "P_business"
   ]
  },
  {
   "cell_type": "code",
   "execution_count": 33,
   "id": "abae4bc8-4374-4869-963e-824d2b955948",
   "metadata": {},
   "outputs": [],
   "source": [
    "Undergrad = df['Undergrad Degree'].value_counts()"
   ]
  },
  {
   "cell_type": "code",
   "execution_count": 49,
   "id": "97f19025-6a8a-4536-973e-c0add6a5b1fb",
   "metadata": {},
   "outputs": [
    {
     "data": {
      "text/plain": [
       "1.0"
      ]
     },
     "execution_count": 49,
     "metadata": {},
     "output_type": "execute_result"
    }
   ],
   "source": [
    "Undergrad/n_s"
   ]
  },
  {
   "cell_type": "code",
   "execution_count": 41,
   "id": "f36ec0fd-f3b0-4208-8695-72dac4090076",
   "metadata": {},
   "outputs": [
    {
     "data": {
      "text/plain": [
       "13"
      ]
     },
     "execution_count": 41,
     "metadata": {},
     "output_type": "execute_result"
    }
   ],
   "source": [
    "Undergrad['Finance']"
   ]
  },
  {
   "cell_type": "code",
   "execution_count": 37,
   "id": "7b26772e-466c-4f12-a80b-8464feedc76f",
   "metadata": {},
   "outputs": [
    {
     "data": {
      "text/plain": [
       "36"
      ]
     },
     "execution_count": 37,
     "metadata": {},
     "output_type": "execute_result"
    }
   ],
   "source": [
    "Undergrad['Business']"
   ]
  },
  {
   "cell_type": "code",
   "execution_count": 11,
   "id": "959de0dc-6684-4829-a0cc-ffe52f70ad53",
   "metadata": {},
   "outputs": [
    {
     "name": "stdout",
     "output_type": "stream",
     "text": [
      "<class 'pandas.core.frame.DataFrame'>\n",
      "RangeIndex: 95 entries, 0 to 94\n",
      "Data columns (total 9 columns):\n",
      " #   Column                  Non-Null Count  Dtype  \n",
      "---  ------                  --------------  -----  \n",
      " 0   Student ID              95 non-null     int64  \n",
      " 1   Undergrad Degree        95 non-null     object \n",
      " 2   Undergrad Grade         95 non-null     float64\n",
      " 3   MBA Grade               95 non-null     float64\n",
      " 4   Work Experience         95 non-null     object \n",
      " 5   Employability (Before)  95 non-null     int64  \n",
      " 6   Employability (After)   95 non-null     int64  \n",
      " 7   Status                  95 non-null     object \n",
      " 8   Annual Salary           53 non-null     object \n",
      "dtypes: float64(2), int64(3), object(4)\n",
      "memory usage: 6.8+ KB\n"
     ]
    }
   ],
   "source": [
    "df.info()"
   ]
  },
  {
   "cell_type": "code",
   "execution_count": 15,
   "id": "14df1ad7-6f11-41ce-863e-0ba274cb525c",
   "metadata": {},
   "outputs": [
    {
     "data": {
      "text/plain": [
       "count    95.000000\n",
       "mean     80.169474\n",
       "std       6.170780\n",
       "min      62.600000\n",
       "25%      76.050000\n",
       "50%      80.200000\n",
       "75%      84.650000\n",
       "max      96.100000\n",
       "Name: MBA Grade, dtype: float64"
      ]
     },
     "execution_count": 15,
     "metadata": {},
     "output_type": "execute_result"
    }
   ],
   "source": [
    "df['MBA Grade'].describe()"
   ]
  },
  {
   "cell_type": "code",
   "execution_count": 89,
   "id": "c7b8a4bb-318e-4e27-9368-451f29494822",
   "metadata": {},
   "outputs": [
    {
     "data": {
      "text/plain": [
       "0     90.2\n",
       "1     92.8\n",
       "2     68.7\n",
       "3     80.7\n",
       "4     74.9\n",
       "      ... \n",
       "90    77.9\n",
       "91    86.1\n",
       "92    89.9\n",
       "93    83.1\n",
       "94    82.6\n",
       "Name: MBA Grade, Length: 95, dtype: float64"
      ]
     },
     "execution_count": 89,
     "metadata": {},
     "output_type": "execute_result"
    }
   ],
   "source": [
    "df['MBA Grade']"
   ]
  },
  {
   "cell_type": "code",
   "execution_count": 105,
   "id": "b70d51a5-9c45-4e2a-b07c-169c9bd81a22",
   "metadata": {},
   "outputs": [
    {
     "data": {
      "text/plain": [
       "array([ 60,  65,  70,  75,  80,  85,  90,  95, 100])"
      ]
     },
     "execution_count": 105,
     "metadata": {},
     "output_type": "execute_result"
    }
   ],
   "source": [
    "np.arange(60, 101, 5)"
   ]
  },
  {
   "cell_type": "code",
   "execution_count": 125,
   "id": "74ff7bcb-c25a-4a73-a318-837f9c7beacb",
   "metadata": {},
   "outputs": [
    {
     "data": {
      "image/png": "[encoded data removed]",
      "text/plain": [
       "<Figure size 1000x500 with 1 Axes>"
      ]
     },
     "metadata": {},
     "output_type": "display_data"
    }
   ],
   "source": [
    "fig, ax = plt.subplots(figsize = (10, 5))\n",
    "sns.histplot( x = df['MBA Grade'],kde=True, bins =np.arange(60, 101, 5) )\n",
    "ax.bar_label(ax.containers[1], color = 'r')\n",
    "ax.set_xticks(np.arange(60, 101, 5))\n",
    "ax.set_title('Distribution of MBA Grades', fontsize=16, fontweight='bold')\n",
    "ax.set_xlabel('Grade', fontsize=14)\n",
    "ax.set_ylabel('Frequency', fontsize=14)\n",
    "# fig.savefig()\n",
    "plt.show()"
   ]
  },
  {
   "cell_type": "code",
   "execution_count": 127,
   "id": "5869edbe-16ae-4163-96fc-d427f1c30396",
   "metadata": {},
   "outputs": [],
   "source": [
    "df1 = pd.read_csv('https://raw.githubusercontent.com/ManonYa09/Statistics_with_Python_G7/main/Dataset/0.%20education_districtwise.csv')"
   ]
  },
  {
   "cell_type": "code",
   "execution_count": 143,
   "id": "c67f34bb-1134-49a9-8567-a38cdf2f11c2",
   "metadata": {},
   "outputs": [],
   "source": [
    "df1.head()"
   ]
  },
  {
   "cell_type": "code",
   "execution_count": 149,
   "id": "609b5e4c-4797-40c5-ac33-37e35bab6bf0",
   "metadata": {},
   "outputs": [],
   "source": [
    "df1.info()"
   ]
  },
  {
   "cell_type": "code",
   "execution_count": 137,
   "id": "8648b134-f5d0-4d9a-8fc1-ee6ca93b7e39",
   "metadata": {},
   "outputs": [],
   "source": [
    "df1.dropna(inplace=True)"
   ]
  },
  {
   "cell_type": "code",
   "execution_count": 167,
   "id": "9dc979c4-3f99-40bb-9364-231863abee51",
   "metadata": {},
   "outputs": [
    {
     "data": {
      "text/plain": [
       "count    634.000000\n",
       "mean      73.395189\n",
       "std       10.098460\n",
       "min       37.220000\n",
       "25%       66.437500\n",
       "50%       73.490000\n",
       "75%       80.815000\n",
       "max       98.760000\n",
       "Name: OVERALL_LI, dtype: float64"
      ]
     },
     "execution_count": 167,
     "metadata": {},
     "output_type": "execute_result"
    }
   ],
   "source": [
    "df1['OVERALL_LI'].describe()"
   ]
  },
  {
   "cell_type": "code",
   "execution_count": 165,
   "id": "b10ad4c2-2401-408b-957a-8675043d50bb",
   "metadata": {},
   "outputs": [
    {
     "data": {
      "image/png": "[encoded data removed]",
      "text/plain": [
       "<Figure size 1200x400 with 1 Axes>"
      ]
     },
     "metadata": {},
     "output_type": "display_data"
    }
   ],
   "source": [
    "fig, ax =plt.subplots(figsize = (12, 4))\n",
    "sns.histplot(x = df1['OVERALL_LI'], bins = np.arange(35, 101,5), kde = True)\n",
    "ax.bar_label(ax.containers[1], color = 'r')\n",
    "ax.set_xticks(np.arange(35, 101,5));"
   ]
  },
  {
   "cell_type": "code",
   "execution_count": 121,
   "id": "1b857f28-5a58-4c91-9f71-b573c4bff868",
   "metadata": {},
   "outputs": [
    {
     "data": {
      "text/plain": [
       "count    95.000000\n",
       "mean     80.169474\n",
       "std       6.170780\n",
       "min      62.600000\n",
       "25%      76.050000\n",
       "50%      80.200000\n",
       "75%      84.650000\n",
       "max      96.100000\n",
       "Name: MBA Grade, dtype: float64"
      ]
     },
     "execution_count": 121,
     "metadata": {},
     "output_type": "execute_result"
    }
   ],
   "source": [
    "df['MBA Grade'].describe()"
   ]
  },
  {
   "cell_type": "code",
   "execution_count": 13,
   "id": "16f5ae3d-9c81-4673-8781-789b7cce05ce",
   "metadata": {},
   "outputs": [
    {
     "data": {
      "image/png": "[encoded data removed]",
      "text/plain": [
       "<Figure size 800x400 with 1 Axes>"
      ]
     },
     "metadata": {},
     "output_type": "display_data"
    }
   ],
   "source": [
    "fig, ax = plt.subplots(figsize = (8, 4))\n",
    "sns.histplot(x=df['MBA Grade'], bins=np.arange(60, 100, 5), \n",
    "             kde=True, color='royalblue', edgecolor='black')\n",
    "ax.set_xticks(np.arange(60, 100, 5))\n",
    "ax.set_title('Distribution of MBA Grades', fontsize=16, fontweight='bold')\n",
    "ax.set_xlabel('Grade', fontsize=14)\n",
    "ax.set_ylabel('Frequency', fontsize=14)\n",
    "\n",
    "for container in ax.containers:\n",
    "    ax.bar_label(container, padding=3, fontsize=10)\n",
    "sns.despine()"
   ]
  },
  {
   "cell_type": "code",
   "execution_count": 28,
   "id": "a879c369-86ca-4078-bbbe-ce5f67e4ad36",
   "metadata": {},
   "outputs": [
    {
     "data": {
      "text/plain": [
       "count    95.000000\n",
       "mean     80.169474\n",
       "std       6.170780\n",
       "min      62.600000\n",
       "25%      76.050000\n",
       "50%      80.200000\n",
       "75%      84.650000\n",
       "max      96.100000\n",
       "Name: MBA Grade, dtype: float64"
      ]
     },
     "execution_count": 28,
     "metadata": {},
     "output_type": "execute_result"
    }
   ],
   "source": [
    "df['MBA Grade'].describe()"
   ]
  },
  {
   "cell_type": "markdown",
   "id": "cc352122-cb04-4f35-b884-e9899c92f76e",
   "metadata": {},
   "source": [
    "#### 2.2 Z Score"
   ]
  },
  {
   "cell_type": "markdown",
   "id": "d06251b7-d9a2-4ff0-99c0-0e15a94881ad",
   "metadata": {},
   "source": [
    "**Reference**: [scipy.stats.zscore](https://docs.scipy.org/doc/scipy/reference/generated/scipy.stats.zscore.html)"
   ]
  },
  {
   "cell_type": "code",
   "execution_count": 169,
   "id": "7f08ba57-c17f-47df-bfa1-e968a9f02da3",
   "metadata": {},
   "outputs": [],
   "source": [
    "from scipy import stats "
   ]
  },
  {
   "cell_type": "code",
   "execution_count": 173,
   "id": "40889364-6aa8-4d64-9803-9e8abeba37a7",
   "metadata": {},
   "outputs": [
    {
     "data": {
      "text/plain": [
       "count    95.000000\n",
       "mean     80.169474\n",
       "std       6.170780\n",
       "min      62.600000\n",
       "25%      76.050000\n",
       "50%      80.200000\n",
       "75%      84.650000\n",
       "max      96.100000\n",
       "Name: MBA Grade, dtype: float64"
      ]
     },
     "execution_count": 173,
     "metadata": {},
     "output_type": "execute_result"
    }
   ],
   "source": [
    "df['MBA Grade'].describe()"
   ]
  },
  {
   "cell_type": "code",
   "execution_count": 179,
   "id": "10e9ef82-fcfa-4b7a-8e4b-17ca8e33e9bd",
   "metadata": {},
   "outputs": [
    {
     "data": {
      "text/plain": [
       "-0.005"
      ]
     },
     "execution_count": 179,
     "metadata": {},
     "output_type": "execute_result"
    }
   ],
   "source": [
    "-5*10**(-3)"
   ]
  },
  {
   "cell_type": "code",
   "execution_count": 177,
   "id": "f9b1d4ce-3a4d-4fa5-86f3-3e03ced2276a",
   "metadata": {},
   "outputs": [
    {
     "data": {
      "text/plain": [
       "-5.3466e-16"
      ]
     },
     "execution_count": 177,
     "metadata": {},
     "output_type": "execute_result"
    }
   ],
   "source": [
    "-5.346600e-16"
   ]
  },
  {
   "cell_type": "code",
   "execution_count": 175,
   "id": "90208dcb-a966-40c2-a680-76942cec3ca1",
   "metadata": {},
   "outputs": [
    {
     "data": {
      "text/plain": [
       "count    9.500000e+01\n",
       "mean    -5.346600e-16\n",
       "std      1.005305e+00\n",
       "min     -2.862309e+00\n",
       "25%     -6.711190e-01\n",
       "50%      4.973157e-03\n",
       "75%      7.299395e-01\n",
       "max      2.595302e+00\n",
       "Name: MBA Grade, dtype: float64"
      ]
     },
     "execution_count": 175,
     "metadata": {},
     "output_type": "execute_result"
    }
   ],
   "source": [
    "stats.zscore(df['MBA Grade']).describe()"
   ]
  },
  {
   "cell_type": "code",
   "execution_count": 193,
   "id": "c07290e7-f83c-46b0-8103-94f3015cb8d4",
   "metadata": {},
   "outputs": [
    {
     "data": {
      "text/plain": [
       "count    634.000000\n",
       "mean      73.395189\n",
       "std       10.098460\n",
       "min       37.220000\n",
       "25%       66.437500\n",
       "50%       73.490000\n",
       "75%       80.815000\n",
       "max       98.760000\n",
       "Name: OVERALL_LI, dtype: float64"
      ]
     },
     "execution_count": 193,
     "metadata": {},
     "output_type": "execute_result"
    }
   ],
   "source": [
    "df1['OVERALL_LI'].describe()"
   ]
  },
  {
   "cell_type": "code",
   "execution_count": 187,
   "id": "ca648148-b4db-4ce1-9c89-a1a43e6246cc",
   "metadata": {
    "scrolled": true
   },
   "outputs": [],
   "source": [
    "df1['Overall_Li_z_score'] = stats.zscore(df1['OVERALL_LI'])"
   ]
  },
  {
   "cell_type": "code",
   "execution_count": 191,
   "id": "0f42673c-1683-404b-89bd-e29f54d5d71a",
   "metadata": {},
   "outputs": [
    {
     "data": {
      "text/html": [
       "<div>\n",
       "<style scoped>\n",
       "    .dataframe tbody tr th:only-of-type {\n",
       "        vertical-align: middle;\n",
       "    }\n",
       "\n",
       "    .dataframe tbody tr th {\n",
       "        vertical-align: top;\n",
       "    }\n",
       "\n",
       "    .dataframe thead th {\n",
       "        text-align: right;\n",
       "    }\n",
       "</style>\n",
       "<table border=\"1\" class=\"dataframe\">\n",
       "  <thead>\n",
       "    <tr style=\"text-align: right;\">\n",
       "      <th></th>\n",
       "      <th>DISTNAME</th>\n",
       "      <th>STATNAME</th>\n",
       "      <th>BLOCKS</th>\n",
       "      <th>VILLAGES</th>\n",
       "      <th>CLUSTERS</th>\n",
       "      <th>TOTPOPULAT</th>\n",
       "      <th>OVERALL_LI</th>\n",
       "      <th>Overall_Li_z_score</th>\n",
       "    </tr>\n",
       "  </thead>\n",
       "  <tbody>\n",
       "    <tr>\n",
       "      <th>434</th>\n",
       "      <td>DISTRICT461</td>\n",
       "      <td>STATE31</td>\n",
       "      <td>4</td>\n",
       "      <td>360</td>\n",
       "      <td>53</td>\n",
       "      <td>532791.0</td>\n",
       "      <td>42.67</td>\n",
       "      <td>-3.044964</td>\n",
       "    </tr>\n",
       "    <tr>\n",
       "      <th>494</th>\n",
       "      <td>DISTRICT429</td>\n",
       "      <td>STATE22</td>\n",
       "      <td>6</td>\n",
       "      <td>612</td>\n",
       "      <td>62</td>\n",
       "      <td>728677.0</td>\n",
       "      <td>37.22</td>\n",
       "      <td>-3.585076</td>\n",
       "    </tr>\n",
       "  </tbody>\n",
       "</table>\n",
       "</div>"
      ],
      "text/plain": [
       "        DISTNAME STATNAME  BLOCKS  VILLAGES  CLUSTERS  TOTPOPULAT  OVERALL_LI  \\\n",
       "434  DISTRICT461  STATE31       4       360        53    532791.0       42.67   \n",
       "494  DISTRICT429  STATE22       6       612        62    728677.0       37.22   \n",
       "\n",
       "     Overall_Li_z_score  \n",
       "434           -3.044964  \n",
       "494           -3.585076  "
      ]
     },
     "execution_count": 191,
     "metadata": {},
     "output_type": "execute_result"
    }
   ],
   "source": [
    "df1[(df1['Overall_Li_z_score']<-3) | (df1['Overall_Li_z_score']>3)]"
   ]
  },
  {
   "cell_type": "markdown",
   "id": "4abb6f7c-c879-4ae7-878e-05a8f40a9da6",
   "metadata": {},
   "source": [
    "#### 2.3 Empirical Rule"
   ]
  },
  {
   "cell_type": "code",
   "execution_count": 196,
   "id": "32baa388-ab8b-4418-af30-d0314f5d3c95",
   "metadata": {},
   "outputs": [],
   "source": [
    "mean = df1['OVERALL_LI'].mean()\n",
    "std = df1['OVERALL_LI'].std(ddof=0)"
   ]
  },
  {
   "cell_type": "code",
   "execution_count": 274,
   "id": "1a898ddb-4537-414b-970a-9b98661e68a2",
   "metadata": {},
   "outputs": [
    {
     "data": {
      "text/plain": [
       "Index(['Student ID', 'Undergrad Degree', 'Undergrad Grade', 'MBA Grade',\n",
       "       'Work Experience', 'Employability (Before)', 'Employability (After)',\n",
       "       'Status', 'Annual Salary'],\n",
       "      dtype='object')"
      ]
     },
     "execution_count": 274,
     "metadata": {},
     "output_type": "execute_result"
    }
   ],
   "source": [
    "df.columns"
   ]
  },
  {
   "cell_type": "code",
   "execution_count": 276,
   "id": "47e13509-f574-498f-9cd4-f72df5e2e9d7",
   "metadata": {},
   "outputs": [],
   "source": [
    "def empirical_rule(df1,column ):\n",
    "    \n",
    "    mean = df1[column].mean()\n",
    "    std = df1[column].std(ddof=0)\n",
    "    num_row = df1.shape[0]  \n",
    "    \n",
    "    within_one_std = df1[(df1[column]>=(mean-std)) & (df1[column]<=(mean+std))]\n",
    "    within_two_std = df1[(df1[column]>=(mean-2*std)) & (df1[column]<=(mean+2*std))]\n",
    "    within_three_std = df1[(df1[column]>=(mean-3*std)) & (df1[column]<=(mean+3*std))]\n",
    "    \n",
    "    one_std = within_one_std.shape[0]/num_row\n",
    "    two_std = within_two_std.shape[0]/num_row\n",
    "    three_std = within_three_std.shape[0]/num_row\n",
    "    \n",
    "    data_rule = {'Empirical Rule':['within_one_std','within_two_std','within_three_std'],\n",
    "                 \n",
    "                'Empirical':[f'{round(one_std*100, 2)}%',\n",
    "                             f'{round(two_std*100,2)}%',\n",
    "                             f'{round(three_std*100,2)}%'],\n",
    "                 \n",
    "                 'Values':[f'{round((mean-std), 2)}-{round((mean+std),2)}',\n",
    "                           f'{round((mean-2*std),2)}-{round((mean+2*std),2)}',\n",
    "                          f'{round((mean-3*std),2)}-{round((mean+3*std),2)}']}\n",
    "    data_rule = pd.DataFrame(data_rule)\n",
    "    \n",
    "    return data_rule "
   ]
  },
  {
   "cell_type": "code",
   "execution_count": 280,
   "id": "7a895467-830f-436d-8c97-d7e93cad6647",
   "metadata": {},
   "outputs": [
    {
     "data": {
      "text/plain": [
       "Index(['DISTNAME', 'STATNAME', 'BLOCKS', 'VILLAGES', 'CLUSTERS', 'TOTPOPULAT',\n",
       "       'OVERALL_LI', 'Overall_Li_z_score'],\n",
       "      dtype='object')"
      ]
     },
     "execution_count": 280,
     "metadata": {},
     "output_type": "execute_result"
    }
   ],
   "source": [
    "df1.columns"
   ]
  },
  {
   "cell_type": "code",
   "execution_count": 290,
   "id": "809559ef-11e6-400f-bb11-ddff3bb06fda",
   "metadata": {},
   "outputs": [
    {
     "data": {
      "text/html": [
       "<div>\n",
       "<style scoped>\n",
       "    .dataframe tbody tr th:only-of-type {\n",
       "        vertical-align: middle;\n",
       "    }\n",
       "\n",
       "    .dataframe tbody tr th {\n",
       "        vertical-align: top;\n",
       "    }\n",
       "\n",
       "    .dataframe thead th {\n",
       "        text-align: right;\n",
       "    }\n",
       "</style>\n",
       "<table border=\"1\" class=\"dataframe\">\n",
       "  <thead>\n",
       "    <tr style=\"text-align: right;\">\n",
       "      <th></th>\n",
       "      <th>Empirical Rule</th>\n",
       "      <th>Empirical</th>\n",
       "      <th>Values</th>\n",
       "    </tr>\n",
       "  </thead>\n",
       "  <tbody>\n",
       "    <tr>\n",
       "      <th>0</th>\n",
       "      <td>within_one_std</td>\n",
       "      <td>68.42%</td>\n",
       "      <td>74.03-86.31</td>\n",
       "    </tr>\n",
       "    <tr>\n",
       "      <th>1</th>\n",
       "      <td>within_two_std</td>\n",
       "      <td>94.74%</td>\n",
       "      <td>67.89-92.45</td>\n",
       "    </tr>\n",
       "    <tr>\n",
       "      <th>2</th>\n",
       "      <td>within_three_std</td>\n",
       "      <td>100.0%</td>\n",
       "      <td>61.75-98.58</td>\n",
       "    </tr>\n",
       "  </tbody>\n",
       "</table>\n",
       "</div>"
      ],
      "text/plain": [
       "     Empirical Rule Empirical       Values\n",
       "0    within_one_std    68.42%  74.03-86.31\n",
       "1    within_two_std    94.74%  67.89-92.45\n",
       "2  within_three_std    100.0%  61.75-98.58"
      ]
     },
     "execution_count": 290,
     "metadata": {},
     "output_type": "execute_result"
    }
   ],
   "source": [
    "empirical_rule(df1 = df,column='MBA Grade' )"
   ]
  },
  {
   "cell_type": "code",
   "execution_count": 282,
   "id": "eeeaeacf-05da-41d7-803f-8a68e2d37fd2",
   "metadata": {},
   "outputs": [
    {
     "data": {
      "text/html": [
       "<div>\n",
       "<style scoped>\n",
       "    .dataframe tbody tr th:only-of-type {\n",
       "        vertical-align: middle;\n",
       "    }\n",
       "\n",
       "    .dataframe tbody tr th {\n",
       "        vertical-align: top;\n",
       "    }\n",
       "\n",
       "    .dataframe thead th {\n",
       "        text-align: right;\n",
       "    }\n",
       "</style>\n",
       "<table border=\"1\" class=\"dataframe\">\n",
       "  <thead>\n",
       "    <tr style=\"text-align: right;\">\n",
       "      <th></th>\n",
       "      <th>Empirical Rule</th>\n",
       "      <th>Empirical</th>\n",
       "      <th>Values</th>\n",
       "    </tr>\n",
       "  </thead>\n",
       "  <tbody>\n",
       "    <tr>\n",
       "      <th>0</th>\n",
       "      <td>within_one_std</td>\n",
       "      <td>66.4%</td>\n",
       "      <td>63.3-83.49</td>\n",
       "    </tr>\n",
       "    <tr>\n",
       "      <th>1</th>\n",
       "      <td>within_two_std</td>\n",
       "      <td>95.43%</td>\n",
       "      <td>53.21-93.58</td>\n",
       "    </tr>\n",
       "    <tr>\n",
       "      <th>2</th>\n",
       "      <td>within_three_std</td>\n",
       "      <td>99.68%</td>\n",
       "      <td>43.12-103.67</td>\n",
       "    </tr>\n",
       "  </tbody>\n",
       "</table>\n",
       "</div>"
      ],
      "text/plain": [
       "     Empirical Rule Empirical        Values\n",
       "0    within_one_std     66.4%    63.3-83.49\n",
       "1    within_two_std    95.43%   53.21-93.58\n",
       "2  within_three_std    99.68%  43.12-103.67"
      ]
     },
     "execution_count": 282,
     "metadata": {},
     "output_type": "execute_result"
    }
   ],
   "source": [
    "empirical_rule(df1, column='OVERALL_LI')"
   ]
  },
  {
   "cell_type": "code",
   "execution_count": 214,
   "id": "2ceb7e6f-3318-40c3-ac39-fc8b259133e5",
   "metadata": {},
   "outputs": [
    {
     "data": {
      "text/plain": [
       "0.9542586750788643"
      ]
     },
     "execution_count": 214,
     "metadata": {},
     "output_type": "execute_result"
    }
   ],
   "source": [
    "within_two_std.shape[0]/df1.shape[0]"
   ]
  },
  {
   "cell_type": "code",
   "execution_count": 216,
   "id": "85ba7958-406d-4cc8-9a26-2d50b0f63964",
   "metadata": {},
   "outputs": [
    {
     "data": {
      "text/plain": [
       "0.9968454258675079"
      ]
     },
     "execution_count": 216,
     "metadata": {},
     "output_type": "execute_result"
    }
   ],
   "source": [
    "within_three_std.shape[0]/df1.shape[0]"
   ]
  },
  {
   "cell_type": "code",
   "execution_count": 206,
   "id": "5c4156bf-88c3-4dcd-84c4-776abe853bd6",
   "metadata": {},
   "outputs": [
    {
     "data": {
      "text/plain": [
       "0.6640378548895899"
      ]
     },
     "execution_count": 206,
     "metadata": {},
     "output_type": "execute_result"
    }
   ],
   "source": [
    "df1[(df1['OVERALL_LI']>=(mean-std)) & (df1['OVERALL_LI']<=(mean+std))].shape[0]/len(df1)"
   ]
  },
  {
   "cell_type": "markdown",
   "id": "5400b2d7-e05d-4631-8589-189fa796299c",
   "metadata": {},
   "source": [
    "<p align=\"center\"> \n",
    "  <img width=\"650\" height=\"350\" src=\"https://miro.medium.com/max/1400/1*IZ2II2HYKeoMrdLU5jW6Dw.png\"> \n",
    "</p>"
   ]
  },
  {
   "cell_type": "markdown",
   "id": "8c6b16c0-058d-466f-ac7f-07d87d5cd1df",
   "metadata": {},
   "source": [
    "##### Instructions\n",
    "\n",
    "1. **Filter Data Within One Standard Deviation**:\n",
    "   - Extract the subset of the data that falls within one standard deviation of the mean from ($\\mu - \\sigma$) to ($\\mu + \\sigma$).\n",
    "   - Calculate and report the probability of a data point falling within this range.\n",
    "\n",
    "2. **Filter Data Within Two Standard Deviations**:\n",
    "   - Extract the subset of data that falls within two standard deviations of the mean (from ($\\mu - 2*\\sigma$) to ($\\mu + 2*\\sigma$).\n",
    "   - Calculate and report the probability of a data point falling within this range.\n",
    "\n",
    "3. **Filter Data Within Three Standard Deviations**:\n",
    "   - Extract the subset of data that falls within three standard deviations of the mean (from ($\\mu - 3*\\sigma$) to ($\\mu + 3*\\sigma$).\n",
    "   - Calculate and report the probability of a data point falling within this range.\n",
    "\n",
    "**Notes**:\n",
    "- Ensure that your calculations include only the filtered data points within each specified range.\n",
    "- Provide both the number of data points and the probability for each range, expressed as a percentage of the total dataset.\n",
    "\n",
    "**Hints**:\n",
    "- The probability can be calculated by dividing the count of data points within the specified range by the total count of data points in the dataset.\n",
    "- Use statistical functions like `mean()` and `std()` to determine the mean and standard deviation values.\n"
   ]
  },
  {
   "cell_type": "markdown",
   "id": "2dc669a5-a059-432a-b1f2-e9ed2e9120ff",
   "metadata": {},
   "source": [
    "### 3. Detection Outlier using normal distribution (empircal rule)"
   ]
  },
  {
   "cell_type": "code",
   "execution_count": 224,
   "id": "ab9f0480-6eb1-49cf-95c3-bc7af9b563b9",
   "metadata": {},
   "outputs": [],
   "source": [
    "def outlier_detection(df):\n",
    "    Q1 = df.quantile(0.25)\n",
    "    Q3 = df.quantile(0.75)\n",
    "    IQR = Q3 - Q1\n",
    "    upper_end = Q3 + 1.5 * IQR\n",
    "    lower_end = Q1 - 1.5 * IQR\n",
    "    outliers = df[(df > upper_end) | (df < lower_end)]\n",
    "    return outliers"
   ]
  },
  {
   "cell_type": "code",
   "execution_count": 226,
   "id": "7cb804ea-c5e6-4eb2-98f5-495cbccaaec8",
   "metadata": {},
   "outputs": [
    {
     "data": {
      "text/html": [
       "<div>\n",
       "<style scoped>\n",
       "    .dataframe tbody tr th:only-of-type {\n",
       "        vertical-align: middle;\n",
       "    }\n",
       "\n",
       "    .dataframe tbody tr th {\n",
       "        vertical-align: top;\n",
       "    }\n",
       "\n",
       "    .dataframe thead th {\n",
       "        text-align: right;\n",
       "    }\n",
       "</style>\n",
       "<table border=\"1\" class=\"dataframe\">\n",
       "  <thead>\n",
       "    <tr style=\"text-align: right;\">\n",
       "      <th></th>\n",
       "      <th>DISTNAME</th>\n",
       "      <th>STATNAME</th>\n",
       "      <th>BLOCKS</th>\n",
       "      <th>VILLAGES</th>\n",
       "      <th>CLUSTERS</th>\n",
       "      <th>TOTPOPULAT</th>\n",
       "      <th>OVERALL_LI</th>\n",
       "      <th>Overall_Li_z_score</th>\n",
       "    </tr>\n",
       "  </thead>\n",
       "  <tbody>\n",
       "    <tr>\n",
       "      <th>434</th>\n",
       "      <td>DISTRICT461</td>\n",
       "      <td>STATE31</td>\n",
       "      <td>4</td>\n",
       "      <td>360</td>\n",
       "      <td>53</td>\n",
       "      <td>532791.0</td>\n",
       "      <td>42.67</td>\n",
       "      <td>-3.044964</td>\n",
       "    </tr>\n",
       "    <tr>\n",
       "      <th>494</th>\n",
       "      <td>DISTRICT429</td>\n",
       "      <td>STATE22</td>\n",
       "      <td>6</td>\n",
       "      <td>612</td>\n",
       "      <td>62</td>\n",
       "      <td>728677.0</td>\n",
       "      <td>37.22</td>\n",
       "      <td>-3.585076</td>\n",
       "    </tr>\n",
       "  </tbody>\n",
       "</table>\n",
       "</div>"
      ],
      "text/plain": [
       "        DISTNAME STATNAME  BLOCKS  VILLAGES  CLUSTERS  TOTPOPULAT  OVERALL_LI  \\\n",
       "434  DISTRICT461  STATE31       4       360        53    532791.0       42.67   \n",
       "494  DISTRICT429  STATE22       6       612        62    728677.0       37.22   \n",
       "\n",
       "     Overall_Li_z_score  \n",
       "434           -3.044964  \n",
       "494           -3.585076  "
      ]
     },
     "execution_count": 226,
     "metadata": {},
     "output_type": "execute_result"
    }
   ],
   "source": [
    "df1[(df1['Overall_Li_z_score']<-3) | (df1['Overall_Li_z_score']>3)]"
   ]
  },
  {
   "cell_type": "code",
   "execution_count": 220,
   "id": "79cacfcd-57c0-4125-9401-b7ac5d94a6bd",
   "metadata": {},
   "outputs": [
    {
     "data": {
      "text/plain": [
       "434    42.67\n",
       "469    44.45\n",
       "494    37.22\n",
       "Name: OVERALL_LI, dtype: float64"
      ]
     },
     "execution_count": 220,
     "metadata": {},
     "output_type": "execute_result"
    }
   ],
   "source": [
    "outlier_detection(df1['OVERALL_LI'])"
   ]
  },
  {
   "cell_type": "code",
   "execution_count": 39,
   "id": "af7cf949-81c5-4dc8-8cd9-5e86638b42e2",
   "metadata": {},
   "outputs": [],
   "source": [
    "education_districtwise = pd.read_csv('education_districtwise.csv')\n",
    "education_districtwise = education_districtwise.dropna()"
   ]
  },
  {
   "cell_type": "markdown",
   "id": "f4a27f6a-e9d8-4e42-a7d8-fd3622d560b1",
   "metadata": {},
   "source": [
    "#### find outliers"
   ]
  },
  {
   "cell_type": "markdown",
   "id": "fdb0bea7-a2e1-4bd1-83d7-1a0e6cb72468",
   "metadata": {},
   "source": [
    "Our analysis gives us important information to share. The **government** may want to provide more funding and resources to these two districts in the hopes of significantly improving literacy. "
   ]
  },
  {
   "cell_type": "code",
   "execution_count": null,
   "id": "019fec9c-f4a9-4469-8659-7174cc4c60b9",
   "metadata": {},
   "outputs": [],
   "source": []
  }
 ],
 "metadata": {
  "kernelspec": {
   "display_name": "Python 3 (ipykernel)",
   "language": "python",
   "name": "python3"
  },
  "language_info": {
   "codemirror_mode": {
    "name": "ipython",
    "version": 3
   },
   "file_extension": ".py",
   "mimetype": "text/x-python",
   "name": "python",
   "nbconvert_exporter": "python",
   "pygments_lexer": "ipython3",
   "version": "3.11.5"
  }
 },
 "nbformat": 4,
 "nbformat_minor": 5
}
