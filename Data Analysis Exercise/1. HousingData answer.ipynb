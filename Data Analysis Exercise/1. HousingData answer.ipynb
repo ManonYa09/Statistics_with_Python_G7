{
 "cells": [
  {
   "cell_type": "markdown",
   "id": "c24d224a-c663-4fcf-bac6-72c7884e31c5",
   "metadata": {},
   "source": [
    "<div style=\"padding:20px;\n",
    "            color:white;\n",
    "            margin:10;\n",
    "            font-size:170%;\n",
    "            text-align:left;\n",
    "            display:fill;\n",
    "            border-radius:5px;\n",
    "            background-color:#CA6F1E;\n",
    "            overflow:hidden;\n",
    "            font-weight:700\"><span style='color:#283747'></span>Data Analysis with Housing Data </div>"
   ]
  },
  {
   "cell_type": "markdown",
   "id": "3104543a-5226-4f8d-b1fa-17ed151e106a",
   "metadata": {},
   "source": [
    "\n",
    "<a id=\"toc\"></a> \n",
    "<div class=\"alert alert-block alert-info\" style=\"margin-top: 20px\">\n",
    "<hr>\n",
    "\n",
    "- [0. Importing Libraries](#importing_libraries)\n",
    "- [1. Loading the Dataset](#loading_dataset)\n",
    "    \n",
    "- [2. Basic Exploration](#basic_data_exploration) \n",
    "    \n",
    "- [3. Data Cleaning](#data_cleaning)\n",
    "   \n",
    "<hr>"
   ]
  },
  {
   "cell_type": "markdown",
   "id": "cc5dbaf5-e297-4335-8459-408094295e42",
   "metadata": {},
   "source": [
    "<a id='importing_libraries'></a>\n",
    "### 1. Importing Libraries"
   ]
  },
  {
   "cell_type": "code",
   "execution_count": 2,
   "id": "6dabbad3",
   "metadata": {},
   "outputs": [],
   "source": [
    "import pandas as pd\n",
    "import numpy as np\n",
    "import matplotlib.pyplot as plt\n",
    "# from matplotlib import pyplot as plt"
   ]
  },
  {
   "cell_type": "markdown",
   "id": "9f9419e4-7f55-4146-bdaa-05350be58b47",
   "metadata": {},
   "source": [
    "<a id='loading_dataset'></a>\n",
    "### 2. Loading the Dataset"
   ]
  },
  {
   "cell_type": "code",
   "execution_count": null,
   "id": "699dc5a4-9f6c-4d99-b221-5c05edb9baaa",
   "metadata": {},
   "outputs": [],
   "source": [
    "# df = pd.read_csv('https://raw.githubusercontent.com/ManonYa09/Fundametal_Data_Science_G8/main/Dataset/3.%20housing_data.csv')\n",
    "# loading data from github "
   ]
  },
  {
   "cell_type": "code",
   "execution_count": null,
   "id": "b53e6c21-2d88-4176-b6be-472172415442",
   "metadata": {},
   "outputs": [],
   "source": [
    "# df.to_csv('Housing_data.csv', index = False) ## export data to csv file\n",
    "# df.to_excel('Housing data.xlsx', index=False)"
   ]
  },
  {
   "cell_type": "code",
   "execution_count": 4,
   "id": "29e7ea29-6633-44a9-bcbd-b8e8c537e482",
   "metadata": {},
   "outputs": [],
   "source": [
    "## Laoding the data from local \n",
    "df = pd.read_csv('Housing_data.csv')"
   ]
  },
  {
   "cell_type": "markdown",
   "id": "9c7617d0-deab-458e-b81e-79a45e6d99bc",
   "metadata": {},
   "source": [
    "<a id='basic_data_exploration'></a>\n",
    "### 3. Basic Data Exploration or Quick Exploration\n",
    "```python\n",
    "- df.head() # Displays the first 5 rows of the DataFrame.\n",
    "- df.shape # show the numbers of rows and columns of dataset\n",
    "- df.iloc[[rows], [columns]] # df.iloc[[0, 1], [2, 3]]  # Selects rows 0 and 1, columns 2 and 3\n",
    "- df.loc[[rows], [columns]] # df.loc[[0, 1], ['column1', 'column2']]  # Selects rows 0 and 1, columns 'column1' and 'column2'\n",
    "- df.dtypes # Returns the data types of each column.\n",
    "- df.info() # Provides a concise summary of the DataFrame, including the number of non-null entries and data types.\n",
    "- df.describe() # Generates descriptive statistics for numeric columns, such as count, mean, and standard deviation.\n",
    "```"
   ]
  },
  {
   "cell_type": "code",
   "execution_count": 6,
   "id": "de40ba4b-a59e-4b9e-8b97-00222e7aa3f4",
   "metadata": {},
   "outputs": [
    {
     "data": {
      "text/html": [
       "<div>\n",
       "<style scoped>\n",
       "    .dataframe tbody tr th:only-of-type {\n",
       "        vertical-align: middle;\n",
       "    }\n",
       "\n",
       "    .dataframe tbody tr th {\n",
       "        vertical-align: top;\n",
       "    }\n",
       "\n",
       "    .dataframe thead th {\n",
       "        text-align: right;\n",
       "    }\n",
       "</style>\n",
       "<table border=\"1\" class=\"dataframe\">\n",
       "  <thead>\n",
       "    <tr style=\"text-align: right;\">\n",
       "      <th></th>\n",
       "      <th>region_name</th>\n",
       "      <th>period_begin</th>\n",
       "      <th>period_end</th>\n",
       "      <th>total_homes_sold</th>\n",
       "      <th>inventory</th>\n",
       "      <th>active_listings</th>\n",
       "      <th>age_of_inventory</th>\n",
       "      <th>median_active_list_price</th>\n",
       "      <th>months_of_supply</th>\n",
       "    </tr>\n",
       "  </thead>\n",
       "  <tbody>\n",
       "    <tr>\n",
       "      <th>0</th>\n",
       "      <td>Appling County, GA</td>\n",
       "      <td>2020-04-27</td>\n",
       "      <td>2020-07-19</td>\n",
       "      <td>NaN</td>\n",
       "      <td>1.0</td>\n",
       "      <td>1.0</td>\n",
       "      <td>222.7</td>\n",
       "      <td>136195.8</td>\n",
       "      <td>NaN</td>\n",
       "    </tr>\n",
       "    <tr>\n",
       "      <th>1</th>\n",
       "      <td>Tooele County, UT</td>\n",
       "      <td>2018-08-27</td>\n",
       "      <td>2018-11-18</td>\n",
       "      <td>325.0</td>\n",
       "      <td>NaN</td>\n",
       "      <td>NaN</td>\n",
       "      <td>NaN</td>\n",
       "      <td>NaN</td>\n",
       "      <td>NaN</td>\n",
       "    </tr>\n",
       "    <tr>\n",
       "      <th>2</th>\n",
       "      <td>Johnson County, TX</td>\n",
       "      <td>2019-09-23</td>\n",
       "      <td>2019-12-15</td>\n",
       "      <td>577.0</td>\n",
       "      <td>717.0</td>\n",
       "      <td>778.0</td>\n",
       "      <td>63.0</td>\n",
       "      <td>268737.6</td>\n",
       "      <td>17.095583</td>\n",
       "    </tr>\n",
       "    <tr>\n",
       "      <th>3</th>\n",
       "      <td>Holmes County, OH</td>\n",
       "      <td>2017-10-09</td>\n",
       "      <td>2017-12-31</td>\n",
       "      <td>22.0</td>\n",
       "      <td>52.0</td>\n",
       "      <td>54.0</td>\n",
       "      <td>109.4</td>\n",
       "      <td>115308.3</td>\n",
       "      <td>34.050000</td>\n",
       "    </tr>\n",
       "    <tr>\n",
       "      <th>4</th>\n",
       "      <td>Madison County, FL</td>\n",
       "      <td>2017-01-09</td>\n",
       "      <td>2017-04-02</td>\n",
       "      <td>12.0</td>\n",
       "      <td>54.0</td>\n",
       "      <td>55.0</td>\n",
       "      <td>151.2</td>\n",
       "      <td>158062.5</td>\n",
       "      <td>38.300000</td>\n",
       "    </tr>\n",
       "  </tbody>\n",
       "</table>\n",
       "</div>"
      ],
      "text/plain": [
       "          region_name period_begin  period_end  total_homes_sold  inventory  \\\n",
       "0  Appling County, GA   2020-04-27  2020-07-19               NaN        1.0   \n",
       "1   Tooele County, UT   2018-08-27  2018-11-18             325.0        NaN   \n",
       "2  Johnson County, TX   2019-09-23  2019-12-15             577.0      717.0   \n",
       "3   Holmes County, OH   2017-10-09  2017-12-31              22.0       52.0   \n",
       "4  Madison County, FL   2017-01-09  2017-04-02              12.0       54.0   \n",
       "\n",
       "   active_listings  age_of_inventory  median_active_list_price  \\\n",
       "0              1.0             222.7                  136195.8   \n",
       "1              NaN               NaN                       NaN   \n",
       "2            778.0              63.0                  268737.6   \n",
       "3             54.0             109.4                  115308.3   \n",
       "4             55.0             151.2                  158062.5   \n",
       "\n",
       "   months_of_supply  \n",
       "0               NaN  \n",
       "1               NaN  \n",
       "2         17.095583  \n",
       "3         34.050000  \n",
       "4         38.300000  "
      ]
     },
     "execution_count": 6,
     "metadata": {},
     "output_type": "execute_result"
    }
   ],
   "source": [
    "df.head()"
   ]
  },
  {
   "cell_type": "code",
   "execution_count": 18,
   "id": "60fbf7d1-00f9-444f-85e8-19acaaa35dbe",
   "metadata": {},
   "outputs": [
    {
     "data": {
      "text/html": [
       "<div>\n",
       "<style scoped>\n",
       "    .dataframe tbody tr th:only-of-type {\n",
       "        vertical-align: middle;\n",
       "    }\n",
       "\n",
       "    .dataframe tbody tr th {\n",
       "        vertical-align: top;\n",
       "    }\n",
       "\n",
       "    .dataframe thead th {\n",
       "        text-align: right;\n",
       "    }\n",
       "</style>\n",
       "<table border=\"1\" class=\"dataframe\">\n",
       "  <thead>\n",
       "    <tr style=\"text-align: right;\">\n",
       "      <th></th>\n",
       "      <th>region_name</th>\n",
       "      <th>period_end</th>\n",
       "      <th>total_homes_sold</th>\n",
       "      <th>inventory</th>\n",
       "      <th>active_listings</th>\n",
       "      <th>age_of_inventory</th>\n",
       "      <th>median_active_list_price</th>\n",
       "      <th>months_of_supply</th>\n",
       "    </tr>\n",
       "    <tr>\n",
       "      <th>period_begin</th>\n",
       "      <th></th>\n",
       "      <th></th>\n",
       "      <th></th>\n",
       "      <th></th>\n",
       "      <th></th>\n",
       "      <th></th>\n",
       "      <th></th>\n",
       "      <th></th>\n",
       "    </tr>\n",
       "  </thead>\n",
       "  <tbody>\n",
       "    <tr>\n",
       "      <th>2020-04-27</th>\n",
       "      <td>Appling County, GA</td>\n",
       "      <td>2020-07-19</td>\n",
       "      <td>NaN</td>\n",
       "      <td>1.0</td>\n",
       "      <td>1.0</td>\n",
       "      <td>222.7</td>\n",
       "      <td>136195.8</td>\n",
       "      <td>NaN</td>\n",
       "    </tr>\n",
       "    <tr>\n",
       "      <th>2018-08-27</th>\n",
       "      <td>Tooele County, UT</td>\n",
       "      <td>2018-11-18</td>\n",
       "      <td>325.0</td>\n",
       "      <td>NaN</td>\n",
       "      <td>NaN</td>\n",
       "      <td>NaN</td>\n",
       "      <td>NaN</td>\n",
       "      <td>NaN</td>\n",
       "    </tr>\n",
       "    <tr>\n",
       "      <th>2019-09-23</th>\n",
       "      <td>Johnson County, TX</td>\n",
       "      <td>2019-12-15</td>\n",
       "      <td>577.0</td>\n",
       "      <td>717.0</td>\n",
       "      <td>778.0</td>\n",
       "      <td>63.0</td>\n",
       "      <td>268737.6</td>\n",
       "      <td>17.095583</td>\n",
       "    </tr>\n",
       "    <tr>\n",
       "      <th>2017-10-09</th>\n",
       "      <td>Holmes County, OH</td>\n",
       "      <td>2017-12-31</td>\n",
       "      <td>22.0</td>\n",
       "      <td>52.0</td>\n",
       "      <td>54.0</td>\n",
       "      <td>109.4</td>\n",
       "      <td>115308.3</td>\n",
       "      <td>34.050000</td>\n",
       "    </tr>\n",
       "    <tr>\n",
       "      <th>2017-01-09</th>\n",
       "      <td>Madison County, FL</td>\n",
       "      <td>2017-04-02</td>\n",
       "      <td>12.0</td>\n",
       "      <td>54.0</td>\n",
       "      <td>55.0</td>\n",
       "      <td>151.2</td>\n",
       "      <td>158062.5</td>\n",
       "      <td>38.300000</td>\n",
       "    </tr>\n",
       "    <tr>\n",
       "      <th>...</th>\n",
       "      <td>...</td>\n",
       "      <td>...</td>\n",
       "      <td>...</td>\n",
       "      <td>...</td>\n",
       "      <td>...</td>\n",
       "      <td>...</td>\n",
       "      <td>...</td>\n",
       "      <td>...</td>\n",
       "    </tr>\n",
       "    <tr>\n",
       "      <th>2019-11-25</th>\n",
       "      <td>Washita County, OK</td>\n",
       "      <td>2020-02-16</td>\n",
       "      <td>NaN</td>\n",
       "      <td>4.0</td>\n",
       "      <td>4.0</td>\n",
       "      <td>133.0</td>\n",
       "      <td>46650.0</td>\n",
       "      <td>NaN</td>\n",
       "    </tr>\n",
       "    <tr>\n",
       "      <th>2019-02-25</th>\n",
       "      <td>Gray County, TX</td>\n",
       "      <td>2019-05-19</td>\n",
       "      <td>NaN</td>\n",
       "      <td>1.0</td>\n",
       "      <td>1.0</td>\n",
       "      <td>180.5</td>\n",
       "      <td>62500.0</td>\n",
       "      <td>NaN</td>\n",
       "    </tr>\n",
       "    <tr>\n",
       "      <th>2020-02-24</th>\n",
       "      <td>Custer County, OK</td>\n",
       "      <td>2020-05-17</td>\n",
       "      <td>NaN</td>\n",
       "      <td>15.0</td>\n",
       "      <td>15.0</td>\n",
       "      <td>52.7</td>\n",
       "      <td>130120.8</td>\n",
       "      <td>NaN</td>\n",
       "    </tr>\n",
       "    <tr>\n",
       "      <th>2019-12-30</th>\n",
       "      <td>Choctaw County, MS</td>\n",
       "      <td>2020-03-22</td>\n",
       "      <td>NaN</td>\n",
       "      <td>2.0</td>\n",
       "      <td>3.0</td>\n",
       "      <td>46.0</td>\n",
       "      <td>115268.7</td>\n",
       "      <td>NaN</td>\n",
       "    </tr>\n",
       "    <tr>\n",
       "      <th>2022-02-14</th>\n",
       "      <td>Morehouse Parish, LA</td>\n",
       "      <td>2022-05-08</td>\n",
       "      <td>NaN</td>\n",
       "      <td>30.0</td>\n",
       "      <td>33.0</td>\n",
       "      <td>59.7</td>\n",
       "      <td>139979.1</td>\n",
       "      <td>NaN</td>\n",
       "    </tr>\n",
       "  </tbody>\n",
       "</table>\n",
       "<p>622339 rows × 8 columns</p>\n",
       "</div>"
      ],
      "text/plain": [
       "                       region_name  period_end  total_homes_sold  inventory  \\\n",
       "period_begin                                                                  \n",
       "2020-04-27      Appling County, GA  2020-07-19               NaN        1.0   \n",
       "2018-08-27       Tooele County, UT  2018-11-18             325.0        NaN   \n",
       "2019-09-23      Johnson County, TX  2019-12-15             577.0      717.0   \n",
       "2017-10-09       Holmes County, OH  2017-12-31              22.0       52.0   \n",
       "2017-01-09      Madison County, FL  2017-04-02              12.0       54.0   \n",
       "...                            ...         ...               ...        ...   \n",
       "2019-11-25      Washita County, OK  2020-02-16               NaN        4.0   \n",
       "2019-02-25         Gray County, TX  2019-05-19               NaN        1.0   \n",
       "2020-02-24       Custer County, OK  2020-05-17               NaN       15.0   \n",
       "2019-12-30      Choctaw County, MS  2020-03-22               NaN        2.0   \n",
       "2022-02-14    Morehouse Parish, LA  2022-05-08               NaN       30.0   \n",
       "\n",
       "              active_listings  age_of_inventory  median_active_list_price  \\\n",
       "period_begin                                                                \n",
       "2020-04-27                1.0             222.7                  136195.8   \n",
       "2018-08-27                NaN               NaN                       NaN   \n",
       "2019-09-23              778.0              63.0                  268737.6   \n",
       "2017-10-09               54.0             109.4                  115308.3   \n",
       "2017-01-09               55.0             151.2                  158062.5   \n",
       "...                       ...               ...                       ...   \n",
       "2019-11-25                4.0             133.0                   46650.0   \n",
       "2019-02-25                1.0             180.5                   62500.0   \n",
       "2020-02-24               15.0              52.7                  130120.8   \n",
       "2019-12-30                3.0              46.0                  115268.7   \n",
       "2022-02-14               33.0              59.7                  139979.1   \n",
       "\n",
       "              months_of_supply  \n",
       "period_begin                    \n",
       "2020-04-27                 NaN  \n",
       "2018-08-27                 NaN  \n",
       "2019-09-23           17.095583  \n",
       "2017-10-09           34.050000  \n",
       "2017-01-09           38.300000  \n",
       "...                        ...  \n",
       "2019-11-25                 NaN  \n",
       "2019-02-25                 NaN  \n",
       "2020-02-24                 NaN  \n",
       "2019-12-30                 NaN  \n",
       "2022-02-14                 NaN  \n",
       "\n",
       "[622339 rows x 8 columns]"
      ]
     },
     "execution_count": 18,
     "metadata": {},
     "output_type": "execute_result"
    }
   ],
   "source": [
    "df.set_index(['period_begin']).iloc[[0, 1,2,3]]"
   ]
  },
  {
   "cell_type": "code",
   "execution_count": 14,
   "id": "79b988bd-72a8-49ab-8a81-6f21de883c51",
   "metadata": {},
   "outputs": [
    {
     "data": {
      "text/html": [
       "<div>\n",
       "<style scoped>\n",
       "    .dataframe tbody tr th:only-of-type {\n",
       "        vertical-align: middle;\n",
       "    }\n",
       "\n",
       "    .dataframe tbody tr th {\n",
       "        vertical-align: top;\n",
       "    }\n",
       "\n",
       "    .dataframe thead th {\n",
       "        text-align: right;\n",
       "    }\n",
       "</style>\n",
       "<table border=\"1\" class=\"dataframe\">\n",
       "  <thead>\n",
       "    <tr style=\"text-align: right;\">\n",
       "      <th></th>\n",
       "      <th>region_name</th>\n",
       "      <th>period_begin</th>\n",
       "      <th>period_end</th>\n",
       "      <th>total_homes_sold</th>\n",
       "    </tr>\n",
       "  </thead>\n",
       "  <tbody>\n",
       "    <tr>\n",
       "      <th>2000</th>\n",
       "      <td>Haralson County, GA</td>\n",
       "      <td>2021-09-20</td>\n",
       "      <td>2021-12-12</td>\n",
       "      <td>136.0</td>\n",
       "    </tr>\n",
       "    <tr>\n",
       "      <th>3000</th>\n",
       "      <td>Lawrence County, AL</td>\n",
       "      <td>2018-10-22</td>\n",
       "      <td>2019-01-13</td>\n",
       "      <td>36.0</td>\n",
       "    </tr>\n",
       "    <tr>\n",
       "      <th>20000</th>\n",
       "      <td>Wayne County, TN</td>\n",
       "      <td>2021-06-21</td>\n",
       "      <td>2021-09-12</td>\n",
       "      <td>23.0</td>\n",
       "    </tr>\n",
       "  </tbody>\n",
       "</table>\n",
       "</div>"
      ],
      "text/plain": [
       "               region_name period_begin  period_end  total_homes_sold\n",
       "2000   Haralson County, GA   2021-09-20  2021-12-12             136.0\n",
       "3000   Lawrence County, AL   2018-10-22  2019-01-13              36.0\n",
       "20000     Wayne County, TN   2021-06-21  2021-09-12              23.0"
      ]
     },
     "execution_count": 14,
     "metadata": {},
     "output_type": "execute_result"
    }
   ],
   "source": [
    "df.iloc[[2000,3000, 20000],[0, 1, 2, 3]]"
   ]
  },
  {
   "cell_type": "code",
   "execution_count": 16,
   "id": "773e66b8-d07f-43d7-8fec-28485ae11763",
   "metadata": {},
   "outputs": [
    {
     "data": {
      "text/html": [
       "<div>\n",
       "<style scoped>\n",
       "    .dataframe tbody tr th:only-of-type {\n",
       "        vertical-align: middle;\n",
       "    }\n",
       "\n",
       "    .dataframe tbody tr th {\n",
       "        vertical-align: top;\n",
       "    }\n",
       "\n",
       "    .dataframe thead th {\n",
       "        text-align: right;\n",
       "    }\n",
       "</style>\n",
       "<table border=\"1\" class=\"dataframe\">\n",
       "  <thead>\n",
       "    <tr style=\"text-align: right;\">\n",
       "      <th></th>\n",
       "      <th>region_name</th>\n",
       "    </tr>\n",
       "  </thead>\n",
       "  <tbody>\n",
       "    <tr>\n",
       "      <th>0</th>\n",
       "      <td>Appling County, GA</td>\n",
       "    </tr>\n",
       "    <tr>\n",
       "      <th>1</th>\n",
       "      <td>Tooele County, UT</td>\n",
       "    </tr>\n",
       "    <tr>\n",
       "      <th>2</th>\n",
       "      <td>Johnson County, TX</td>\n",
       "    </tr>\n",
       "    <tr>\n",
       "      <th>3</th>\n",
       "      <td>Holmes County, OH</td>\n",
       "    </tr>\n",
       "  </tbody>\n",
       "</table>\n",
       "</div>"
      ],
      "text/plain": [
       "          region_name\n",
       "0  Appling County, GA\n",
       "1   Tooele County, UT\n",
       "2  Johnson County, TX\n",
       "3   Holmes County, OH"
      ]
     },
     "execution_count": 16,
     "metadata": {},
     "output_type": "execute_result"
    }
   ],
   "source": [
    "df.loc[[0,1,2,3],['region_name',]]"
   ]
  },
  {
   "cell_type": "code",
   "execution_count": 10,
   "id": "a1fbf660-ba6d-4f88-9205-23b399187349",
   "metadata": {},
   "outputs": [],
   "source": [
    "num_rows, num_columns = df.shape\n",
    "# print()"
   ]
  },
  {
   "cell_type": "code",
   "execution_count": 24,
   "id": "ed9e67bc-45e7-4b8f-834f-aaf500954e1a",
   "metadata": {},
   "outputs": [
    {
     "data": {
      "text/plain": [
       "region_name                  object\n",
       "period_begin                 object\n",
       "period_end                   object\n",
       "total_homes_sold            float64\n",
       "inventory                   float64\n",
       "active_listings             float64\n",
       "age_of_inventory            float64\n",
       "median_active_list_price    float64\n",
       "months_of_supply            float64\n",
       "dtype: object"
      ]
     },
     "execution_count": 24,
     "metadata": {},
     "output_type": "execute_result"
    }
   ],
   "source": [
    "df.dtypes"
   ]
  },
  {
   "cell_type": "code",
   "execution_count": 22,
   "id": "7b3f60e4-078a-4d75-b22d-1ad33eb41f20",
   "metadata": {},
   "outputs": [
    {
     "name": "stdout",
     "output_type": "stream",
     "text": [
      "<class 'pandas.core.frame.DataFrame'>\n",
      "RangeIndex: 622339 entries, 0 to 622338\n",
      "Data columns (total 9 columns):\n",
      " #   Column                    Non-Null Count   Dtype  \n",
      "---  ------                    --------------   -----  \n",
      " 0   region_name               622339 non-null  object \n",
      " 1   period_begin              622339 non-null  object \n",
      " 2   period_end                622339 non-null  object \n",
      " 3   total_homes_sold          567839 non-null  float64\n",
      " 4   inventory                 616247 non-null  float64\n",
      " 5   active_listings           616905 non-null  float64\n",
      " 6   age_of_inventory          616247 non-null  float64\n",
      " 7   median_active_list_price  616513 non-null  float64\n",
      " 8   months_of_supply          561319 non-null  float64\n",
      "dtypes: float64(6), object(3)\n",
      "memory usage: 42.7+ MB\n"
     ]
    }
   ],
   "source": [
    "df.info()"
   ]
  },
  {
   "cell_type": "code",
   "execution_count": 20,
   "id": "0d4a5150-1ad5-4ed4-936e-8f53ecfbd866",
   "metadata": {},
   "outputs": [
    {
     "data": {
      "text/html": [
       "<div>\n",
       "<style scoped>\n",
       "    .dataframe tbody tr th:only-of-type {\n",
       "        vertical-align: middle;\n",
       "    }\n",
       "\n",
       "    .dataframe tbody tr th {\n",
       "        vertical-align: top;\n",
       "    }\n",
       "\n",
       "    .dataframe thead th {\n",
       "        text-align: right;\n",
       "    }\n",
       "</style>\n",
       "<table border=\"1\" class=\"dataframe\">\n",
       "  <thead>\n",
       "    <tr style=\"text-align: right;\">\n",
       "      <th></th>\n",
       "      <th>total_homes_sold</th>\n",
       "      <th>inventory</th>\n",
       "      <th>active_listings</th>\n",
       "      <th>age_of_inventory</th>\n",
       "      <th>median_active_list_price</th>\n",
       "      <th>months_of_supply</th>\n",
       "    </tr>\n",
       "  </thead>\n",
       "  <tbody>\n",
       "    <tr>\n",
       "      <th>count</th>\n",
       "      <td>567839.000000</td>\n",
       "      <td>616247.000000</td>\n",
       "      <td>616905.000000</td>\n",
       "      <td>616247.000000</td>\n",
       "      <td>6.165130e+05</td>\n",
       "      <td>561319.000000</td>\n",
       "    </tr>\n",
       "    <tr>\n",
       "      <th>mean</th>\n",
       "      <td>465.184219</td>\n",
       "      <td>415.449284</td>\n",
       "      <td>454.787632</td>\n",
       "      <td>76.823044</td>\n",
       "      <td>2.712133e+05</td>\n",
       "      <td>18.894937</td>\n",
       "    </tr>\n",
       "    <tr>\n",
       "      <th>std</th>\n",
       "      <td>1216.840272</td>\n",
       "      <td>1176.440133</td>\n",
       "      <td>1278.428643</td>\n",
       "      <td>42.818934</td>\n",
       "      <td>4.375623e+06</td>\n",
       "      <td>29.910629</td>\n",
       "    </tr>\n",
       "    <tr>\n",
       "      <th>min</th>\n",
       "      <td>1.000000</td>\n",
       "      <td>1.000000</td>\n",
       "      <td>1.000000</td>\n",
       "      <td>0.000000</td>\n",
       "      <td>1.258500e+03</td>\n",
       "      <td>0.025958</td>\n",
       "    </tr>\n",
       "    <tr>\n",
       "      <th>25%</th>\n",
       "      <td>17.000000</td>\n",
       "      <td>18.000000</td>\n",
       "      <td>19.000000</td>\n",
       "      <td>48.900000</td>\n",
       "      <td>1.406041e+05</td>\n",
       "      <td>9.663503</td>\n",
       "    </tr>\n",
       "    <tr>\n",
       "      <th>50%</th>\n",
       "      <td>77.000000</td>\n",
       "      <td>79.000000</td>\n",
       "      <td>85.000000</td>\n",
       "      <td>68.100000</td>\n",
       "      <td>2.038583e+05</td>\n",
       "      <td>15.471320</td>\n",
       "    </tr>\n",
       "    <tr>\n",
       "      <th>75%</th>\n",
       "      <td>344.000000</td>\n",
       "      <td>312.000000</td>\n",
       "      <td>341.000000</td>\n",
       "      <td>93.300000</td>\n",
       "      <td>2.960407e+05</td>\n",
       "      <td>23.408333</td>\n",
       "    </tr>\n",
       "    <tr>\n",
       "      <th>max</th>\n",
       "      <td>24385.000000</td>\n",
       "      <td>23357.000000</td>\n",
       "      <td>25012.000000</td>\n",
       "      <td>365.000000</td>\n",
       "      <td>1.000000e+09</td>\n",
       "      <td>1849.000000</td>\n",
       "    </tr>\n",
       "  </tbody>\n",
       "</table>\n",
       "</div>"
      ],
      "text/plain": [
       "       total_homes_sold      inventory  active_listings  age_of_inventory  \\\n",
       "count     567839.000000  616247.000000    616905.000000     616247.000000   \n",
       "mean         465.184219     415.449284       454.787632         76.823044   \n",
       "std         1216.840272    1176.440133      1278.428643         42.818934   \n",
       "min            1.000000       1.000000         1.000000          0.000000   \n",
       "25%           17.000000      18.000000        19.000000         48.900000   \n",
       "50%           77.000000      79.000000        85.000000         68.100000   \n",
       "75%          344.000000     312.000000       341.000000         93.300000   \n",
       "max        24385.000000   23357.000000     25012.000000        365.000000   \n",
       "\n",
       "       median_active_list_price  months_of_supply  \n",
       "count              6.165130e+05     561319.000000  \n",
       "mean               2.712133e+05         18.894937  \n",
       "std                4.375623e+06         29.910629  \n",
       "min                1.258500e+03          0.025958  \n",
       "25%                1.406041e+05          9.663503  \n",
       "50%                2.038583e+05         15.471320  \n",
       "75%                2.960407e+05         23.408333  \n",
       "max                1.000000e+09       1849.000000  "
      ]
     },
     "execution_count": 20,
     "metadata": {},
     "output_type": "execute_result"
    }
   ],
   "source": [
    "df.describe() # descriptive Statistics"
   ]
  },
  {
   "cell_type": "code",
   "execution_count": null,
   "id": "8af1e08e-0b96-456c-8cd0-c3f92c2bd44b",
   "metadata": {},
   "outputs": [],
   "source": [
    "df.iloc[[0, 7, 14, 21, 28]]"
   ]
  },
  {
   "cell_type": "code",
   "execution_count": null,
   "id": "53780744-fb32-47a3-85aa-75a1de59337f",
   "metadata": {},
   "outputs": [],
   "source": [
    "df.iloc[0::7].head()"
   ]
  },
  {
   "cell_type": "code",
   "execution_count": null,
   "id": "d03366e4-9b97-4c79-8ca8-2e0258b01fd2",
   "metadata": {},
   "outputs": [],
   "source": [
    "df.iloc[0::8].tail()"
   ]
  },
  {
   "cell_type": "markdown",
   "id": "a7cfd41f-933f-472f-97da-a0c91436039a",
   "metadata": {},
   "source": [
    "3. Exercises\n",
    "\n",
    "    a. Check Datatype of Each Column\n",
    "    \n",
    "    b. How many rows and columns are there in our Dataset?"
   ]
  },
  {
   "cell_type": "code",
   "execution_count": null,
   "id": "2f11c3ad-d346-4555-8dc8-78f8647babac",
   "metadata": {},
   "outputs": [],
   "source": [
    "df.head()"
   ]
  },
  {
   "cell_type": "code",
   "execution_count": null,
   "id": "367cd1ce-5e68-46cc-b614-326c7fe6e0aa",
   "metadata": {},
   "outputs": [],
   "source": [
    "df.shape"
   ]
  },
  {
   "cell_type": "code",
   "execution_count": null,
   "id": "ae24c9bc-95e9-4d93-a360-1188ca431e91",
   "metadata": {},
   "outputs": [],
   "source": [
    "df.info()"
   ]
  },
  {
   "cell_type": "code",
   "execution_count": null,
   "id": "1720dd82-916c-43ad-b420-a4454b0b9071",
   "metadata": {},
   "outputs": [],
   "source": [
    "df['active_listings'].info()"
   ]
  },
  {
   "cell_type": "code",
   "execution_count": null,
   "id": "0f35f63d-401c-42af-a1e6-0c2ddaba595f",
   "metadata": {},
   "outputs": [],
   "source": [
    "str_columns, number_columns"
   ]
  },
  {
   "cell_type": "code",
   "execution_count": null,
   "id": "fa8ec1ad-cd6a-4ce8-bd5e-95603f9f8654",
   "metadata": {},
   "outputs": [],
   "source": [
    "df.dtypes"
   ]
  },
  {
   "cell_type": "markdown",
   "id": "fa63ef08-bd99-4f4e-8d0d-59c1a0f36022",
   "metadata": {},
   "source": [
    "<a id= 'data_cleaning'><a/>\n",
    "### 3. Data Cleaning\n",
    "```python\n",
    "- df.isnull().sum() # Displays the number of missing (null) values in each column\n",
    "- df[column].isnull() # Returns a boolean series indicating whether each value in the specified column is missing.\n",
    "- df.dropna(inplace = True) | dataset = df.dropna() # Removes all rows with missing values. Using inplace=True modifies the DataFrame directly, while assigning to a new variable keeps the original DataFrame unchanged.\n",
    "- df.duplicated().sum() # Returns the number of duplicate rows in the DataFrame.\n",
    "```"
   ]
  },
  {
   "cell_type": "code",
   "execution_count": 55,
   "id": "54f71149-501d-4d5b-a25d-b017442a9246",
   "metadata": {
    "scrolled": true
   },
   "outputs": [
    {
     "data": {
      "text/html": [
       "<div>\n",
       "<style scoped>\n",
       "    .dataframe tbody tr th:only-of-type {\n",
       "        vertical-align: middle;\n",
       "    }\n",
       "\n",
       "    .dataframe tbody tr th {\n",
       "        vertical-align: top;\n",
       "    }\n",
       "\n",
       "    .dataframe thead th {\n",
       "        text-align: right;\n",
       "    }\n",
       "</style>\n",
       "<table border=\"1\" class=\"dataframe\">\n",
       "  <thead>\n",
       "    <tr style=\"text-align: right;\">\n",
       "      <th></th>\n",
       "      <th>region_name</th>\n",
       "      <th>period_begin</th>\n",
       "      <th>period_end</th>\n",
       "      <th>total_homes_sold</th>\n",
       "      <th>inventory</th>\n",
       "      <th>active_listings</th>\n",
       "      <th>age_of_inventory</th>\n",
       "      <th>median_active_list_price</th>\n",
       "      <th>months_of_supply</th>\n",
       "    </tr>\n",
       "  </thead>\n",
       "  <tbody>\n",
       "  </tbody>\n",
       "</table>\n",
       "</div>"
      ],
      "text/plain": [
       "Empty DataFrame\n",
       "Columns: [region_name, period_begin, period_end, total_homes_sold, inventory, active_listings, age_of_inventory, median_active_list_price, months_of_supply]\n",
       "Index: []"
      ]
     },
     "execution_count": 55,
     "metadata": {},
     "output_type": "execute_result"
    }
   ],
   "source": [
    "df[df['region_name']=='Tooele County, UT'].dropna()"
   ]
  },
  {
   "cell_type": "code",
   "execution_count": 59,
   "id": "3f82b2a5-de56-4812-837c-667b842d5b5a",
   "metadata": {},
   "outputs": [
    {
     "data": {
      "text/html": [
       "<div>\n",
       "<style scoped>\n",
       "    .dataframe tbody tr th:only-of-type {\n",
       "        vertical-align: middle;\n",
       "    }\n",
       "\n",
       "    .dataframe tbody tr th {\n",
       "        vertical-align: top;\n",
       "    }\n",
       "\n",
       "    .dataframe thead th {\n",
       "        text-align: right;\n",
       "    }\n",
       "</style>\n",
       "<table border=\"1\" class=\"dataframe\">\n",
       "  <thead>\n",
       "    <tr style=\"text-align: right;\">\n",
       "      <th></th>\n",
       "      <th>region_name</th>\n",
       "      <th>period_begin</th>\n",
       "      <th>period_end</th>\n",
       "      <th>total_homes_sold</th>\n",
       "      <th>inventory</th>\n",
       "      <th>active_listings</th>\n",
       "      <th>age_of_inventory</th>\n",
       "      <th>median_active_list_price</th>\n",
       "      <th>months_of_supply</th>\n",
       "    </tr>\n",
       "  </thead>\n",
       "  <tbody>\n",
       "    <tr>\n",
       "      <th>0</th>\n",
       "      <td>Appling County, GA</td>\n",
       "      <td>2020-04-27</td>\n",
       "      <td>2020-07-19</td>\n",
       "      <td>NaN</td>\n",
       "      <td>1.0</td>\n",
       "      <td>1.0</td>\n",
       "      <td>222.7</td>\n",
       "      <td>136195.8</td>\n",
       "      <td>NaN</td>\n",
       "    </tr>\n",
       "    <tr>\n",
       "      <th>1</th>\n",
       "      <td>Tooele County, UT</td>\n",
       "      <td>2018-08-27</td>\n",
       "      <td>2018-11-18</td>\n",
       "      <td>325.0</td>\n",
       "      <td>NaN</td>\n",
       "      <td>NaN</td>\n",
       "      <td>NaN</td>\n",
       "      <td>NaN</td>\n",
       "      <td>NaN</td>\n",
       "    </tr>\n",
       "    <tr>\n",
       "      <th>2</th>\n",
       "      <td>Johnson County, TX</td>\n",
       "      <td>2019-09-23</td>\n",
       "      <td>2019-12-15</td>\n",
       "      <td>577.0</td>\n",
       "      <td>717.0</td>\n",
       "      <td>778.0</td>\n",
       "      <td>63.0</td>\n",
       "      <td>268737.6</td>\n",
       "      <td>17.095583</td>\n",
       "    </tr>\n",
       "    <tr>\n",
       "      <th>3</th>\n",
       "      <td>Holmes County, OH</td>\n",
       "      <td>2017-10-09</td>\n",
       "      <td>2017-12-31</td>\n",
       "      <td>22.0</td>\n",
       "      <td>52.0</td>\n",
       "      <td>54.0</td>\n",
       "      <td>109.4</td>\n",
       "      <td>115308.3</td>\n",
       "      <td>34.050000</td>\n",
       "    </tr>\n",
       "    <tr>\n",
       "      <th>4</th>\n",
       "      <td>Madison County, FL</td>\n",
       "      <td>2017-01-09</td>\n",
       "      <td>2017-04-02</td>\n",
       "      <td>12.0</td>\n",
       "      <td>54.0</td>\n",
       "      <td>55.0</td>\n",
       "      <td>151.2</td>\n",
       "      <td>158062.5</td>\n",
       "      <td>38.300000</td>\n",
       "    </tr>\n",
       "    <tr>\n",
       "      <th>...</th>\n",
       "      <td>...</td>\n",
       "      <td>...</td>\n",
       "      <td>...</td>\n",
       "      <td>...</td>\n",
       "      <td>...</td>\n",
       "      <td>...</td>\n",
       "      <td>...</td>\n",
       "      <td>...</td>\n",
       "      <td>...</td>\n",
       "    </tr>\n",
       "    <tr>\n",
       "      <th>622334</th>\n",
       "      <td>Washita County, OK</td>\n",
       "      <td>2019-11-25</td>\n",
       "      <td>2020-02-16</td>\n",
       "      <td>NaN</td>\n",
       "      <td>4.0</td>\n",
       "      <td>4.0</td>\n",
       "      <td>133.0</td>\n",
       "      <td>46650.0</td>\n",
       "      <td>NaN</td>\n",
       "    </tr>\n",
       "    <tr>\n",
       "      <th>622335</th>\n",
       "      <td>Gray County, TX</td>\n",
       "      <td>2019-02-25</td>\n",
       "      <td>2019-05-19</td>\n",
       "      <td>NaN</td>\n",
       "      <td>1.0</td>\n",
       "      <td>1.0</td>\n",
       "      <td>180.5</td>\n",
       "      <td>62500.0</td>\n",
       "      <td>NaN</td>\n",
       "    </tr>\n",
       "    <tr>\n",
       "      <th>622336</th>\n",
       "      <td>Custer County, OK</td>\n",
       "      <td>2020-02-24</td>\n",
       "      <td>2020-05-17</td>\n",
       "      <td>NaN</td>\n",
       "      <td>15.0</td>\n",
       "      <td>15.0</td>\n",
       "      <td>52.7</td>\n",
       "      <td>130120.8</td>\n",
       "      <td>NaN</td>\n",
       "    </tr>\n",
       "    <tr>\n",
       "      <th>622337</th>\n",
       "      <td>Choctaw County, MS</td>\n",
       "      <td>2019-12-30</td>\n",
       "      <td>2020-03-22</td>\n",
       "      <td>NaN</td>\n",
       "      <td>2.0</td>\n",
       "      <td>3.0</td>\n",
       "      <td>46.0</td>\n",
       "      <td>115268.7</td>\n",
       "      <td>NaN</td>\n",
       "    </tr>\n",
       "    <tr>\n",
       "      <th>622338</th>\n",
       "      <td>Morehouse Parish, LA</td>\n",
       "      <td>2022-02-14</td>\n",
       "      <td>2022-05-08</td>\n",
       "      <td>NaN</td>\n",
       "      <td>30.0</td>\n",
       "      <td>33.0</td>\n",
       "      <td>59.7</td>\n",
       "      <td>139979.1</td>\n",
       "      <td>NaN</td>\n",
       "    </tr>\n",
       "  </tbody>\n",
       "</table>\n",
       "<p>622339 rows × 9 columns</p>\n",
       "</div>"
      ],
      "text/plain": [
       "                 region_name period_begin  period_end  total_homes_sold  \\\n",
       "0         Appling County, GA   2020-04-27  2020-07-19               NaN   \n",
       "1          Tooele County, UT   2018-08-27  2018-11-18             325.0   \n",
       "2         Johnson County, TX   2019-09-23  2019-12-15             577.0   \n",
       "3          Holmes County, OH   2017-10-09  2017-12-31              22.0   \n",
       "4         Madison County, FL   2017-01-09  2017-04-02              12.0   \n",
       "...                      ...          ...         ...               ...   \n",
       "622334    Washita County, OK   2019-11-25  2020-02-16               NaN   \n",
       "622335       Gray County, TX   2019-02-25  2019-05-19               NaN   \n",
       "622336     Custer County, OK   2020-02-24  2020-05-17               NaN   \n",
       "622337    Choctaw County, MS   2019-12-30  2020-03-22               NaN   \n",
       "622338  Morehouse Parish, LA   2022-02-14  2022-05-08               NaN   \n",
       "\n",
       "        inventory  active_listings  age_of_inventory  \\\n",
       "0             1.0              1.0             222.7   \n",
       "1             NaN              NaN               NaN   \n",
       "2           717.0            778.0              63.0   \n",
       "3            52.0             54.0             109.4   \n",
       "4            54.0             55.0             151.2   \n",
       "...           ...              ...               ...   \n",
       "622334        4.0              4.0             133.0   \n",
       "622335        1.0              1.0             180.5   \n",
       "622336       15.0             15.0              52.7   \n",
       "622337        2.0              3.0              46.0   \n",
       "622338       30.0             33.0              59.7   \n",
       "\n",
       "        median_active_list_price  months_of_supply  \n",
       "0                       136195.8               NaN  \n",
       "1                            NaN               NaN  \n",
       "2                       268737.6         17.095583  \n",
       "3                       115308.3         34.050000  \n",
       "4                       158062.5         38.300000  \n",
       "...                          ...               ...  \n",
       "622334                   46650.0               NaN  \n",
       "622335                   62500.0               NaN  \n",
       "622336                  130120.8               NaN  \n",
       "622337                  115268.7               NaN  \n",
       "622338                  139979.1               NaN  \n",
       "\n",
       "[622339 rows x 9 columns]"
      ]
     },
     "execution_count": 59,
     "metadata": {},
     "output_type": "execute_result"
    }
   ],
   "source": [
    "df"
   ]
  },
  {
   "cell_type": "code",
   "execution_count": 51,
   "id": "a331bba3-eda4-4c30-b902-ad959352ebbf",
   "metadata": {
    "scrolled": true
   },
   "outputs": [
    {
     "data": {
      "text/plain": [
       "Index(['region_name', 'period_begin', 'period_end', 'total_homes_sold',\n",
       "       'inventory', 'active_listings', 'age_of_inventory',\n",
       "       'median_active_list_price', 'months_of_supply'],\n",
       "      dtype='object')"
      ]
     },
     "execution_count": 51,
     "metadata": {},
     "output_type": "execute_result"
    }
   ],
   "source": [
    "df.columns"
   ]
  },
  {
   "cell_type": "code",
   "execution_count": 53,
   "id": "a2a0a0df-5c3d-4b6b-bdbb-94bccb85cdbe",
   "metadata": {},
   "outputs": [
    {
     "data": {
      "text/html": [
       "<div>\n",
       "<style scoped>\n",
       "    .dataframe tbody tr th:only-of-type {\n",
       "        vertical-align: middle;\n",
       "    }\n",
       "\n",
       "    .dataframe tbody tr th {\n",
       "        vertical-align: top;\n",
       "    }\n",
       "\n",
       "    .dataframe thead th {\n",
       "        text-align: right;\n",
       "    }\n",
       "</style>\n",
       "<table border=\"1\" class=\"dataframe\">\n",
       "  <thead>\n",
       "    <tr style=\"text-align: right;\">\n",
       "      <th></th>\n",
       "      <th>region_name</th>\n",
       "      <th>period_begin</th>\n",
       "      <th>period_end</th>\n",
       "      <th>total_homes_sold</th>\n",
       "    </tr>\n",
       "  </thead>\n",
       "  <tbody>\n",
       "    <tr>\n",
       "      <th>1</th>\n",
       "      <td>Tooele County, UT</td>\n",
       "      <td>2018-08-27</td>\n",
       "      <td>2018-11-18</td>\n",
       "      <td>325.0</td>\n",
       "    </tr>\n",
       "    <tr>\n",
       "      <th>6482</th>\n",
       "      <td>Tooele County, UT</td>\n",
       "      <td>2020-12-07</td>\n",
       "      <td>2021-02-28</td>\n",
       "      <td>269.0</td>\n",
       "    </tr>\n",
       "    <tr>\n",
       "      <th>8181</th>\n",
       "      <td>Tooele County, UT</td>\n",
       "      <td>2020-11-02</td>\n",
       "      <td>2021-01-24</td>\n",
       "      <td>306.0</td>\n",
       "    </tr>\n",
       "    <tr>\n",
       "      <th>13837</th>\n",
       "      <td>Tooele County, UT</td>\n",
       "      <td>2020-02-10</td>\n",
       "      <td>2020-05-03</td>\n",
       "      <td>296.0</td>\n",
       "    </tr>\n",
       "    <tr>\n",
       "      <th>15556</th>\n",
       "      <td>Tooele County, UT</td>\n",
       "      <td>2017-12-18</td>\n",
       "      <td>2018-03-11</td>\n",
       "      <td>296.0</td>\n",
       "    </tr>\n",
       "    <tr>\n",
       "      <th>...</th>\n",
       "      <td>...</td>\n",
       "      <td>...</td>\n",
       "      <td>...</td>\n",
       "      <td>...</td>\n",
       "    </tr>\n",
       "    <tr>\n",
       "      <th>609923</th>\n",
       "      <td>Tooele County, UT</td>\n",
       "      <td>2019-10-14</td>\n",
       "      <td>2020-01-05</td>\n",
       "      <td>296.0</td>\n",
       "    </tr>\n",
       "    <tr>\n",
       "      <th>610432</th>\n",
       "      <td>Tooele County, UT</td>\n",
       "      <td>2019-12-16</td>\n",
       "      <td>2020-03-08</td>\n",
       "      <td>264.0</td>\n",
       "    </tr>\n",
       "    <tr>\n",
       "      <th>611246</th>\n",
       "      <td>Tooele County, UT</td>\n",
       "      <td>2018-05-21</td>\n",
       "      <td>2018-08-12</td>\n",
       "      <td>373.0</td>\n",
       "    </tr>\n",
       "    <tr>\n",
       "      <th>614179</th>\n",
       "      <td>Tooele County, UT</td>\n",
       "      <td>2018-10-08</td>\n",
       "      <td>2018-12-30</td>\n",
       "      <td>301.0</td>\n",
       "    </tr>\n",
       "    <tr>\n",
       "      <th>619518</th>\n",
       "      <td>Tooele County, UT</td>\n",
       "      <td>2021-12-20</td>\n",
       "      <td>2022-03-13</td>\n",
       "      <td>285.0</td>\n",
       "    </tr>\n",
       "  </tbody>\n",
       "</table>\n",
       "<p>278 rows × 4 columns</p>\n",
       "</div>"
      ],
      "text/plain": [
       "              region_name period_begin  period_end  total_homes_sold\n",
       "1       Tooele County, UT   2018-08-27  2018-11-18             325.0\n",
       "6482    Tooele County, UT   2020-12-07  2021-02-28             269.0\n",
       "8181    Tooele County, UT   2020-11-02  2021-01-24             306.0\n",
       "13837   Tooele County, UT   2020-02-10  2020-05-03             296.0\n",
       "15556   Tooele County, UT   2017-12-18  2018-03-11             296.0\n",
       "...                   ...          ...         ...               ...\n",
       "609923  Tooele County, UT   2019-10-14  2020-01-05             296.0\n",
       "610432  Tooele County, UT   2019-12-16  2020-03-08             264.0\n",
       "611246  Tooele County, UT   2018-05-21  2018-08-12             373.0\n",
       "614179  Tooele County, UT   2018-10-08  2018-12-30             301.0\n",
       "619518  Tooele County, UT   2021-12-20  2022-03-13             285.0\n",
       "\n",
       "[278 rows x 4 columns]"
      ]
     },
     "execution_count": 53,
     "metadata": {},
     "output_type": "execute_result"
    }
   ],
   "source": [
    "df[df['region_name']=='Tooele County, UT'].drop(['inventory', 'active_listings', 'age_of_inventory',\n",
    "       'median_active_list_price', 'months_of_supply'], axis = 1)"
   ]
  },
  {
   "cell_type": "code",
   "execution_count": 39,
   "id": "0ed8f57b-4093-42fa-ade9-e78f8e17d111",
   "metadata": {},
   "outputs": [
    {
     "data": {
      "text/plain": [
       "0         False\n",
       "1          True\n",
       "2         False\n",
       "3         False\n",
       "4         False\n",
       "          ...  \n",
       "622334    False\n",
       "622335    False\n",
       "622336    False\n",
       "622337    False\n",
       "622338    False\n",
       "Name: inventory, Length: 622339, dtype: bool"
      ]
     },
     "execution_count": 39,
     "metadata": {},
     "output_type": "execute_result"
    }
   ],
   "source": [
    "df['inventory'].isnull()"
   ]
  },
  {
   "cell_type": "code",
   "execution_count": 37,
   "id": "ced1b039-828d-467a-8da1-411607034f1e",
   "metadata": {},
   "outputs": [
    {
     "data": {
      "text/html": [
       "<div>\n",
       "<style scoped>\n",
       "    .dataframe tbody tr th:only-of-type {\n",
       "        vertical-align: middle;\n",
       "    }\n",
       "\n",
       "    .dataframe tbody tr th {\n",
       "        vertical-align: top;\n",
       "    }\n",
       "\n",
       "    .dataframe thead th {\n",
       "        text-align: right;\n",
       "    }\n",
       "</style>\n",
       "<table border=\"1\" class=\"dataframe\">\n",
       "  <thead>\n",
       "    <tr style=\"text-align: right;\">\n",
       "      <th></th>\n",
       "      <th>region_name</th>\n",
       "      <th>period_begin</th>\n",
       "      <th>period_end</th>\n",
       "      <th>total_homes_sold</th>\n",
       "      <th>inventory</th>\n",
       "      <th>active_listings</th>\n",
       "      <th>age_of_inventory</th>\n",
       "      <th>median_active_list_price</th>\n",
       "      <th>months_of_supply</th>\n",
       "    </tr>\n",
       "  </thead>\n",
       "  <tbody>\n",
       "    <tr>\n",
       "      <th>1</th>\n",
       "      <td>Tooele County, UT</td>\n",
       "      <td>2018-08-27</td>\n",
       "      <td>2018-11-18</td>\n",
       "      <td>325.0</td>\n",
       "      <td>NaN</td>\n",
       "      <td>NaN</td>\n",
       "      <td>NaN</td>\n",
       "      <td>NaN</td>\n",
       "      <td>NaN</td>\n",
       "    </tr>\n",
       "    <tr>\n",
       "      <th>127</th>\n",
       "      <td>Livingston Parish, LA</td>\n",
       "      <td>2017-10-02</td>\n",
       "      <td>2017-12-24</td>\n",
       "      <td>407.0</td>\n",
       "      <td>NaN</td>\n",
       "      <td>NaN</td>\n",
       "      <td>NaN</td>\n",
       "      <td>NaN</td>\n",
       "      <td>NaN</td>\n",
       "    </tr>\n",
       "    <tr>\n",
       "      <th>190</th>\n",
       "      <td>St. Helena Parish, LA</td>\n",
       "      <td>2017-07-03</td>\n",
       "      <td>2017-09-24</td>\n",
       "      <td>4.0</td>\n",
       "      <td>NaN</td>\n",
       "      <td>NaN</td>\n",
       "      <td>NaN</td>\n",
       "      <td>NaN</td>\n",
       "      <td>NaN</td>\n",
       "    </tr>\n",
       "    <tr>\n",
       "      <th>254</th>\n",
       "      <td>West Feliciana Parish, LA</td>\n",
       "      <td>2017-03-20</td>\n",
       "      <td>2017-06-11</td>\n",
       "      <td>33.0</td>\n",
       "      <td>NaN</td>\n",
       "      <td>NaN</td>\n",
       "      <td>NaN</td>\n",
       "      <td>NaN</td>\n",
       "      <td>NaN</td>\n",
       "    </tr>\n",
       "    <tr>\n",
       "      <th>344</th>\n",
       "      <td>Salt Lake County, UT</td>\n",
       "      <td>2020-12-28</td>\n",
       "      <td>2021-03-21</td>\n",
       "      <td>3218.0</td>\n",
       "      <td>NaN</td>\n",
       "      <td>NaN</td>\n",
       "      <td>NaN</td>\n",
       "      <td>NaN</td>\n",
       "      <td>NaN</td>\n",
       "    </tr>\n",
       "    <tr>\n",
       "      <th>...</th>\n",
       "      <td>...</td>\n",
       "      <td>...</td>\n",
       "      <td>...</td>\n",
       "      <td>...</td>\n",
       "      <td>...</td>\n",
       "      <td>...</td>\n",
       "      <td>...</td>\n",
       "      <td>...</td>\n",
       "      <td>...</td>\n",
       "    </tr>\n",
       "    <tr>\n",
       "      <th>621673</th>\n",
       "      <td>Dale County, AL</td>\n",
       "      <td>2020-01-06</td>\n",
       "      <td>2020-03-29</td>\n",
       "      <td>18.0</td>\n",
       "      <td>NaN</td>\n",
       "      <td>NaN</td>\n",
       "      <td>NaN</td>\n",
       "      <td>NaN</td>\n",
       "      <td>NaN</td>\n",
       "    </tr>\n",
       "    <tr>\n",
       "      <th>621726</th>\n",
       "      <td>West Baton Rouge Parish, LA</td>\n",
       "      <td>2019-04-22</td>\n",
       "      <td>2019-07-14</td>\n",
       "      <td>57.0</td>\n",
       "      <td>NaN</td>\n",
       "      <td>NaN</td>\n",
       "      <td>NaN</td>\n",
       "      <td>NaN</td>\n",
       "      <td>NaN</td>\n",
       "    </tr>\n",
       "    <tr>\n",
       "      <th>621894</th>\n",
       "      <td>Livingston Parish, LA</td>\n",
       "      <td>2017-01-16</td>\n",
       "      <td>2017-04-09</td>\n",
       "      <td>468.0</td>\n",
       "      <td>NaN</td>\n",
       "      <td>NaN</td>\n",
       "      <td>NaN</td>\n",
       "      <td>NaN</td>\n",
       "      <td>NaN</td>\n",
       "    </tr>\n",
       "    <tr>\n",
       "      <th>622100</th>\n",
       "      <td>Livingston Parish, LA</td>\n",
       "      <td>2018-11-05</td>\n",
       "      <td>2019-01-27</td>\n",
       "      <td>337.0</td>\n",
       "      <td>NaN</td>\n",
       "      <td>NaN</td>\n",
       "      <td>NaN</td>\n",
       "      <td>NaN</td>\n",
       "      <td>NaN</td>\n",
       "    </tr>\n",
       "    <tr>\n",
       "      <th>622211</th>\n",
       "      <td>Clay County, MS</td>\n",
       "      <td>2021-10-18</td>\n",
       "      <td>2022-01-09</td>\n",
       "      <td>1.0</td>\n",
       "      <td>NaN</td>\n",
       "      <td>1.0</td>\n",
       "      <td>NaN</td>\n",
       "      <td>NaN</td>\n",
       "      <td>NaN</td>\n",
       "    </tr>\n",
       "  </tbody>\n",
       "</table>\n",
       "<p>6092 rows × 9 columns</p>\n",
       "</div>"
      ],
      "text/plain": [
       "                        region_name period_begin  period_end  \\\n",
       "1                 Tooele County, UT   2018-08-27  2018-11-18   \n",
       "127           Livingston Parish, LA   2017-10-02  2017-12-24   \n",
       "190           St. Helena Parish, LA   2017-07-03  2017-09-24   \n",
       "254       West Feliciana Parish, LA   2017-03-20  2017-06-11   \n",
       "344            Salt Lake County, UT   2020-12-28  2021-03-21   \n",
       "...                             ...          ...         ...   \n",
       "621673              Dale County, AL   2020-01-06  2020-03-29   \n",
       "621726  West Baton Rouge Parish, LA   2019-04-22  2019-07-14   \n",
       "621894        Livingston Parish, LA   2017-01-16  2017-04-09   \n",
       "622100        Livingston Parish, LA   2018-11-05  2019-01-27   \n",
       "622211              Clay County, MS   2021-10-18  2022-01-09   \n",
       "\n",
       "        total_homes_sold  inventory  active_listings  age_of_inventory  \\\n",
       "1                  325.0        NaN              NaN               NaN   \n",
       "127                407.0        NaN              NaN               NaN   \n",
       "190                  4.0        NaN              NaN               NaN   \n",
       "254                 33.0        NaN              NaN               NaN   \n",
       "344               3218.0        NaN              NaN               NaN   \n",
       "...                  ...        ...              ...               ...   \n",
       "621673              18.0        NaN              NaN               NaN   \n",
       "621726              57.0        NaN              NaN               NaN   \n",
       "621894             468.0        NaN              NaN               NaN   \n",
       "622100             337.0        NaN              NaN               NaN   \n",
       "622211               1.0        NaN              1.0               NaN   \n",
       "\n",
       "        median_active_list_price  months_of_supply  \n",
       "1                            NaN               NaN  \n",
       "127                          NaN               NaN  \n",
       "190                          NaN               NaN  \n",
       "254                          NaN               NaN  \n",
       "344                          NaN               NaN  \n",
       "...                          ...               ...  \n",
       "621673                       NaN               NaN  \n",
       "621726                       NaN               NaN  \n",
       "621894                       NaN               NaN  \n",
       "622100                       NaN               NaN  \n",
       "622211                       NaN               NaN  \n",
       "\n",
       "[6092 rows x 9 columns]"
      ]
     },
     "execution_count": 37,
     "metadata": {},
     "output_type": "execute_result"
    }
   ],
   "source": [
    "df[df['inventory'].isnull()]"
   ]
  },
  {
   "cell_type": "code",
   "execution_count": null,
   "id": "b14c3b76-432f-442f-a2b3-64da18520dde",
   "metadata": {},
   "outputs": [],
   "source": [
    "df.duplicated().sum()"
   ]
  },
  {
   "cell_type": "markdown",
   "id": "80729d48-7b6a-43a4-b2e6-5bf5aa95123d",
   "metadata": {},
   "source": [
    "## check missing vlaues"
   ]
  },
  {
   "cell_type": "markdown",
   "id": "622180c2-3f15-4d2c-94c2-c96f6eae85ea",
   "metadata": {},
   "source": [
    "4. Missing values\n",
    "    - Which columns in the dataset contain missing values, and how many missing values are in each?\n",
    "    - What is the percentage of missing values in each column?\n",
    "    - Please remove the missing values."
   ]
  },
  {
   "cell_type": "code",
   "execution_count": 31,
   "id": "ed4c5a5d-7782-4b16-9bca-ec58744abd90",
   "metadata": {},
   "outputs": [
    {
     "data": {
      "text/plain": [
       "region_name                     0\n",
       "period_begin                    0\n",
       "period_end                      0\n",
       "total_homes_sold            54500\n",
       "inventory                    6092\n",
       "active_listings              5434\n",
       "age_of_inventory             6092\n",
       "median_active_list_price     5826\n",
       "months_of_supply            61020\n",
       "dtype: int64"
      ]
     },
     "execution_count": 31,
     "metadata": {},
     "output_type": "execute_result"
    }
   ],
   "source": [
    "df.isnull().sum() # True = 1, Fasle = 0"
   ]
  },
  {
   "cell_type": "code",
   "execution_count": null,
   "id": "3e978fec-dedf-4d62-ae82-da94270e1639",
   "metadata": {},
   "outputs": [],
   "source": [
    "df.columns"
   ]
  },
  {
   "cell_type": "code",
   "execution_count": null,
   "id": "f42d6a12-dc50-48e2-a40b-13f3617b8fb2",
   "metadata": {},
   "outputs": [],
   "source": [
    "df['inventory'].isnull().sum()"
   ]
  },
  {
   "cell_type": "code",
   "execution_count": null,
   "id": "7fae4682-e113-4873-a173-ad6e25564445",
   "metadata": {},
   "outputs": [],
   "source": [
    "missing_values_columns = []\n",
    "\n",
    "for column in df.columns:\n",
    "    if df[column].isnull().sum()>0:\n",
    "        missing_values_columns.append(column)\n",
    "missing_values_columns"
   ]
  },
  {
   "cell_type": "code",
   "execution_count": null,
   "id": "e0943294-413d-418a-b0d2-a1eb396f7189",
   "metadata": {},
   "outputs": [],
   "source": [
    "# round(missingvalue*100/len(df),2)"
   ]
  },
  {
   "cell_type": "code",
   "execution_count": null,
   "id": "4020a045-cea5-4514-8ac0-f48c664a9233",
   "metadata": {},
   "outputs": [],
   "source": [
    "missing_values_columns = []\n",
    "print('''Missing values\n",
    "    - Which columns in the dataset contain missing values, and how many missing values are in each?\n",
    "    - What is the percentage of missing values in each column?\\n''')\n",
    "for column in df.columns:\n",
    "    if df[column].isnull().sum()>0:\n",
    "        print(f'{column}: {df[column].isnull().sum()}, percentage: {round(df[column].isnull().sum()*100/len(df),2)} %')\n",
    "        missing_values_columns.append(column)\n",
    "# missing_values_columns"
   ]
  },
  {
   "cell_type": "code",
   "execution_count": null,
   "id": "1c3d3bd6-3be1-41ff-a808-4938b0c9c592",
   "metadata": {},
   "outputs": [],
   "source": [
    "missing_values_columns"
   ]
  },
  {
   "cell_type": "code",
   "execution_count": null,
   "id": "d8e2a1a9-5347-4241-b324-a06df670886d",
   "metadata": {},
   "outputs": [],
   "source": [
    "# columns_missing_values"
   ]
  },
  {
   "cell_type": "code",
   "execution_count": null,
   "id": "cdce7c8b-cdc7-4bac-875a-9844846ec7bd",
   "metadata": {},
   "outputs": [],
   "source": [
    "round(df.isnull().sum()*100/len(df),2)"
   ]
  },
  {
   "cell_type": "code",
   "execution_count": null,
   "id": "6e026a99-9425-48fd-9600-429bfa8f414c",
   "metadata": {},
   "outputs": [],
   "source": [
    "missing_values = round(df.isnull().sum()*100/len(df), 2).reset_index()"
   ]
  },
  {
   "cell_type": "code",
   "execution_count": null,
   "id": "00eb4cb1-2511-418a-95ad-c1af126969a7",
   "metadata": {},
   "outputs": [],
   "source": [
    "columns_valuesmissing_values[missing_values[0]>0]['index'].unique()"
   ]
  },
  {
   "cell_type": "markdown",
   "id": "ec73459a-b59f-47ab-9a41-3100f3edd42e",
   "metadata": {},
   "source": [
    "### Drop Missing vlaues"
   ]
  },
  {
   "cell_type": "code",
   "execution_count": null,
   "id": "b25ada44-1211-4370-a93f-1bd39bebe1b7",
   "metadata": {},
   "outputs": [],
   "source": []
  },
  {
   "cell_type": "code",
   "execution_count": 61,
   "id": "b496cef9-3a50-4089-8425-a8e055a6014a",
   "metadata": {},
   "outputs": [],
   "source": [
    "dataset  = df.dropna()"
   ]
  },
  {
   "cell_type": "code",
   "execution_count": 71,
   "id": "f90417fa-0e27-4dc3-bb8a-6ed3850c05cd",
   "metadata": {},
   "outputs": [
    {
     "data": {
      "text/plain": [
       "0"
      ]
     },
     "execution_count": 71,
     "metadata": {},
     "output_type": "execute_result"
    }
   ],
   "source": [
    "dataset.duplicated().sum()"
   ]
  },
  {
   "cell_type": "code",
   "execution_count": null,
   "id": "9e5b0f33-0454-4a8b-99c3-4d6e6b7f2280",
   "metadata": {},
   "outputs": [],
   "source": []
  },
  {
   "cell_type": "markdown",
   "id": "0cfaf52a-49d2-460b-89b6-8b293c4bc778",
   "metadata": {},
   "source": [
    "5. Exericses \n",
    "\n",
    "    a. Total Homes Sold by Region(by State): Group the data by region_name and calculate the total number of homes sold in each region.\n",
    "\n",
    "    b. Average Inventory by Region(by State): Group the data by region_name and calculate the average inventory for each region.\n",
    "\n",
    "    c. Median Active List Price by Region(by State): Group the data by region_name and find the median active list price for each region.\n",
    "\n",
    "\td.\tAverage Age of Inventory by Region ( By County): Group the data by region_name and calculate the average age of inventory for each region.\n",
    "    \n",
    "\te.\tTotal Active Listings by Region (State): Group the data by region_name and calculate the total number of active listings for each region.\n",
    "    e. Calculate the highest, lowest, and average values in the column 'median_active_list_price'.\n"
   ]
  },
  {
   "cell_type": "code",
   "execution_count": 82,
   "id": "42b2601d-5523-4527-b7fa-569be13df9bc",
   "metadata": {},
   "outputs": [
    {
     "data": {
      "text/html": [
       "<div>\n",
       "<style scoped>\n",
       "    .dataframe tbody tr th:only-of-type {\n",
       "        vertical-align: middle;\n",
       "    }\n",
       "\n",
       "    .dataframe tbody tr th {\n",
       "        vertical-align: top;\n",
       "    }\n",
       "\n",
       "    .dataframe thead th {\n",
       "        text-align: right;\n",
       "    }\n",
       "</style>\n",
       "<table border=\"1\" class=\"dataframe\">\n",
       "  <thead>\n",
       "    <tr style=\"text-align: right;\">\n",
       "      <th></th>\n",
       "      <th>region_name</th>\n",
       "      <th>period_begin</th>\n",
       "      <th>period_end</th>\n",
       "      <th>total_homes_sold</th>\n",
       "      <th>inventory</th>\n",
       "      <th>active_listings</th>\n",
       "      <th>age_of_inventory</th>\n",
       "      <th>median_active_list_price</th>\n",
       "      <th>months_of_supply</th>\n",
       "    </tr>\n",
       "  </thead>\n",
       "  <tbody>\n",
       "    <tr>\n",
       "      <th>2</th>\n",
       "      <td>Johnson County, TX</td>\n",
       "      <td>2019-09-23</td>\n",
       "      <td>2019-12-15</td>\n",
       "      <td>577.0</td>\n",
       "      <td>717.0</td>\n",
       "      <td>778.0</td>\n",
       "      <td>63.0</td>\n",
       "      <td>268737.6</td>\n",
       "      <td>17.095583</td>\n",
       "    </tr>\n",
       "    <tr>\n",
       "      <th>3</th>\n",
       "      <td>Holmes County, OH</td>\n",
       "      <td>2017-10-09</td>\n",
       "      <td>2017-12-31</td>\n",
       "      <td>22.0</td>\n",
       "      <td>52.0</td>\n",
       "      <td>54.0</td>\n",
       "      <td>109.4</td>\n",
       "      <td>115308.3</td>\n",
       "      <td>34.050000</td>\n",
       "    </tr>\n",
       "    <tr>\n",
       "      <th>4</th>\n",
       "      <td>Madison County, FL</td>\n",
       "      <td>2017-01-09</td>\n",
       "      <td>2017-04-02</td>\n",
       "      <td>12.0</td>\n",
       "      <td>54.0</td>\n",
       "      <td>55.0</td>\n",
       "      <td>151.2</td>\n",
       "      <td>158062.5</td>\n",
       "      <td>38.300000</td>\n",
       "    </tr>\n",
       "    <tr>\n",
       "      <th>5</th>\n",
       "      <td>Barry County, MO</td>\n",
       "      <td>2020-11-23</td>\n",
       "      <td>2021-02-14</td>\n",
       "      <td>79.0</td>\n",
       "      <td>70.0</td>\n",
       "      <td>77.0</td>\n",
       "      <td>82.8</td>\n",
       "      <td>196509.1</td>\n",
       "      <td>13.157870</td>\n",
       "    </tr>\n",
       "    <tr>\n",
       "      <th>6</th>\n",
       "      <td>Sacramento County, CA</td>\n",
       "      <td>2020-06-22</td>\n",
       "      <td>2020-09-13</td>\n",
       "      <td>5107.0</td>\n",
       "      <td>1729.0</td>\n",
       "      <td>2206.0</td>\n",
       "      <td>27.5</td>\n",
       "      <td>445540.9</td>\n",
       "      <td>5.235794</td>\n",
       "    </tr>\n",
       "  </tbody>\n",
       "</table>\n",
       "</div>"
      ],
      "text/plain": [
       "             region_name period_begin  period_end  total_homes_sold  \\\n",
       "2     Johnson County, TX   2019-09-23  2019-12-15             577.0   \n",
       "3      Holmes County, OH   2017-10-09  2017-12-31              22.0   \n",
       "4     Madison County, FL   2017-01-09  2017-04-02              12.0   \n",
       "5       Barry County, MO   2020-11-23  2021-02-14              79.0   \n",
       "6  Sacramento County, CA   2020-06-22  2020-09-13            5107.0   \n",
       "\n",
       "   inventory  active_listings  age_of_inventory  median_active_list_price  \\\n",
       "2      717.0            778.0              63.0                  268737.6   \n",
       "3       52.0             54.0             109.4                  115308.3   \n",
       "4       54.0             55.0             151.2                  158062.5   \n",
       "5       70.0             77.0              82.8                  196509.1   \n",
       "6     1729.0           2206.0              27.5                  445540.9   \n",
       "\n",
       "   months_of_supply  \n",
       "2         17.095583  \n",
       "3         34.050000  \n",
       "4         38.300000  \n",
       "5         13.157870  \n",
       "6          5.235794  "
      ]
     },
     "execution_count": 82,
     "metadata": {},
     "output_type": "execute_result"
    }
   ],
   "source": [
    "dataset.head()"
   ]
  },
  {
   "cell_type": "code",
   "execution_count": 88,
   "id": "b28e61f6-ad23-42f3-8c3b-3a6e2766241c",
   "metadata": {},
   "outputs": [
    {
     "data": {
      "text/plain": [
       "\"['Johnson County', 'TX']\""
      ]
     },
     "execution_count": 88,
     "metadata": {},
     "output_type": "execute_result"
    }
   ],
   "source": [
    "str(['Johnson County',  'TX'])"
   ]
  },
  {
   "cell_type": "code",
   "execution_count": 92,
   "id": "b20cf9d4-cdb8-4e12-95cd-b213610cdb19",
   "metadata": {},
   "outputs": [
    {
     "name": "stderr",
     "output_type": "stream",
     "text": [
      "/var/folders/7h/0019w3h141s2b0z27906x13c0000gn/T/ipykernel_4667/1104175557.py:1: SettingWithCopyWarning: \n",
      "A value is trying to be set on a copy of a slice from a DataFrame.\n",
      "Try using .loc[row_indexer,col_indexer] = value instead\n",
      "\n",
      "See the caveats in the documentation: https://pandas.pydata.org/pandas-docs/stable/user_guide/indexing.html#returning-a-view-versus-a-copy\n",
      "  dataset['region_state'] = dataset['region_name'].str.split(',').str[-1]\n"
     ]
    }
   ],
   "source": [
    "dataset['region_state'] = dataset['region_name'].str.split(',').str[-1]"
   ]
  },
  {
   "cell_type": "code",
   "execution_count": 94,
   "id": "8f02890e-f68c-47e1-b2f1-3965f94abde4",
   "metadata": {},
   "outputs": [
    {
     "data": {
      "text/html": [
       "<div>\n",
       "<style scoped>\n",
       "    .dataframe tbody tr th:only-of-type {\n",
       "        vertical-align: middle;\n",
       "    }\n",
       "\n",
       "    .dataframe tbody tr th {\n",
       "        vertical-align: top;\n",
       "    }\n",
       "\n",
       "    .dataframe thead th {\n",
       "        text-align: right;\n",
       "    }\n",
       "</style>\n",
       "<table border=\"1\" class=\"dataframe\">\n",
       "  <thead>\n",
       "    <tr style=\"text-align: right;\">\n",
       "      <th></th>\n",
       "      <th>region_name</th>\n",
       "      <th>period_begin</th>\n",
       "      <th>period_end</th>\n",
       "      <th>total_homes_sold</th>\n",
       "      <th>inventory</th>\n",
       "      <th>active_listings</th>\n",
       "      <th>age_of_inventory</th>\n",
       "      <th>median_active_list_price</th>\n",
       "      <th>months_of_supply</th>\n",
       "      <th>region_state</th>\n",
       "    </tr>\n",
       "  </thead>\n",
       "  <tbody>\n",
       "    <tr>\n",
       "      <th>2</th>\n",
       "      <td>Johnson County, TX</td>\n",
       "      <td>2019-09-23</td>\n",
       "      <td>2019-12-15</td>\n",
       "      <td>577.0</td>\n",
       "      <td>717.0</td>\n",
       "      <td>778.0</td>\n",
       "      <td>63.0</td>\n",
       "      <td>268737.6</td>\n",
       "      <td>17.095583</td>\n",
       "      <td>TX</td>\n",
       "    </tr>\n",
       "    <tr>\n",
       "      <th>3</th>\n",
       "      <td>Holmes County, OH</td>\n",
       "      <td>2017-10-09</td>\n",
       "      <td>2017-12-31</td>\n",
       "      <td>22.0</td>\n",
       "      <td>52.0</td>\n",
       "      <td>54.0</td>\n",
       "      <td>109.4</td>\n",
       "      <td>115308.3</td>\n",
       "      <td>34.050000</td>\n",
       "      <td>OH</td>\n",
       "    </tr>\n",
       "    <tr>\n",
       "      <th>4</th>\n",
       "      <td>Madison County, FL</td>\n",
       "      <td>2017-01-09</td>\n",
       "      <td>2017-04-02</td>\n",
       "      <td>12.0</td>\n",
       "      <td>54.0</td>\n",
       "      <td>55.0</td>\n",
       "      <td>151.2</td>\n",
       "      <td>158062.5</td>\n",
       "      <td>38.300000</td>\n",
       "      <td>FL</td>\n",
       "    </tr>\n",
       "    <tr>\n",
       "      <th>5</th>\n",
       "      <td>Barry County, MO</td>\n",
       "      <td>2020-11-23</td>\n",
       "      <td>2021-02-14</td>\n",
       "      <td>79.0</td>\n",
       "      <td>70.0</td>\n",
       "      <td>77.0</td>\n",
       "      <td>82.8</td>\n",
       "      <td>196509.1</td>\n",
       "      <td>13.157870</td>\n",
       "      <td>MO</td>\n",
       "    </tr>\n",
       "    <tr>\n",
       "      <th>6</th>\n",
       "      <td>Sacramento County, CA</td>\n",
       "      <td>2020-06-22</td>\n",
       "      <td>2020-09-13</td>\n",
       "      <td>5107.0</td>\n",
       "      <td>1729.0</td>\n",
       "      <td>2206.0</td>\n",
       "      <td>27.5</td>\n",
       "      <td>445540.9</td>\n",
       "      <td>5.235794</td>\n",
       "      <td>CA</td>\n",
       "    </tr>\n",
       "    <tr>\n",
       "      <th>...</th>\n",
       "      <td>...</td>\n",
       "      <td>...</td>\n",
       "      <td>...</td>\n",
       "      <td>...</td>\n",
       "      <td>...</td>\n",
       "      <td>...</td>\n",
       "      <td>...</td>\n",
       "      <td>...</td>\n",
       "      <td>...</td>\n",
       "      <td>...</td>\n",
       "    </tr>\n",
       "    <tr>\n",
       "      <th>622313</th>\n",
       "      <td>Boulder County, CO</td>\n",
       "      <td>2018-01-15</td>\n",
       "      <td>2018-04-08</td>\n",
       "      <td>973.0</td>\n",
       "      <td>746.0</td>\n",
       "      <td>838.0</td>\n",
       "      <td>44.9</td>\n",
       "      <td>647883.0</td>\n",
       "      <td>10.992834</td>\n",
       "      <td>CO</td>\n",
       "    </tr>\n",
       "    <tr>\n",
       "      <th>622315</th>\n",
       "      <td>Randolph County, MO</td>\n",
       "      <td>2019-03-11</td>\n",
       "      <td>2019-06-02</td>\n",
       "      <td>21.0</td>\n",
       "      <td>12.0</td>\n",
       "      <td>13.0</td>\n",
       "      <td>23.5</td>\n",
       "      <td>122793.7</td>\n",
       "      <td>9.219697</td>\n",
       "      <td>MO</td>\n",
       "    </tr>\n",
       "    <tr>\n",
       "      <th>622324</th>\n",
       "      <td>Sullivan County, IN</td>\n",
       "      <td>2018-03-05</td>\n",
       "      <td>2018-05-27</td>\n",
       "      <td>1.0</td>\n",
       "      <td>10.0</td>\n",
       "      <td>10.0</td>\n",
       "      <td>87.1</td>\n",
       "      <td>61741.6</td>\n",
       "      <td>10.000000</td>\n",
       "      <td>IN</td>\n",
       "    </tr>\n",
       "    <tr>\n",
       "      <th>622329</th>\n",
       "      <td>Clatsop County, OR</td>\n",
       "      <td>2019-06-03</td>\n",
       "      <td>2019-08-25</td>\n",
       "      <td>1.0</td>\n",
       "      <td>4.0</td>\n",
       "      <td>4.0</td>\n",
       "      <td>53.7</td>\n",
       "      <td>650000.0</td>\n",
       "      <td>4.000000</td>\n",
       "      <td>OR</td>\n",
       "    </tr>\n",
       "    <tr>\n",
       "      <th>622332</th>\n",
       "      <td>Coke County, TX</td>\n",
       "      <td>2020-01-20</td>\n",
       "      <td>2020-04-12</td>\n",
       "      <td>10.0</td>\n",
       "      <td>4.0</td>\n",
       "      <td>4.0</td>\n",
       "      <td>25.8</td>\n",
       "      <td>86304.1</td>\n",
       "      <td>4.208333</td>\n",
       "      <td>TX</td>\n",
       "    </tr>\n",
       "  </tbody>\n",
       "</table>\n",
       "<p>560915 rows × 10 columns</p>\n",
       "</div>"
      ],
      "text/plain": [
       "                  region_name period_begin  period_end  total_homes_sold  \\\n",
       "2          Johnson County, TX   2019-09-23  2019-12-15             577.0   \n",
       "3           Holmes County, OH   2017-10-09  2017-12-31              22.0   \n",
       "4          Madison County, FL   2017-01-09  2017-04-02              12.0   \n",
       "5            Barry County, MO   2020-11-23  2021-02-14              79.0   \n",
       "6       Sacramento County, CA   2020-06-22  2020-09-13            5107.0   \n",
       "...                       ...          ...         ...               ...   \n",
       "622313     Boulder County, CO   2018-01-15  2018-04-08             973.0   \n",
       "622315    Randolph County, MO   2019-03-11  2019-06-02              21.0   \n",
       "622324    Sullivan County, IN   2018-03-05  2018-05-27               1.0   \n",
       "622329     Clatsop County, OR   2019-06-03  2019-08-25               1.0   \n",
       "622332        Coke County, TX   2020-01-20  2020-04-12              10.0   \n",
       "\n",
       "        inventory  active_listings  age_of_inventory  \\\n",
       "2           717.0            778.0              63.0   \n",
       "3            52.0             54.0             109.4   \n",
       "4            54.0             55.0             151.2   \n",
       "5            70.0             77.0              82.8   \n",
       "6          1729.0           2206.0              27.5   \n",
       "...           ...              ...               ...   \n",
       "622313      746.0            838.0              44.9   \n",
       "622315       12.0             13.0              23.5   \n",
       "622324       10.0             10.0              87.1   \n",
       "622329        4.0              4.0              53.7   \n",
       "622332        4.0              4.0              25.8   \n",
       "\n",
       "        median_active_list_price  months_of_supply region_state  \n",
       "2                       268737.6         17.095583           TX  \n",
       "3                       115308.3         34.050000           OH  \n",
       "4                       158062.5         38.300000           FL  \n",
       "5                       196509.1         13.157870           MO  \n",
       "6                       445540.9          5.235794           CA  \n",
       "...                          ...               ...          ...  \n",
       "622313                  647883.0         10.992834           CO  \n",
       "622315                  122793.7          9.219697           MO  \n",
       "622324                   61741.6         10.000000           IN  \n",
       "622329                  650000.0          4.000000           OR  \n",
       "622332                   86304.1          4.208333           TX  \n",
       "\n",
       "[560915 rows x 10 columns]"
      ]
     },
     "execution_count": 94,
     "metadata": {},
     "output_type": "execute_result"
    }
   ],
   "source": [
    "dataset"
   ]
  },
  {
   "cell_type": "code",
   "execution_count": 100,
   "id": "0ac394fb-2ecb-4e62-be36-78b892e30e5f",
   "metadata": {},
   "outputs": [
    {
     "name": "stderr",
     "output_type": "stream",
     "text": [
      "/var/folders/7h/0019w3h141s2b0z27906x13c0000gn/T/ipykernel_4667/618056564.py:1: SettingWithCopyWarning: \n",
      "A value is trying to be set on a copy of a slice from a DataFrame.\n",
      "Try using .loc[row_indexer,col_indexer] = value instead\n",
      "\n",
      "See the caveats in the documentation: https://pandas.pydata.org/pandas-docs/stable/user_guide/indexing.html#returning-a-view-versus-a-copy\n",
      "  dataset['region_state1']= dataset['region_name'].str[-2:]\n"
     ]
    }
   ],
   "source": [
    "dataset['region_state1']= dataset['region_name'].str[-2:]"
   ]
  },
  {
   "cell_type": "code",
   "execution_count": 102,
   "id": "7a1eda5d-563e-46a2-bf1a-37c9e22e9d7f",
   "metadata": {},
   "outputs": [
    {
     "data": {
      "text/html": [
       "<div>\n",
       "<style scoped>\n",
       "    .dataframe tbody tr th:only-of-type {\n",
       "        vertical-align: middle;\n",
       "    }\n",
       "\n",
       "    .dataframe tbody tr th {\n",
       "        vertical-align: top;\n",
       "    }\n",
       "\n",
       "    .dataframe thead th {\n",
       "        text-align: right;\n",
       "    }\n",
       "</style>\n",
       "<table border=\"1\" class=\"dataframe\">\n",
       "  <thead>\n",
       "    <tr style=\"text-align: right;\">\n",
       "      <th></th>\n",
       "      <th>region_name</th>\n",
       "      <th>period_begin</th>\n",
       "      <th>period_end</th>\n",
       "      <th>total_homes_sold</th>\n",
       "      <th>inventory</th>\n",
       "      <th>active_listings</th>\n",
       "      <th>age_of_inventory</th>\n",
       "      <th>median_active_list_price</th>\n",
       "      <th>months_of_supply</th>\n",
       "      <th>region_state</th>\n",
       "      <th>region_state1</th>\n",
       "    </tr>\n",
       "  </thead>\n",
       "  <tbody>\n",
       "    <tr>\n",
       "      <th>2</th>\n",
       "      <td>Johnson County, TX</td>\n",
       "      <td>2019-09-23</td>\n",
       "      <td>2019-12-15</td>\n",
       "      <td>577.0</td>\n",
       "      <td>717.0</td>\n",
       "      <td>778.0</td>\n",
       "      <td>63.0</td>\n",
       "      <td>268737.6</td>\n",
       "      <td>17.095583</td>\n",
       "      <td>TX</td>\n",
       "      <td>TX</td>\n",
       "    </tr>\n",
       "    <tr>\n",
       "      <th>3</th>\n",
       "      <td>Holmes County, OH</td>\n",
       "      <td>2017-10-09</td>\n",
       "      <td>2017-12-31</td>\n",
       "      <td>22.0</td>\n",
       "      <td>52.0</td>\n",
       "      <td>54.0</td>\n",
       "      <td>109.4</td>\n",
       "      <td>115308.3</td>\n",
       "      <td>34.050000</td>\n",
       "      <td>OH</td>\n",
       "      <td>OH</td>\n",
       "    </tr>\n",
       "    <tr>\n",
       "      <th>4</th>\n",
       "      <td>Madison County, FL</td>\n",
       "      <td>2017-01-09</td>\n",
       "      <td>2017-04-02</td>\n",
       "      <td>12.0</td>\n",
       "      <td>54.0</td>\n",
       "      <td>55.0</td>\n",
       "      <td>151.2</td>\n",
       "      <td>158062.5</td>\n",
       "      <td>38.300000</td>\n",
       "      <td>FL</td>\n",
       "      <td>FL</td>\n",
       "    </tr>\n",
       "    <tr>\n",
       "      <th>5</th>\n",
       "      <td>Barry County, MO</td>\n",
       "      <td>2020-11-23</td>\n",
       "      <td>2021-02-14</td>\n",
       "      <td>79.0</td>\n",
       "      <td>70.0</td>\n",
       "      <td>77.0</td>\n",
       "      <td>82.8</td>\n",
       "      <td>196509.1</td>\n",
       "      <td>13.157870</td>\n",
       "      <td>MO</td>\n",
       "      <td>MO</td>\n",
       "    </tr>\n",
       "    <tr>\n",
       "      <th>6</th>\n",
       "      <td>Sacramento County, CA</td>\n",
       "      <td>2020-06-22</td>\n",
       "      <td>2020-09-13</td>\n",
       "      <td>5107.0</td>\n",
       "      <td>1729.0</td>\n",
       "      <td>2206.0</td>\n",
       "      <td>27.5</td>\n",
       "      <td>445540.9</td>\n",
       "      <td>5.235794</td>\n",
       "      <td>CA</td>\n",
       "      <td>CA</td>\n",
       "    </tr>\n",
       "  </tbody>\n",
       "</table>\n",
       "</div>"
      ],
      "text/plain": [
       "             region_name period_begin  period_end  total_homes_sold  \\\n",
       "2     Johnson County, TX   2019-09-23  2019-12-15             577.0   \n",
       "3      Holmes County, OH   2017-10-09  2017-12-31              22.0   \n",
       "4     Madison County, FL   2017-01-09  2017-04-02              12.0   \n",
       "5       Barry County, MO   2020-11-23  2021-02-14              79.0   \n",
       "6  Sacramento County, CA   2020-06-22  2020-09-13            5107.0   \n",
       "\n",
       "   inventory  active_listings  age_of_inventory  median_active_list_price  \\\n",
       "2      717.0            778.0              63.0                  268737.6   \n",
       "3       52.0             54.0             109.4                  115308.3   \n",
       "4       54.0             55.0             151.2                  158062.5   \n",
       "5       70.0             77.0              82.8                  196509.1   \n",
       "6     1729.0           2206.0              27.5                  445540.9   \n",
       "\n",
       "   months_of_supply region_state region_state1  \n",
       "2         17.095583           TX            TX  \n",
       "3         34.050000           OH            OH  \n",
       "4         38.300000           FL            FL  \n",
       "5         13.157870           MO            MO  \n",
       "6          5.235794           CA            CA  "
      ]
     },
     "execution_count": 102,
     "metadata": {},
     "output_type": "execute_result"
    }
   ],
   "source": [
    "dataset.head()"
   ]
  },
  {
   "cell_type": "code",
   "execution_count": 108,
   "id": "92cfd259-05bf-455f-bc6c-e64796f0fb1d",
   "metadata": {},
   "outputs": [
    {
     "data": {
      "text/plain": [
       "region_name\n",
       "Washington    7046\n",
       "Jefferson     5545\n",
       "Franklin      5307\n",
       "Jackson       5071\n",
       "Montgomery    4430\n",
       "              ... \n",
       "Ochiltree        4\n",
       "Cochran          4\n",
       "Randall          3\n",
       "Gaines           1\n",
       "Dunklin          1\n",
       "Name: count, Length: 1432, dtype: int64"
      ]
     },
     "execution_count": 108,
     "metadata": {},
     "output_type": "execute_result"
    }
   ],
   "source": [
    "dataset['region_name'].str[:-11].value_counts()"
   ]
  },
  {
   "cell_type": "code",
   "execution_count": null,
   "id": "5226eac3-9e6d-49c5-acc9-d49d0fe20d81",
   "metadata": {},
   "outputs": [],
   "source": []
  },
  {
   "cell_type": "code",
   "execution_count": null,
   "id": "cd906ee7-ca6f-43c7-bffc-541ce2679d22",
   "metadata": {},
   "outputs": [],
   "source": [
    "df['region_name'].unique()"
   ]
  },
  {
   "cell_type": "code",
   "execution_count": null,
   "id": "116c0d88-7132-4de0-b76e-e4fb46fb9c33",
   "metadata": {},
   "outputs": [],
   "source": [
    "len(dataset['region_name'].value_counts())"
   ]
  },
  {
   "cell_type": "code",
   "execution_count": null,
   "id": "9b6e39fe-924c-403c-b9c6-9afe4865b871",
   "metadata": {},
   "outputs": [],
   "source": [
    "dataset['region_name'].value_counts()"
   ]
  },
  {
   "cell_type": "code",
   "execution_count": null,
   "id": "ad2adb23-a7e2-4afa-9529-8e1d330bfd69",
   "metadata": {},
   "outputs": [],
   "source": [
    "dataset['region_name'].nunique()"
   ]
  },
  {
   "cell_type": "code",
   "execution_count": 79,
   "id": "c00cf794-abc4-43a0-924b-61d39cd8e08e",
   "metadata": {},
   "outputs": [
    {
     "data": {
      "text/plain": [
       "['Culberson ', 'County', ' TX']"
      ]
     },
     "execution_count": 79,
     "metadata": {},
     "output_type": "execute_result"
    }
   ],
   "source": [
    "'Culberson ,County, TX'.split(',')"
   ]
  },
  {
   "cell_type": "code",
   "execution_count": null,
   "id": "134af869-cde6-4f04-b4c1-b093bf87b0b4",
   "metadata": {},
   "outputs": [],
   "source": []
  },
  {
   "cell_type": "code",
   "execution_count": 45,
   "id": "be61679f-1654-4e8d-bea4-022a311d3108",
   "metadata": {},
   "outputs": [
    {
     "data": {
      "text/plain": [
       "region_name                   0\n",
       "period_begin                  0\n",
       "period_end                    0\n",
       "total_homes_sold              0\n",
       "inventory                   278\n",
       "active_listings             278\n",
       "age_of_inventory            278\n",
       "median_active_list_price    278\n",
       "months_of_supply            278\n",
       "dtype: int64"
      ]
     },
     "execution_count": 45,
     "metadata": {},
     "output_type": "execute_result"
    }
   ],
   "source": [
    "df[df['region_name']=='Tooele County, UT'].isnull().sum()"
   ]
  },
  {
   "cell_type": "code",
   "execution_count": null,
   "id": "3b512361-cc74-4ff4-ab7c-dee6cde49708",
   "metadata": {},
   "outputs": [],
   "source": [
    "dataset.head()"
   ]
  },
  {
   "cell_type": "code",
   "execution_count": null,
   "id": "28f4064d-30d4-4f39-b2db-44f53e8566fd",
   "metadata": {},
   "outputs": [],
   "source": [
    "dataset['region_name'].str.split().str[1]"
   ]
  },
  {
   "cell_type": "code",
   "execution_count": null,
   "id": "ae858566-c9af-4aab-928f-42f5fa50cda1",
   "metadata": {},
   "outputs": [],
   "source": [
    "dataset['Region_state'] = dataset['region_name'].str.split(',').str[1]"
   ]
  },
  {
   "cell_type": "code",
   "execution_count": null,
   "id": "ae0541fb-90a8-423e-bd2e-d55e75ebd63b",
   "metadata": {},
   "outputs": [],
   "source": [
    "dataset.head()"
   ]
  },
  {
   "cell_type": "code",
   "execution_count": null,
   "id": "81953f3c-a041-48e2-9f2a-e44d982ede35",
   "metadata": {},
   "outputs": [],
   "source": [
    "len(dataset.groupby(dataset['Region_state'])[['total_homes_sold']].sum())"
   ]
  },
  {
   "cell_type": "code",
   "execution_count": null,
   "id": "dffbedae-58e9-4737-8613-40b42e069e44",
   "metadata": {},
   "outputs": [],
   "source": [
    "# dataset.groupby(dataset['Region_state'])[['total_homes_sold']].sum()"
   ]
  },
  {
   "cell_type": "code",
   "execution_count": null,
   "id": "99618ad8-0949-4041-bd75-ccc92676fbd2",
   "metadata": {},
   "outputs": [],
   "source": [
    "dataset.columns"
   ]
  },
  {
   "cell_type": "code",
   "execution_count": null,
   "id": "e7282fc7-4fa7-4632-ad02-701259eb8d53",
   "metadata": {},
   "outputs": [],
   "source": [
    "dataset[['median_active_list_price', 'months_of_supply']]"
   ]
  },
  {
   "cell_type": "markdown",
   "id": "88cb2730-a537-409b-93ac-7b9b99505c48",
   "metadata": {},
   "source": [
    " b. Average Inventory by Region(by State): Group the data by region_name and calculate the average inventory for each region.\n",
    "\n",
    "    c. Median Active List Price by Region(by State): Group the data by region_name and find the median active list price for each region.\n",
    "\n",
    "\td.\tAverage Age of Inventory by Region ( By County): Group the data by region_name and calculate the average age of inventory for each region."
   ]
  },
  {
   "cell_type": "code",
   "execution_count": null,
   "id": "a23caba8-bf38-4e6b-aa96-23d91d06d4d1",
   "metadata": {},
   "outputs": [],
   "source": [
    "# dataset.groupby(dataset['Region_state'])[['total_homes_sold', 'median_active_list_price','age_of_inventory' ]].sum()"
   ]
  },
  {
   "cell_type": "code",
   "execution_count": null,
   "id": "2e46533e-8e23-4012-9c44-cfadf21af863",
   "metadata": {},
   "outputs": [],
   "source": [
    "# dataset.groupby(dataset['Region_state'])[['total_homes_sold']].sum().sort_values('total_homes_sold')"
   ]
  },
  {
   "cell_type": "code",
   "execution_count": null,
   "id": "2da03e03-c5fd-427a-b404-a7b6d5c68b97",
   "metadata": {},
   "outputs": [],
   "source": [
    "dataset['region_name'].str.split(',').str[0].str.split().str[0]"
   ]
  },
  {
   "cell_type": "code",
   "execution_count": null,
   "id": "4a9489bb-1b6a-466e-bd81-e5b3eff739dd",
   "metadata": {},
   "outputs": [],
   "source": [
    "Los Angles"
   ]
  },
  {
   "cell_type": "code",
   "execution_count": null,
   "id": "627648ce-adc2-4eaa-87a9-dd5329c74b95",
   "metadata": {},
   "outputs": [],
   "source": [
    "dataset['region_county'] = dataset['region_name'].str.split(',').str[0].str.split().str[0]"
   ]
  },
  {
   "cell_type": "code",
   "execution_count": null,
   "id": "1d3845c5-93c7-432d-bf4e-974f4ffcee69",
   "metadata": {},
   "outputs": [],
   "source": [
    "dataset.columns"
   ]
  },
  {
   "cell_type": "code",
   "execution_count": null,
   "id": "b306ff62-fcf3-4cdb-bce8-31fc60a5b8b6",
   "metadata": {},
   "outputs": [],
   "source": [
    "dataset.groupby(dataset['region_name'])['months_of_supply'].agg(['sum', 'min', 'max','mean'])"
   ]
  },
  {
   "cell_type": "code",
   "execution_count": null,
   "id": "8b756370-0cfb-4ae1-a893-91e2db36dc2c",
   "metadata": {},
   "outputs": [],
   "source": [
    "dataset.groupby(dataset['region_county'])['months_of_supply'].agg(['sum', 'min', 'max','mean'])"
   ]
  },
  {
   "cell_type": "code",
   "execution_count": null,
   "id": "9b5b3472-0151-4a56-ad91-8a7276be7db1",
   "metadata": {},
   "outputs": [],
   "source": [
    "dataset.groupby(dataset['region_county'])['age_of_inventory'].sum()"
   ]
  },
  {
   "cell_type": "code",
   "execution_count": null,
   "id": "06f23d80-ec51-4634-8e68-d706bcfc7262",
   "metadata": {},
   "outputs": [],
   "source": [
    "dataset.groupby(dataset['region_name'])"
   ]
  },
  {
   "cell_type": "markdown",
   "id": "bf8218b9-effd-4468-bc89-f86db4e6d3f4",
   "metadata": {},
   "source": [
    "    d.\tAverage Age of Inventory by Region ( By County): Group the data by region_name and calculate the average age of inventory for each region.\n",
    "    \n",
    "\te.\tTotal Active Listings by Region (State): Group the data by region_name and calculate the total number of active listings for each region.\n",
    "    f. Calculate the highest, lowest, and average values in the column 'median_active_list_price'."
   ]
  },
  {
   "cell_type": "code",
   "execution_count": null,
   "id": "a464888a-5f0e-4fcb-b5d3-32109c7a9e13",
   "metadata": {},
   "outputs": [],
   "source": [
    "dataset['median_active_list_price'].agg(['max', 'min','mean', 'count', 'sum', 'std','var', 'median'])"
   ]
  },
  {
   "cell_type": "markdown",
   "id": "6d7333a3",
   "metadata": {},
   "source": [
    "5. Exericses \n",
    "\n",
    "    a. Total Homes Sold by Region(by State): Group the data by region_name and calculate the total number of homes sold in each region.\n",
    "\n",
    "    b. Average Inventory by Region(by State): Group the data by region_name and calculate the average inventory for each region.\n",
    "\n",
    "    c. Median Active List Price by Region(by State): Group the data by region_name and find the median active list price for each region.\n",
    "\n",
    "\td.\tAverage Age of Inventory by Region ( By County): Group the data by region_name and calculate the average age of inventory for each region.\n",
    "    \n",
    "\te.\tTotal Active Listings by Region (State): Group the data by region_name and calculate the total number of active listings for each region.\n",
    "    f. Calculate the highest, lowest, and average values in the column 'median_active_list_price'.\n",
    "\n",
    "6. Show the top 6 highest values in the 'median_active_list_price' column.\n",
    "8. How many counties  are provided in `California (CA)` in the dataset?\n",
    "9. How many regions are provided for specific states like Virginia (VA), Tennessee (TN), District of Columbia (DC), California (CA), etc.?"
   ]
  },
  {
   "cell_type": "code",
   "execution_count": null,
   "id": "0f922c78-9187-40e3-8b20-7c97a661f69e",
   "metadata": {},
   "outputs": [],
   "source": [
    "dataset.head()"
   ]
  },
  {
   "cell_type": "code",
   "execution_count": null,
   "id": "e3a8dc20-3eb9-42a0-8f1c-b27d7c941a9c",
   "metadata": {},
   "outputs": [],
   "source": [
    "dataset[dataset['region_county']=='Johnson']"
   ]
  },
  {
   "cell_type": "code",
   "execution_count": null,
   "id": "08b858e9-a5e6-4153-8386-96d64541ae58",
   "metadata": {},
   "outputs": [],
   "source": [
    "# '    hello wolld'.strip()"
   ]
  },
  {
   "cell_type": "code",
   "execution_count": null,
   "id": "b653432a-4f41-4752-8b20-bc1e27431fc6",
   "metadata": {},
   "outputs": [],
   "source": [
    "dataset['region_county'] = dataset['region_name'].str[:-11]"
   ]
  },
  {
   "cell_type": "code",
   "execution_count": null,
   "id": "53891427-0841-4264-8e6a-0d73b40d2107",
   "metadata": {},
   "outputs": [],
   "source": [
    "dataset[dataset['Region_state']==' CA']['region_county'].value_counts()"
   ]
  },
  {
   "cell_type": "code",
   "execution_count": null,
   "id": "88fd82eb-6007-4f6d-a396-a60906a6d4f2",
   "metadata": {},
   "outputs": [],
   "source": [
    "dataset['region_name']"
   ]
  },
  {
   "cell_type": "code",
   "execution_count": null,
   "id": "1beed340-8094-4ab3-b766-fc7dcd01a480",
   "metadata": {},
   "outputs": [],
   "source": [
    "dataset['Region_state'].value_counts()"
   ]
  },
  {
   "cell_type": "code",
   "execution_count": null,
   "id": "6a78a133-ff35-49d7-bde7-d1102f62b3d6",
   "metadata": {},
   "outputs": [],
   "source": []
  },
  {
   "cell_type": "code",
   "execution_count": null,
   "id": "c2486680-4b51-4157-bc53-df6e8caba958",
   "metadata": {},
   "outputs": [],
   "source": []
  }
 ],
 "metadata": {
  "kernelspec": {
   "display_name": "Python 3 (ipykernel)",
   "language": "python",
   "name": "python3"
  },
  "language_info": {
   "codemirror_mode": {
    "name": "ipython",
    "version": 3
   },
   "file_extension": ".py",
   "mimetype": "text/x-python",
   "name": "python",
   "nbconvert_exporter": "python",
   "pygments_lexer": "ipython3",
   "version": "3.11.5"
  }
 },
 "nbformat": 4,
 "nbformat_minor": 5
}
