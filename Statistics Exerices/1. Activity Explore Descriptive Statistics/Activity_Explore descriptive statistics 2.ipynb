{
 "cells": [
  {
   "cell_type": "markdown",
   "id": "5ac1c232",
   "metadata": {
    "id": "9HYKQFUbTX8V"
   },
   "source": [
    "# Activity: Explore descriptive statistics\n",
    "\n",
    "1. What is standard deviation?\n",
    "    - [More details You Tube Video](https://youtu.be/esskJJF8pCc?si=r236_Qr02w4rvgFU)\n"
   ]
  },
  {
   "cell_type": "markdown",
   "id": "5c3bbfd2",
   "metadata": {},
   "source": [
    "\n",
    "### About dataset"
   ]
  },
  {
   "cell_type": "markdown",
   "id": "80a11af5",
   "metadata": {},
   "source": [
    "| Column Name       | Type     | Description                                                      |\n",
    "|-------------------|----------|------------------------------------------------------------------|\n",
    "| [None]            | int      | Index                                                            |\n",
    "| date_local        | datetime | Date of AQI reading                                             |\n",
    "| state_name        | str      | The name of the state                                            |\n",
    "| county_name       | str      | The name of the U.S. county                                      |\n",
    "| city_name         | str      | U.S. City where monitoring occurred                              |\n",
    "| local_site_name   | str      | The identifier of the site in the owning agency's nomenclature  |\n",
    "| parameter_name    | str      | The description assigned in the air quality system to the parameter measured by the monitor. Parameters may be pollutants or non-pollutants (e.g., wind speed). |\n",
    "| units_of_measure  | str      | The unit of measure for all data in that row. Every parameter has a standard unit of measure. |\n",
    "| arithmetic_mean   | int      | The average (arithmetic mean) value for the day. |\n",
    "| aqi               | int      | \"Air Quality Index\" – AQI is like a thermometer that runs from 0 to 500. The higher the AQI value, the greater the level of air pollution and the greater the health concern. |\n"
   ]
  },
  {
   "cell_type": "markdown",
   "id": "b8097b15",
   "metadata": {},
   "source": [
    "<img src=\"ap.png\" alt=\"What ap\" width=\"50%\" style=\"display: block; margin: 0 auto;\">"
   ]
  },
  {
   "cell_type": "markdown",
   "id": "3d1148d6",
   "metadata": {
    "id": "ee31943b-274e-4c28-bce6-155cb6f4c334"
   },
   "source": [
    "### Introduction\n",
    "\n",
    "Data professionals often use descriptive statistics to understand the data they are working with and provide collaborators with a summary of the relative location of values in the data, as well an information about its spread. \n",
    "\n",
    "For this activity, you are a member of an analytics team for the **United States Environmental Protection Agency (EPA)**. You are assigned to analyze data on air quality with respect to carbon monoxide, a major air pollutant. The data includes information from more than 200 sites, identified by state, county, city, and local site names. You will use Python functions to gather statistics about air quality, then share insights with stakeholders."
   ]
  },
  {
   "cell_type": "markdown",
   "id": "b74a28da",
   "metadata": {
    "id": "4bb9630e-b940-4835-a389-d39def1fa848"
   },
   "source": [
    "### Step 1: Import the relevant Python libraries\n"
   ]
  },
  {
   "cell_type": "code",
   "execution_count": 16,
   "id": "640bcf51",
   "metadata": {
    "id": "8e7f1f2c-bbcc-4f3c-b927-b090ee8334c4"
   },
   "outputs": [],
   "source": [
    "# Import relevant Python libraries.\n",
    "import pandas as pd\n",
    "import matplotlib.pyplot as plt\n",
    "import seaborn as sns\n",
    "import warnings\n",
    "warnings.filterwarnings('ignore')"
   ]
  },
  {
   "cell_type": "code",
   "execution_count": 6,
   "id": "5eeb3621-0437-4bbe-b5f1-e8899d1142a1",
   "metadata": {},
   "outputs": [],
   "source": [
    "df = pd.read_csv('annual_aqi_by_county_2023.csv')"
   ]
  },
  {
   "cell_type": "code",
   "execution_count": 8,
   "id": "10b38fb8-2a6d-402d-a98b-fb51f52a2b14",
   "metadata": {},
   "outputs": [
    {
     "data": {
      "text/html": [
       "<div>\n",
       "<style scoped>\n",
       "    .dataframe tbody tr th:only-of-type {\n",
       "        vertical-align: middle;\n",
       "    }\n",
       "\n",
       "    .dataframe tbody tr th {\n",
       "        vertical-align: top;\n",
       "    }\n",
       "\n",
       "    .dataframe thead th {\n",
       "        text-align: right;\n",
       "    }\n",
       "</style>\n",
       "<table border=\"1\" class=\"dataframe\">\n",
       "  <thead>\n",
       "    <tr style=\"text-align: right;\">\n",
       "      <th></th>\n",
       "      <th>State</th>\n",
       "      <th>County</th>\n",
       "      <th>Year</th>\n",
       "      <th>Days with AQI</th>\n",
       "    </tr>\n",
       "  </thead>\n",
       "  <tbody>\n",
       "    <tr>\n",
       "      <th>0</th>\n",
       "      <td>Alabama</td>\n",
       "      <td>Baldwin</td>\n",
       "      <td>2023</td>\n",
       "      <td>170</td>\n",
       "    </tr>\n",
       "    <tr>\n",
       "      <th>1</th>\n",
       "      <td>Alabama</td>\n",
       "      <td>Clay</td>\n",
       "      <td>2023</td>\n",
       "      <td>155</td>\n",
       "    </tr>\n",
       "    <tr>\n",
       "      <th>2</th>\n",
       "      <td>Alabama</td>\n",
       "      <td>DeKalb</td>\n",
       "      <td>2023</td>\n",
       "      <td>212</td>\n",
       "    </tr>\n",
       "    <tr>\n",
       "      <th>3</th>\n",
       "      <td>Alabama</td>\n",
       "      <td>Elmore</td>\n",
       "      <td>2023</td>\n",
       "      <td>118</td>\n",
       "    </tr>\n",
       "    <tr>\n",
       "      <th>4</th>\n",
       "      <td>Alabama</td>\n",
       "      <td>Etowah</td>\n",
       "      <td>2023</td>\n",
       "      <td>181</td>\n",
       "    </tr>\n",
       "  </tbody>\n",
       "</table>\n",
       "</div>"
      ],
      "text/plain": [
       "     State   County  Year  Days with AQI\n",
       "0  Alabama  Baldwin  2023            170\n",
       "1  Alabama     Clay  2023            155\n",
       "2  Alabama   DeKalb  2023            212\n",
       "3  Alabama   Elmore  2023            118\n",
       "4  Alabama   Etowah  2023            181"
      ]
     },
     "execution_count": 8,
     "metadata": {},
     "output_type": "execute_result"
    }
   ],
   "source": [
    "df.head()"
   ]
  },
  {
   "cell_type": "code",
   "execution_count": 10,
   "id": "f5913590-ac0e-48b7-ab8d-de6da745af22",
   "metadata": {},
   "outputs": [
    {
     "name": "stdout",
     "output_type": "stream",
     "text": [
      "<class 'pandas.core.frame.DataFrame'>\n",
      "RangeIndex: 949 entries, 0 to 948\n",
      "Data columns (total 4 columns):\n",
      " #   Column         Non-Null Count  Dtype \n",
      "---  ------         --------------  ----- \n",
      " 0   State          949 non-null    object\n",
      " 1   County         949 non-null    object\n",
      " 2   Year           949 non-null    int64 \n",
      " 3   Days with AQI  949 non-null    int64 \n",
      "dtypes: int64(2), object(2)\n",
      "memory usage: 29.8+ KB\n"
     ]
    }
   ],
   "source": [
    "df.info()"
   ]
  },
  {
   "cell_type": "markdown",
   "id": "8e434037",
   "metadata": {
    "id": "95bf39c9-d05c-4324-a40b-bc692607b61b"
   },
   "source": [
    "### Step 2: Data exploration"
   ]
  },
  {
   "cell_type": "markdown",
   "id": "ee2a25ad",
   "metadata": {
    "id": "26561614-8e9b-4840-8dbf-b50131ae5314",
    "tags": []
   },
   "source": [
    "To understand how the dataset is structured, display the first 10 rows of the data."
   ]
  },
  {
   "cell_type": "code",
   "execution_count": 12,
   "id": "e2fdd287",
   "metadata": {
    "id": "ad5210a5-7a64-4991-b004-de818cfaf506"
   },
   "outputs": [
    {
     "data": {
      "text/html": [
       "<div>\n",
       "<style scoped>\n",
       "    .dataframe tbody tr th:only-of-type {\n",
       "        vertical-align: middle;\n",
       "    }\n",
       "\n",
       "    .dataframe tbody tr th {\n",
       "        vertical-align: top;\n",
       "    }\n",
       "\n",
       "    .dataframe thead th {\n",
       "        text-align: right;\n",
       "    }\n",
       "</style>\n",
       "<table border=\"1\" class=\"dataframe\">\n",
       "  <thead>\n",
       "    <tr style=\"text-align: right;\">\n",
       "      <th></th>\n",
       "      <th>State</th>\n",
       "      <th>County</th>\n",
       "      <th>Year</th>\n",
       "      <th>Days with AQI</th>\n",
       "    </tr>\n",
       "  </thead>\n",
       "  <tbody>\n",
       "    <tr>\n",
       "      <th>0</th>\n",
       "      <td>Alabama</td>\n",
       "      <td>Baldwin</td>\n",
       "      <td>2023</td>\n",
       "      <td>170</td>\n",
       "    </tr>\n",
       "    <tr>\n",
       "      <th>1</th>\n",
       "      <td>Alabama</td>\n",
       "      <td>Clay</td>\n",
       "      <td>2023</td>\n",
       "      <td>155</td>\n",
       "    </tr>\n",
       "    <tr>\n",
       "      <th>2</th>\n",
       "      <td>Alabama</td>\n",
       "      <td>DeKalb</td>\n",
       "      <td>2023</td>\n",
       "      <td>212</td>\n",
       "    </tr>\n",
       "    <tr>\n",
       "      <th>3</th>\n",
       "      <td>Alabama</td>\n",
       "      <td>Elmore</td>\n",
       "      <td>2023</td>\n",
       "      <td>118</td>\n",
       "    </tr>\n",
       "    <tr>\n",
       "      <th>4</th>\n",
       "      <td>Alabama</td>\n",
       "      <td>Etowah</td>\n",
       "      <td>2023</td>\n",
       "      <td>181</td>\n",
       "    </tr>\n",
       "    <tr>\n",
       "      <th>5</th>\n",
       "      <td>Alabama</td>\n",
       "      <td>Jefferson</td>\n",
       "      <td>2023</td>\n",
       "      <td>182</td>\n",
       "    </tr>\n",
       "    <tr>\n",
       "      <th>6</th>\n",
       "      <td>Alabama</td>\n",
       "      <td>Madison</td>\n",
       "      <td>2023</td>\n",
       "      <td>181</td>\n",
       "    </tr>\n",
       "    <tr>\n",
       "      <th>7</th>\n",
       "      <td>Alabama</td>\n",
       "      <td>Mobile</td>\n",
       "      <td>2023</td>\n",
       "      <td>178</td>\n",
       "    </tr>\n",
       "    <tr>\n",
       "      <th>8</th>\n",
       "      <td>Alabama</td>\n",
       "      <td>Montgomery</td>\n",
       "      <td>2023</td>\n",
       "      <td>150</td>\n",
       "    </tr>\n",
       "    <tr>\n",
       "      <th>9</th>\n",
       "      <td>Alabama</td>\n",
       "      <td>Morgan</td>\n",
       "      <td>2023</td>\n",
       "      <td>181</td>\n",
       "    </tr>\n",
       "  </tbody>\n",
       "</table>\n",
       "</div>"
      ],
      "text/plain": [
       "     State      County  Year  Days with AQI\n",
       "0  Alabama     Baldwin  2023            170\n",
       "1  Alabama        Clay  2023            155\n",
       "2  Alabama      DeKalb  2023            212\n",
       "3  Alabama      Elmore  2023            118\n",
       "4  Alabama      Etowah  2023            181\n",
       "5  Alabama   Jefferson  2023            182\n",
       "6  Alabama     Madison  2023            181\n",
       "7  Alabama      Mobile  2023            178\n",
       "8  Alabama  Montgomery  2023            150\n",
       "9  Alabama      Morgan  2023            181"
      ]
     },
     "execution_count": 12,
     "metadata": {},
     "output_type": "execute_result"
    }
   ],
   "source": [
    "# Display first 10 rows of the data.\n",
    "df.head(10)"
   ]
  },
  {
   "cell_type": "code",
   "execution_count": null,
   "id": "77bbde36",
   "metadata": {},
   "outputs": [],
   "source": [
    "## Check the data types of each column"
   ]
  },
  {
   "cell_type": "markdown",
   "id": "cf3baedf",
   "metadata": {
    "id": "fb45ed17-5e22-4d48-9750-130a8586bbf9",
    "tags": []
   },
   "source": [
    "**Question:** What does the `aqi` column represent?"
   ]
  },
  {
   "cell_type": "markdown",
   "id": "3c067eb8",
   "metadata": {
    "id": "7dac147e-19e1-49e7-bd80-e122390c3a70",
    "tags": []
   },
   "source": [
    "Now, get a table that contains some descriptive statistics about the data."
   ]
  },
  {
   "cell_type": "code",
   "execution_count": null,
   "id": "66f3f350",
   "metadata": {},
   "outputs": [],
   "source": [
    "## Data have any missiing values?"
   ]
  },
  {
   "cell_type": "markdown",
   "id": "4e659348",
   "metadata": {
    "id": "ZfvOKy7F7SOA"
   },
   "source": [
    "### Step 3: Statistical OR Descriptive Statistics"
   ]
  },
  {
   "cell_type": "markdown",
   "id": "6dd9f392",
   "metadata": {
    "id": "5464fa18-f969-4e1e-8539-9b2d9a11766d",
    "tags": []
   },
   "source": [
    "Next, get some descriptive statistics about the states in the data."
   ]
  },
  {
   "cell_type": "code",
   "execution_count": 20,
   "id": "b5ea4897-b2bd-4609-a80e-69d5a8a43dce",
   "metadata": {},
   "outputs": [
    {
     "data": {
      "text/plain": [
       "count            949\n",
       "unique            52\n",
       "top       California\n",
       "freq              50\n",
       "Name: State, dtype: object"
      ]
     },
     "execution_count": 20,
     "metadata": {},
     "output_type": "execute_result"
    }
   ],
   "source": [
    "df['State'].describe()"
   ]
  },
  {
   "cell_type": "markdown",
   "id": "d50e8601-e882-4ca5-b02c-7c94c715384b",
   "metadata": {},
   "source": [
    "Next, get some desscriptive statistics about the aqi in the data"
   ]
  },
  {
   "cell_type": "code",
   "execution_count": 24,
   "id": "ca714261-1c7f-4d7c-8be5-a0612cd9e8dc",
   "metadata": {},
   "outputs": [
    {
     "data": {
      "text/plain": [
       "count    949.000000\n",
       "mean     194.891465\n",
       "std       51.563261\n",
       "min       29.000000\n",
       "25%      179.000000\n",
       "50%      182.000000\n",
       "75%      241.000000\n",
       "max      274.000000\n",
       "Name: Days with AQI, dtype: float64"
      ]
     },
     "execution_count": 24,
     "metadata": {},
     "output_type": "execute_result"
    }
   ],
   "source": [
    "df['Days with AQI'].describe()"
   ]
  },
  {
   "cell_type": "code",
   "execution_count": null,
   "id": "6c8061ba-b36c-4e29-b1c0-277ccd9a7c67",
   "metadata": {},
   "outputs": [],
   "source": [
    "949:100\n",
    "x : 25"
   ]
  },
  {
   "cell_type": "code",
   "execution_count": 36,
   "id": "118224a3-1e2c-4ff4-88b6-93f3cc784aae",
   "metadata": {},
   "outputs": [
    {
     "data": {
      "text/plain": [
       "949.0"
      ]
     },
     "execution_count": 36,
     "metadata": {},
     "output_type": "execute_result"
    }
   ],
   "source": [
    "(949*25)/100"
   ]
  },
  {
   "cell_type": "code",
   "execution_count": 40,
   "id": "e77bd01a-90dc-4085-a802-8588e9906c9f",
   "metadata": {},
   "outputs": [
    {
     "data": {
      "image/png": "[encoded data removed]",
      "text/plain": [
       "<Figure size 640x480 with 1 Axes>"
      ]
     },
     "metadata": {},
     "output_type": "display_data"
    }
   ],
   "source": [
    "sns.boxplot(y = 'Days with AQI', data = df,);"
   ]
  },
  {
   "cell_type": "markdown",
   "id": "2ae98c64",
   "metadata": {},
   "source": [
    "#### 3.1 Graphical Representations"
   ]
  },
  {
   "cell_type": "markdown",
   "id": "67b127e0",
   "metadata": {
    "id": "d6f10268-bf06-471f-8e6e-41c30a8e3e2a",
    "tags": []
   },
   "source": [
    "**Question:** What visualizations will best communicate the distribution and key statistics of carbon monoxide levels (e.g., histograms, box plots, scatter plots)?"
   ]
  },
  {
   "cell_type": "code",
   "execution_count": 52,
   "id": "d173fa6c-fd04-43ad-b95b-3426e44c5284",
   "metadata": {},
   "outputs": [],
   "source": [
    "import numpy as np"
   ]
  },
  {
   "cell_type": "code",
   "execution_count": 66,
   "id": "ced44efe-8b98-4ed0-975b-519abd0666f3",
   "metadata": {},
   "outputs": [
    {
     "data": {
      "text/plain": [
       "count    949.000000\n",
       "mean     194.891465\n",
       "std       51.563261\n",
       "min       29.000000\n",
       "25%      179.000000\n",
       "50%      182.000000\n",
       "75%      241.000000\n",
       "max      274.000000\n",
       "Name: Days with AQI, dtype: float64"
      ]
     },
     "execution_count": 66,
     "metadata": {},
     "output_type": "execute_result"
    }
   ],
   "source": [
    "df['Days with AQI'].describe()"
   ]
  },
  {
   "cell_type": "code",
   "execution_count": 62,
   "id": "a3a59327-2b8b-49c7-b367-9a2fba181924",
   "metadata": {},
   "outputs": [
    {
     "data": {
      "image/png": "[encoded data removed]",
      "text/plain": [
       "<Figure size 1200x400 with 1 Axes>"
      ]
     },
     "metadata": {},
     "output_type": "display_data"
    }
   ],
   "source": [
    "fig, ax = plt.subplots(figsize = (12, 4))\n",
    "sns.histplot(x = df['Days with AQI'], bins = np.arange(25, 301, 25))\n",
    "ax.set_xticks(np.arange(25, 301, 25))\n",
    "ax.bar_label(ax.containers[1], color = 'r')\n",
    "plt.show()"
   ]
  },
  {
   "cell_type": "code",
   "execution_count": 64,
   "id": "a45d2fef-482a-4575-ba0e-d3b77333270a",
   "metadata": {},
   "outputs": [
    {
     "data": {
      "text/html": [
       "<div>\n",
       "<style scoped>\n",
       "    .dataframe tbody tr th:only-of-type {\n",
       "        vertical-align: middle;\n",
       "    }\n",
       "\n",
       "    .dataframe tbody tr th {\n",
       "        vertical-align: top;\n",
       "    }\n",
       "\n",
       "    .dataframe thead th {\n",
       "        text-align: right;\n",
       "    }\n",
       "</style>\n",
       "<table border=\"1\" class=\"dataframe\">\n",
       "  <thead>\n",
       "    <tr style=\"text-align: right;\">\n",
       "      <th></th>\n",
       "      <th>State</th>\n",
       "      <th>County</th>\n",
       "      <th>Year</th>\n",
       "      <th>Days with AQI</th>\n",
       "    </tr>\n",
       "  </thead>\n",
       "  <tbody>\n",
       "    <tr>\n",
       "      <th>0</th>\n",
       "      <td>Alabama</td>\n",
       "      <td>Baldwin</td>\n",
       "      <td>2023</td>\n",
       "      <td>170</td>\n",
       "    </tr>\n",
       "    <tr>\n",
       "      <th>1</th>\n",
       "      <td>Alabama</td>\n",
       "      <td>Clay</td>\n",
       "      <td>2023</td>\n",
       "      <td>155</td>\n",
       "    </tr>\n",
       "    <tr>\n",
       "      <th>2</th>\n",
       "      <td>Alabama</td>\n",
       "      <td>DeKalb</td>\n",
       "      <td>2023</td>\n",
       "      <td>212</td>\n",
       "    </tr>\n",
       "    <tr>\n",
       "      <th>3</th>\n",
       "      <td>Alabama</td>\n",
       "      <td>Elmore</td>\n",
       "      <td>2023</td>\n",
       "      <td>118</td>\n",
       "    </tr>\n",
       "    <tr>\n",
       "      <th>4</th>\n",
       "      <td>Alabama</td>\n",
       "      <td>Etowah</td>\n",
       "      <td>2023</td>\n",
       "      <td>181</td>\n",
       "    </tr>\n",
       "  </tbody>\n",
       "</table>\n",
       "</div>"
      ],
      "text/plain": [
       "     State   County  Year  Days with AQI\n",
       "0  Alabama  Baldwin  2023            170\n",
       "1  Alabama     Clay  2023            155\n",
       "2  Alabama   DeKalb  2023            212\n",
       "3  Alabama   Elmore  2023            118\n",
       "4  Alabama   Etowah  2023            181"
      ]
     },
     "execution_count": 64,
     "metadata": {},
     "output_type": "execute_result"
    }
   ],
   "source": [
    "df.head()"
   ]
  },
  {
   "cell_type": "markdown",
   "id": "058c5ab2",
   "metadata": {
    "id": "Vbu9rG78pGY1"
   },
   "source": [
    "\n",
    "`Esc + B` Write your response"
   ]
  },
  {
   "cell_type": "markdown",
   "id": "1a793595-4b2f-48de-b742-877e65e26e27",
   "metadata": {},
   "source": [
    "#### 3.2 Category-Specific Analysis:\n",
    "1. Within the 'Good' AQI category (0-50)\n",
    "2. In the 'Moderate' AQI category (51-100)\n",
    "3. For the 'Unhealthy for Sensitive Groups'"
   ]
  },
  {
   "cell_type": "markdown",
   "id": "9394a427-561a-4f71-816e-80c25fb8533b",
   "metadata": {},
   "source": [
    "<img src=\"ap.png\" alt=\"What ap\" width=\"30%\" style=\"display: block; margin: 0 auto;\">"
   ]
  },
  {
   "cell_type": "code",
   "execution_count": 75,
   "id": "ec214d74-ccfe-4b22-aecc-c795692c4d1c",
   "metadata": {},
   "outputs": [
    {
     "data": {
      "text/plain": [
       "array([  0,  50, 100, 150, 200, 250, 300])"
      ]
     },
     "execution_count": 75,
     "metadata": {},
     "output_type": "execute_result"
    }
   ],
   "source": [
    "np.arange(0, 301, 50)"
   ]
  },
  {
   "cell_type": "code",
   "execution_count": 85,
   "id": "658d723e-e3dd-412d-8e4e-e7dfc2990d72",
   "metadata": {},
   "outputs": [],
   "source": [
    "# df[(df['Days with AQI']>200) & (df['Days with AQI']<=300)]"
   ]
  },
  {
   "cell_type": "code",
   "execution_count": 96,
   "id": "27ca6596-4c1c-40b0-9fa0-0b30b51a1497",
   "metadata": {},
   "outputs": [],
   "source": [
    "df['categorical AQI'] = pd.cut(x = df['Days with AQI'], bins = [ 0,  50, 100, 150, 200, 300],\n",
    "      labels=['Good', 'Moderate','Unhealthy for Senitive Group','Unhealthy',\n",
    "             'Very Unhealthy'])"
   ]
  },
  {
   "cell_type": "code",
   "execution_count": 98,
   "id": "07b8fff1-0952-4d8a-9eb6-dc662cb04172",
   "metadata": {},
   "outputs": [
    {
     "data": {
      "text/html": [
       "<div>\n",
       "<style scoped>\n",
       "    .dataframe tbody tr th:only-of-type {\n",
       "        vertical-align: middle;\n",
       "    }\n",
       "\n",
       "    .dataframe tbody tr th {\n",
       "        vertical-align: top;\n",
       "    }\n",
       "\n",
       "    .dataframe thead th {\n",
       "        text-align: right;\n",
       "    }\n",
       "</style>\n",
       "<table border=\"1\" class=\"dataframe\">\n",
       "  <thead>\n",
       "    <tr style=\"text-align: right;\">\n",
       "      <th></th>\n",
       "      <th>State</th>\n",
       "      <th>County</th>\n",
       "      <th>Year</th>\n",
       "      <th>Days with AQI</th>\n",
       "      <th>Categorical AQI</th>\n",
       "      <th>categorical AQI</th>\n",
       "    </tr>\n",
       "  </thead>\n",
       "  <tbody>\n",
       "    <tr>\n",
       "      <th>0</th>\n",
       "      <td>Alabama</td>\n",
       "      <td>Baldwin</td>\n",
       "      <td>2023</td>\n",
       "      <td>170</td>\n",
       "      <td>NaN</td>\n",
       "      <td>Unhealthy</td>\n",
       "    </tr>\n",
       "    <tr>\n",
       "      <th>1</th>\n",
       "      <td>Alabama</td>\n",
       "      <td>Clay</td>\n",
       "      <td>2023</td>\n",
       "      <td>155</td>\n",
       "      <td>NaN</td>\n",
       "      <td>Unhealthy</td>\n",
       "    </tr>\n",
       "    <tr>\n",
       "      <th>2</th>\n",
       "      <td>Alabama</td>\n",
       "      <td>DeKalb</td>\n",
       "      <td>2023</td>\n",
       "      <td>212</td>\n",
       "      <td>NaN</td>\n",
       "      <td>Very Unhealthy</td>\n",
       "    </tr>\n",
       "    <tr>\n",
       "      <th>3</th>\n",
       "      <td>Alabama</td>\n",
       "      <td>Elmore</td>\n",
       "      <td>2023</td>\n",
       "      <td>118</td>\n",
       "      <td>NaN</td>\n",
       "      <td>Unhealthy for Senitive Group</td>\n",
       "    </tr>\n",
       "    <tr>\n",
       "      <th>4</th>\n",
       "      <td>Alabama</td>\n",
       "      <td>Etowah</td>\n",
       "      <td>2023</td>\n",
       "      <td>181</td>\n",
       "      <td>NaN</td>\n",
       "      <td>Unhealthy</td>\n",
       "    </tr>\n",
       "  </tbody>\n",
       "</table>\n",
       "</div>"
      ],
      "text/plain": [
       "     State   County  Year  Days with AQI  Categorical AQI  \\\n",
       "0  Alabama  Baldwin  2023            170              NaN   \n",
       "1  Alabama     Clay  2023            155              NaN   \n",
       "2  Alabama   DeKalb  2023            212              NaN   \n",
       "3  Alabama   Elmore  2023            118              NaN   \n",
       "4  Alabama   Etowah  2023            181              NaN   \n",
       "\n",
       "                categorical AQI  \n",
       "0                     Unhealthy  \n",
       "1                     Unhealthy  \n",
       "2                Very Unhealthy  \n",
       "3  Unhealthy for Senitive Group  \n",
       "4                     Unhealthy  "
      ]
     },
     "execution_count": 98,
     "metadata": {},
     "output_type": "execute_result"
    }
   ],
   "source": [
    "df.head()"
   ]
  },
  {
   "cell_type": "markdown",
   "id": "9d8dc1c0-03b9-4329-942b-01b47d214bb4",
   "metadata": {
    "id": "FWASCwOQZsgP"
   },
   "source": [
    "`Esc + B` Write your response"
   ]
  },
  {
   "cell_type": "markdown",
   "id": "6bfb2dc8-16ff-4f24-bda1-0c540ab164eb",
   "metadata": {},
   "source": [
    "#### 3.3 Visual Representation:\n",
    "1. How can we best visualize the count of observations in each AQI category to make the data clear and impactful for stakeholders?\n",
    "2. Should we use bar graphs, pie charts, or another form of visualization to represent the data distribution effectively?"
   ]
  },
  {
   "cell_type": "code",
   "execution_count": 106,
   "id": "dffddd33-bf85-437c-9b9b-47699d825cb7",
   "metadata": {},
   "outputs": [
    {
     "data": {
      "text/plain": [
       "CategoricalIndex(['Unhealthy', 'Very Unhealthy',\n",
       "                  'Unhealthy for Senitive Group', 'Moderate', 'Good'],\n",
       "                 categories=['Good', 'Moderate', 'Unhealthy for Senitive Group', 'Unhealthy', 'Very Unhealthy'], ordered=True, dtype='category', name='categorical AQI')"
      ]
     },
     "execution_count": 106,
     "metadata": {},
     "output_type": "execute_result"
    }
   ],
   "source": [
    "df['categorical AQI'].value_counts().index"
   ]
  },
  {
   "cell_type": "code",
   "execution_count": 126,
   "id": "84ff90ed-7734-43de-b987-825885d03b10",
   "metadata": {},
   "outputs": [
    {
     "data": {
      "image/png": "[encoded data removed]",
      "text/plain": [
       "<Figure size 800x400 with 1 Axes>"
      ]
     },
     "metadata": {},
     "output_type": "display_data"
    }
   ],
   "source": [
    "fig, ax = plt.subplots(figsize = (8, 4))\n",
    "sns.barplot(y=df['categorical AQI'].value_counts().index , x =df['categorical AQI'].value_counts(), color='b')\n",
    "ax.set_title('Title')\n",
    "ax.set_xlabel('X')\n",
    "# ax.set_ylabel('Y')\n",
    "ax.bar_label(ax.containers[0], color = 'r')\n",
    "sns.despine();"
   ]
  },
  {
   "cell_type": "code",
   "execution_count": 134,
   "id": "4c81eec3-9089-4d70-bb9e-be4c0b93354c",
   "metadata": {},
   "outputs": [
    {
     "data": {
      "text/html": [
       "<div>\n",
       "<style scoped>\n",
       "    .dataframe tbody tr th:only-of-type {\n",
       "        vertical-align: middle;\n",
       "    }\n",
       "\n",
       "    .dataframe tbody tr th {\n",
       "        vertical-align: top;\n",
       "    }\n",
       "\n",
       "    .dataframe thead tr th {\n",
       "        text-align: left;\n",
       "    }\n",
       "\n",
       "    .dataframe thead tr:last-of-type th {\n",
       "        text-align: right;\n",
       "    }\n",
       "</style>\n",
       "<table border=\"1\" class=\"dataframe\">\n",
       "  <thead>\n",
       "    <tr>\n",
       "      <th></th>\n",
       "      <th colspan=\"4\" halign=\"left\">State</th>\n",
       "      <th colspan=\"4\" halign=\"left\">County</th>\n",
       "    </tr>\n",
       "    <tr>\n",
       "      <th></th>\n",
       "      <th>count</th>\n",
       "      <th>unique</th>\n",
       "      <th>top</th>\n",
       "      <th>freq</th>\n",
       "      <th>count</th>\n",
       "      <th>unique</th>\n",
       "      <th>top</th>\n",
       "      <th>freq</th>\n",
       "    </tr>\n",
       "    <tr>\n",
       "      <th>categorical AQI</th>\n",
       "      <th></th>\n",
       "      <th></th>\n",
       "      <th></th>\n",
       "      <th></th>\n",
       "      <th></th>\n",
       "      <th></th>\n",
       "      <th></th>\n",
       "      <th></th>\n",
       "    </tr>\n",
       "  </thead>\n",
       "  <tbody>\n",
       "    <tr>\n",
       "      <th>Good</th>\n",
       "      <td>6</td>\n",
       "      <td>5</td>\n",
       "      <td>Virginia</td>\n",
       "      <td>2</td>\n",
       "      <td>6</td>\n",
       "      <td>6</td>\n",
       "      <td>Monroe</td>\n",
       "      <td>1</td>\n",
       "    </tr>\n",
       "    <tr>\n",
       "      <th>Moderate</th>\n",
       "      <td>51</td>\n",
       "      <td>14</td>\n",
       "      <td>Wisconsin</td>\n",
       "      <td>11</td>\n",
       "      <td>51</td>\n",
       "      <td>51</td>\n",
       "      <td>Arkansas</td>\n",
       "      <td>1</td>\n",
       "    </tr>\n",
       "    <tr>\n",
       "      <th>Unhealthy for Senitive Group</th>\n",
       "      <td>90</td>\n",
       "      <td>26</td>\n",
       "      <td>Pennsylvania</td>\n",
       "      <td>9</td>\n",
       "      <td>90</td>\n",
       "      <td>85</td>\n",
       "      <td>Jefferson</td>\n",
       "      <td>3</td>\n",
       "    </tr>\n",
       "    <tr>\n",
       "      <th>Unhealthy</th>\n",
       "      <td>409</td>\n",
       "      <td>41</td>\n",
       "      <td>Florida</td>\n",
       "      <td>36</td>\n",
       "      <td>409</td>\n",
       "      <td>357</td>\n",
       "      <td>Jefferson</td>\n",
       "      <td>5</td>\n",
       "    </tr>\n",
       "    <tr>\n",
       "      <th>Very Unhealthy</th>\n",
       "      <td>393</td>\n",
       "      <td>44</td>\n",
       "      <td>Indiana</td>\n",
       "      <td>31</td>\n",
       "      <td>393</td>\n",
       "      <td>337</td>\n",
       "      <td>Washington</td>\n",
       "      <td>9</td>\n",
       "    </tr>\n",
       "  </tbody>\n",
       "</table>\n",
       "</div>"
      ],
      "text/plain": [
       "                             State                           County         \\\n",
       "                             count unique           top freq  count unique   \n",
       "categorical AQI                                                              \n",
       "Good                             6      5      Virginia    2      6      6   \n",
       "Moderate                        51     14     Wisconsin   11     51     51   \n",
       "Unhealthy for Senitive Group    90     26  Pennsylvania    9     90     85   \n",
       "Unhealthy                      409     41       Florida   36    409    357   \n",
       "Very Unhealthy                 393     44       Indiana   31    393    337   \n",
       "\n",
       "                                               \n",
       "                                     top freq  \n",
       "categorical AQI                                \n",
       "Good                              Monroe    1  \n",
       "Moderate                        Arkansas    1  \n",
       "Unhealthy for Senitive Group   Jefferson    3  \n",
       "Unhealthy                      Jefferson    5  \n",
       "Very Unhealthy                Washington    9  "
      ]
     },
     "execution_count": 134,
     "metadata": {},
     "output_type": "execute_result"
    }
   ],
   "source": [
    "df.groupby(df['categorical AQI'])[['State','County']].describe()"
   ]
  },
  {
   "cell_type": "code",
   "execution_count": 140,
   "id": "94fde18d-b05d-4723-a7a7-4c94f55a5a5e",
   "metadata": {},
   "outputs": [
    {
     "data": {
      "text/html": [
       "<div>\n",
       "<style scoped>\n",
       "    .dataframe tbody tr th:only-of-type {\n",
       "        vertical-align: middle;\n",
       "    }\n",
       "\n",
       "    .dataframe tbody tr th {\n",
       "        vertical-align: top;\n",
       "    }\n",
       "\n",
       "    .dataframe thead th {\n",
       "        text-align: right;\n",
       "    }\n",
       "</style>\n",
       "<table border=\"1\" class=\"dataframe\">\n",
       "  <thead>\n",
       "    <tr style=\"text-align: right;\">\n",
       "      <th></th>\n",
       "      <th>State</th>\n",
       "      <th>County</th>\n",
       "      <th>Year</th>\n",
       "      <th>Days with AQI</th>\n",
       "      <th>Categorical AQI</th>\n",
       "      <th>categorical AQI</th>\n",
       "    </tr>\n",
       "  </thead>\n",
       "  <tbody>\n",
       "    <tr>\n",
       "      <th>399</th>\n",
       "      <td>Michigan</td>\n",
       "      <td>Monroe</td>\n",
       "      <td>2023</td>\n",
       "      <td>40</td>\n",
       "      <td>NaN</td>\n",
       "      <td>Good</td>\n",
       "    </tr>\n",
       "    <tr>\n",
       "      <th>465</th>\n",
       "      <td>Montana</td>\n",
       "      <td>Hill</td>\n",
       "      <td>2023</td>\n",
       "      <td>30</td>\n",
       "      <td>NaN</td>\n",
       "      <td>Good</td>\n",
       "    </tr>\n",
       "    <tr>\n",
       "      <th>605</th>\n",
       "      <td>Ohio</td>\n",
       "      <td>Columbiana</td>\n",
       "      <td>2023</td>\n",
       "      <td>41</td>\n",
       "      <td>NaN</td>\n",
       "      <td>Good</td>\n",
       "    </tr>\n",
       "    <tr>\n",
       "      <th>715</th>\n",
       "      <td>Puerto Rico</td>\n",
       "      <td>Guayama</td>\n",
       "      <td>2023</td>\n",
       "      <td>29</td>\n",
       "      <td>NaN</td>\n",
       "      <td>Good</td>\n",
       "    </tr>\n",
       "    <tr>\n",
       "      <th>834</th>\n",
       "      <td>Virginia</td>\n",
       "      <td>Carroll</td>\n",
       "      <td>2023</td>\n",
       "      <td>29</td>\n",
       "      <td>NaN</td>\n",
       "      <td>Good</td>\n",
       "    </tr>\n",
       "    <tr>\n",
       "      <th>844</th>\n",
       "      <td>Virginia</td>\n",
       "      <td>Hopewell City</td>\n",
       "      <td>2023</td>\n",
       "      <td>32</td>\n",
       "      <td>NaN</td>\n",
       "      <td>Good</td>\n",
       "    </tr>\n",
       "  </tbody>\n",
       "</table>\n",
       "</div>"
      ],
      "text/plain": [
       "           State         County  Year  Days with AQI  Categorical AQI  \\\n",
       "399     Michigan         Monroe  2023             40              NaN   \n",
       "465      Montana           Hill  2023             30              NaN   \n",
       "605         Ohio     Columbiana  2023             41              NaN   \n",
       "715  Puerto Rico        Guayama  2023             29              NaN   \n",
       "834     Virginia        Carroll  2023             29              NaN   \n",
       "844     Virginia  Hopewell City  2023             32              NaN   \n",
       "\n",
       "    categorical AQI  \n",
       "399            Good  \n",
       "465            Good  \n",
       "605            Good  \n",
       "715            Good  \n",
       "834            Good  \n",
       "844            Good  "
      ]
     },
     "execution_count": 140,
     "metadata": {},
     "output_type": "execute_result"
    }
   ],
   "source": [
    "df[df['categorical AQI']=='Good']\n",
    "# df[df['categorical AQI']=='Moderate']\n"
   ]
  },
  {
   "cell_type": "code",
   "execution_count": 128,
   "id": "0cd8e33a-5a31-4d43-9bbf-012335d78750",
   "metadata": {},
   "outputs": [
    {
     "data": {
      "text/html": [
       "<div>\n",
       "<style scoped>\n",
       "    .dataframe tbody tr th:only-of-type {\n",
       "        vertical-align: middle;\n",
       "    }\n",
       "\n",
       "    .dataframe tbody tr th {\n",
       "        vertical-align: top;\n",
       "    }\n",
       "\n",
       "    .dataframe thead th {\n",
       "        text-align: right;\n",
       "    }\n",
       "</style>\n",
       "<table border=\"1\" class=\"dataframe\">\n",
       "  <thead>\n",
       "    <tr style=\"text-align: right;\">\n",
       "      <th></th>\n",
       "      <th>State</th>\n",
       "      <th>County</th>\n",
       "      <th>Year</th>\n",
       "      <th>Days with AQI</th>\n",
       "      <th>Categorical AQI</th>\n",
       "      <th>categorical AQI</th>\n",
       "    </tr>\n",
       "  </thead>\n",
       "  <tbody>\n",
       "    <tr>\n",
       "      <th>0</th>\n",
       "      <td>Alabama</td>\n",
       "      <td>Baldwin</td>\n",
       "      <td>2023</td>\n",
       "      <td>170</td>\n",
       "      <td>NaN</td>\n",
       "      <td>Unhealthy</td>\n",
       "    </tr>\n",
       "    <tr>\n",
       "      <th>1</th>\n",
       "      <td>Alabama</td>\n",
       "      <td>Clay</td>\n",
       "      <td>2023</td>\n",
       "      <td>155</td>\n",
       "      <td>NaN</td>\n",
       "      <td>Unhealthy</td>\n",
       "    </tr>\n",
       "    <tr>\n",
       "      <th>2</th>\n",
       "      <td>Alabama</td>\n",
       "      <td>DeKalb</td>\n",
       "      <td>2023</td>\n",
       "      <td>212</td>\n",
       "      <td>NaN</td>\n",
       "      <td>Very Unhealthy</td>\n",
       "    </tr>\n",
       "    <tr>\n",
       "      <th>3</th>\n",
       "      <td>Alabama</td>\n",
       "      <td>Elmore</td>\n",
       "      <td>2023</td>\n",
       "      <td>118</td>\n",
       "      <td>NaN</td>\n",
       "      <td>Unhealthy for Senitive Group</td>\n",
       "    </tr>\n",
       "    <tr>\n",
       "      <th>4</th>\n",
       "      <td>Alabama</td>\n",
       "      <td>Etowah</td>\n",
       "      <td>2023</td>\n",
       "      <td>181</td>\n",
       "      <td>NaN</td>\n",
       "      <td>Unhealthy</td>\n",
       "    </tr>\n",
       "  </tbody>\n",
       "</table>\n",
       "</div>"
      ],
      "text/plain": [
       "     State   County  Year  Days with AQI  Categorical AQI  \\\n",
       "0  Alabama  Baldwin  2023            170              NaN   \n",
       "1  Alabama     Clay  2023            155              NaN   \n",
       "2  Alabama   DeKalb  2023            212              NaN   \n",
       "3  Alabama   Elmore  2023            118              NaN   \n",
       "4  Alabama   Etowah  2023            181              NaN   \n",
       "\n",
       "                categorical AQI  \n",
       "0                     Unhealthy  \n",
       "1                     Unhealthy  \n",
       "2                Very Unhealthy  \n",
       "3  Unhealthy for Senitive Group  \n",
       "4                     Unhealthy  "
      ]
     },
     "execution_count": 128,
     "metadata": {},
     "output_type": "execute_result"
    }
   ],
   "source": [
    "df.head()"
   ]
  },
  {
   "cell_type": "markdown",
   "id": "10081c5e-e021-4de5-b042-2a768a7d97a1",
   "metadata": {
    "id": "FWASCwOQZsgP"
   },
   "source": [
    "`Esc + B` Write your response"
   ]
  },
  {
   "cell_type": "markdown",
   "id": "47df8833",
   "metadata": {
    "id": "ArTZls9y8amg"
   },
   "source": [
    "### Step 4. Results and evaluation"
   ]
  },
  {
   "cell_type": "markdown",
   "id": "d15bcf36",
   "metadata": {
    "id": "FWASCwOQZsgP"
   },
   "source": [
    "`Esc + B` Write your response"
   ]
  },
  {
   "cell_type": "markdown",
   "id": "25e74e62",
   "metadata": {
    "id": "c77e7f0f-d2b9-4464-8a7c-9575d1e1ef9f"
   },
   "source": [
    "#### Policy-Relevant Insights:\n",
    "1. What insights can be drawn from the data that are relevant to policy decisions on air quality management?\n",
    "2. Are there specific recommendations for targeted actions based on the data analysis?\n"
   ]
  },
  {
   "cell_type": "markdown",
   "id": "3cc6e8d5",
   "metadata": {
    "id": "gfnZAHZ4Y7a_"
   },
   "source": [
    "`Esc + B` Write your response"
   ]
  },
  {
   "cell_type": "markdown",
   "id": "a54be308",
   "metadata": {
    "id": "OPcCpjDLuHaW"
   },
   "source": [
    "**References**\n",
    "\n",
    "[Air Quality Index - A Guide to Air Quality and Your Health](https://www.airnow.gov/sites/default/files/2018-04/aqi_brochure_02_14_0.pdf). (2014,February)\n",
    "\n",
    "[Numpy.Std — NumPy v1.23 Manual](https://numpy.org/doc/stable/reference/generated/numpy.std.html)\n",
    "\n",
    "US EPA, OAR. (2014, 8 July).[*Air Data: Air Quality Data Collected at Outdoor Monitors Across the US*](https://www.epa.gov/outdoor-air-quality-data). "
   ]
  }
 ],
 "metadata": {
  "colab": {
   "collapsed_sections": [
    "68dc9b73-8944-4dd6-b2f8-6879717a7dab",
    "a70475eb-d3a6-42e4-8b71-a49b5a1aa0db",
    "c7a59d04-61f1-45e5-946f-eaed074988cf",
    "4552de4a-70d5-4862-bff8-e08b8a812d98",
    "be75aa7d-a91c-4e3b-8eda-e2e3fe89c8d0",
    "59335267-2025-4013-92de-fec720576263",
    "b66e1d7d-a90e-4aff-b8da-3725c4f15c26"
   ],
   "name": "SR-032_Learner_Facing_Lab_Round4.ipynb",
   "provenance": []
  },
  "kernelspec": {
   "display_name": "Python 3 (ipykernel)",
   "language": "python",
   "name": "python3"
  },
  "language_info": {
   "codemirror_mode": {
    "name": "ipython",
    "version": 3
   },
   "file_extension": ".py",
   "mimetype": "text/x-python",
   "name": "python",
   "nbconvert_exporter": "python",
   "pygments_lexer": "ipython3",
   "version": "3.11.5"
  },
  "toc-autonumbering": false,
  "toc-showtags": false
 },
 "nbformat": 4,
 "nbformat_minor": 5
}
