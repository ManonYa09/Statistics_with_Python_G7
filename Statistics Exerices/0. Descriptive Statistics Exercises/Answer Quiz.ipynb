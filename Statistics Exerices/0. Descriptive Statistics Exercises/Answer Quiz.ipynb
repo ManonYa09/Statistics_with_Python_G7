{
 "cells": [
  {
   "cell_type": "code",
   "execution_count": 45,
   "id": "cc8ec89b-c69b-4c24-accc-27112db2393c",
   "metadata": {},
   "outputs": [],
   "source": [
    "import pandas as pd\n",
    "import numpy as np\n",
    "import matplotlib.pyplot as plt\n",
    "import seaborn as sns\n",
    "import warnings \n",
    "warnings.filterwarnings('ignore')"
   ]
  },
  {
   "cell_type": "code",
   "execution_count": 2,
   "id": "92eff9c6-4c70-48e9-9ba3-d1a0c4541112",
   "metadata": {},
   "outputs": [
    {
     "name": "stdout",
     "output_type": "stream",
     "text": [
      "Requirement already satisfied: openpyxl in /opt/anaconda3/lib/python3.11/site-packages (3.1.5)\n",
      "Requirement already satisfied: et-xmlfile in /opt/anaconda3/lib/python3.11/site-packages (from openpyxl) (1.1.0)\n",
      "\n",
      "\u001b[1m[\u001b[0m\u001b[34;49mnotice\u001b[0m\u001b[1;39;49m]\u001b[0m\u001b[39;49m A new release of pip is available: \u001b[0m\u001b[31;49m24.0\u001b[0m\u001b[39;49m -> \u001b[0m\u001b[32;49m24.1.2\u001b[0m\n",
      "\u001b[1m[\u001b[0m\u001b[34;49mnotice\u001b[0m\u001b[1;39;49m]\u001b[0m\u001b[39;49m To update, run: \u001b[0m\u001b[32;49mpip install --upgrade pip\u001b[0m\n"
     ]
    }
   ],
   "source": [
    "!pip install --upgrade openpyxl"
   ]
  },
  {
   "cell_type": "code",
   "execution_count": null,
   "id": "9af4cf45-24a6-4fdc-b2ea-1c4f110ea56e",
   "metadata": {},
   "outputs": [],
   "source": []
  },
  {
   "cell_type": "code",
   "execution_count": 4,
   "id": "080a57b0-8581-496a-86d7-28dbe5a3cd14",
   "metadata": {},
   "outputs": [],
   "source": [
    "df = pd.read_excel('/Users/macbook/Documents/GitHub/Statistics_with_Python_G7/Dataset/_205a7d5b6310faf94aa3fc51b5fd16ca_OrderList.xlsx')"
   ]
  },
  {
   "cell_type": "code",
   "execution_count": 8,
   "id": "c75172af-6014-4937-af6a-889031797131",
   "metadata": {},
   "outputs": [
    {
     "data": {
      "text/html": [
       "<div>\n",
       "<style scoped>\n",
       "    .dataframe tbody tr th:only-of-type {\n",
       "        vertical-align: middle;\n",
       "    }\n",
       "\n",
       "    .dataframe tbody tr th {\n",
       "        vertical-align: top;\n",
       "    }\n",
       "\n",
       "    .dataframe thead th {\n",
       "        text-align: right;\n",
       "    }\n",
       "</style>\n",
       "<table border=\"1\" class=\"dataframe\">\n",
       "  <thead>\n",
       "    <tr style=\"text-align: right;\">\n",
       "      <th></th>\n",
       "      <th>Order</th>\n",
       "      <th>Region</th>\n",
       "      <th>Age</th>\n",
       "      <th>Total Sale $</th>\n",
       "    </tr>\n",
       "  </thead>\n",
       "  <tbody>\n",
       "    <tr>\n",
       "      <th>0</th>\n",
       "      <td>1000319</td>\n",
       "      <td>South</td>\n",
       "      <td>39</td>\n",
       "      <td>543.95</td>\n",
       "    </tr>\n",
       "    <tr>\n",
       "      <th>1</th>\n",
       "      <td>1002323</td>\n",
       "      <td>South</td>\n",
       "      <td>31</td>\n",
       "      <td>253.78</td>\n",
       "    </tr>\n",
       "    <tr>\n",
       "      <th>2</th>\n",
       "      <td>1005101</td>\n",
       "      <td>West</td>\n",
       "      <td>35</td>\n",
       "      <td>556.82</td>\n",
       "    </tr>\n",
       "    <tr>\n",
       "      <th>3</th>\n",
       "      <td>1008529</td>\n",
       "      <td>East</td>\n",
       "      <td>41</td>\n",
       "      <td>430.50</td>\n",
       "    </tr>\n",
       "    <tr>\n",
       "      <th>4</th>\n",
       "      <td>1008768</td>\n",
       "      <td>East</td>\n",
       "      <td>29</td>\n",
       "      <td>552.30</td>\n",
       "    </tr>\n",
       "  </tbody>\n",
       "</table>\n",
       "</div>"
      ],
      "text/plain": [
       "     Order Region  Age  Total Sale $\n",
       "0  1000319  South   39        543.95\n",
       "1  1002323  South   31        253.78\n",
       "2  1005101   West   35        556.82\n",
       "3  1008529   East   41        430.50\n",
       "4  1008768   East   29        552.30"
      ]
     },
     "execution_count": 8,
     "metadata": {},
     "output_type": "execute_result"
    }
   ],
   "source": [
    "df.head()"
   ]
  },
  {
   "cell_type": "markdown",
   "id": "97fabc46-edb4-445d-821e-af9fa71aa348",
   "metadata": {},
   "source": [
    "### 2. The median of \"Total Sale $\" is larger than the mean. By how much? Round to 2 decimal places.\n",
    "\n"
   ]
  },
  {
   "cell_type": "code",
   "execution_count": 11,
   "id": "36cf5d39-30e9-453f-9ab3-71676fb73e99",
   "metadata": {},
   "outputs": [
    {
     "data": {
      "text/plain": [
       "2.8144133333333343"
      ]
     },
     "execution_count": 11,
     "metadata": {},
     "output_type": "execute_result"
    }
   ],
   "source": [
    "df['Total Sale $'].median()-df['Total Sale $'].mean()"
   ]
  },
  {
   "cell_type": "markdown",
   "id": "66624600-86f3-4d2c-9683-d7fb04ec7565",
   "metadata": {},
   "source": [
    "### 3. What is the standard deviation of Total Sale? Round to 2 decimal places."
   ]
  },
  {
   "cell_type": "code",
   "execution_count": 14,
   "id": "20e498fc-a339-44f2-9bb6-4fd930305061",
   "metadata": {},
   "outputs": [
    {
     "data": {
      "text/plain": [
       "count    3000.000000\n",
       "mean      476.690587\n",
       "std       120.267459\n",
       "min         0.220000\n",
       "25%       400.795000\n",
       "50%       479.505000\n",
       "75%       552.805000\n",
       "max       938.310000\n",
       "Name: Total Sale $, dtype: float64"
      ]
     },
     "execution_count": 14,
     "metadata": {},
     "output_type": "execute_result"
    }
   ],
   "source": [
    "df['Total Sale $'].describe()"
   ]
  },
  {
   "cell_type": "markdown",
   "id": "5cb6c06c-88cf-44c0-b1c9-eeb1ea607d66",
   "metadata": {},
   "source": [
    "### 4. What percentage of orders fell within the interquartile range of Total Sale?\n",
    "\n"
   ]
  },
  {
   "cell_type": "code",
   "execution_count": 37,
   "id": "d61d51b2-73e9-4baf-8cde-b2d4b523de52",
   "metadata": {},
   "outputs": [
    {
     "data": {
      "text/plain": [
       "{'deep': ['#4C72B0',\n",
       "  '#DD8452',\n",
       "  '#55A868',\n",
       "  '#C44E52',\n",
       "  '#8172B3',\n",
       "  '#937860',\n",
       "  '#DA8BC3',\n",
       "  '#8C8C8C',\n",
       "  '#CCB974',\n",
       "  '#64B5CD'],\n",
       " 'deep6': ['#4C72B0', '#55A868', '#C44E52', '#8172B3', '#CCB974', '#64B5CD'],\n",
       " 'muted': ['#4878D0',\n",
       "  '#EE854A',\n",
       "  '#6ACC64',\n",
       "  '#D65F5F',\n",
       "  '#956CB4',\n",
       "  '#8C613C',\n",
       "  '#DC7EC0',\n",
       "  '#797979',\n",
       "  '#D5BB67',\n",
       "  '#82C6E2'],\n",
       " 'muted6': ['#4878D0', '#6ACC64', '#D65F5F', '#956CB4', '#D5BB67', '#82C6E2'],\n",
       " 'pastel': ['#A1C9F4',\n",
       "  '#FFB482',\n",
       "  '#8DE5A1',\n",
       "  '#FF9F9B',\n",
       "  '#D0BBFF',\n",
       "  '#DEBB9B',\n",
       "  '#FAB0E4',\n",
       "  '#CFCFCF',\n",
       "  '#FFFEA3',\n",
       "  '#B9F2F0'],\n",
       " 'pastel6': ['#A1C9F4', '#8DE5A1', '#FF9F9B', '#D0BBFF', '#FFFEA3', '#B9F2F0'],\n",
       " 'bright': ['#023EFF',\n",
       "  '#FF7C00',\n",
       "  '#1AC938',\n",
       "  '#E8000B',\n",
       "  '#8B2BE2',\n",
       "  '#9F4800',\n",
       "  '#F14CC1',\n",
       "  '#A3A3A3',\n",
       "  '#FFC400',\n",
       "  '#00D7FF'],\n",
       " 'bright6': ['#023EFF', '#1AC938', '#E8000B', '#8B2BE2', '#FFC400', '#00D7FF'],\n",
       " 'dark': ['#001C7F',\n",
       "  '#B1400D',\n",
       "  '#12711C',\n",
       "  '#8C0800',\n",
       "  '#591E71',\n",
       "  '#592F0D',\n",
       "  '#A23582',\n",
       "  '#3C3C3C',\n",
       "  '#B8850A',\n",
       "  '#006374'],\n",
       " 'dark6': ['#001C7F', '#12711C', '#8C0800', '#591E71', '#B8850A', '#006374'],\n",
       " 'colorblind': ['#0173B2',\n",
       "  '#DE8F05',\n",
       "  '#029E73',\n",
       "  '#D55E00',\n",
       "  '#CC78BC',\n",
       "  '#CA9161',\n",
       "  '#FBAFE4',\n",
       "  '#949494',\n",
       "  '#ECE133',\n",
       "  '#56B4E9'],\n",
       " 'colorblind6': ['#0173B2',\n",
       "  '#029E73',\n",
       "  '#D55E00',\n",
       "  '#CC78BC',\n",
       "  '#ECE133',\n",
       "  '#56B4E9']}"
      ]
     },
     "execution_count": 37,
     "metadata": {},
     "output_type": "execute_result"
    }
   ],
   "source": [
    "sns.palettes.SEABORN_PALETTES"
   ]
  },
  {
   "cell_type": "code",
   "execution_count": 67,
   "id": "3329abe2-bb20-4666-8d4d-f63103e588e1",
   "metadata": {},
   "outputs": [
    {
     "data": {
      "image/png": "[encoded data removed]",
      "text/plain": [
       "<Figure size 1200x600 with 1 Axes>"
      ]
     },
     "metadata": {},
     "output_type": "display_data"
    }
   ],
   "source": [
    "fig, ax = plt.subplots(figsize = (12, 6))\n",
    "sns.histplot(x = df['Total Sale $'], hue = df['Region'],\n",
    "             palette = [\"#FF6347\", \"#4682B4\", \"#32CD32\", \"#FFD700\"], \n",
    "             bins = np.arange(0, 901, 25),)\n",
    "ax.set_xticks(np.arange(0, 901, 50))\n",
    "ax.set_xlim(0, 901)\n",
    "sns.despine()"
   ]
  },
  {
   "cell_type": "markdown",
   "id": "76c586b5-8dbf-4381-a843-f742d11fe489",
   "metadata": {},
   "source": [
    "#### 5. Given the limited information you have, your boss wants you to group customers in a meaningful way. You decide to take a look at how the order region impacts things. Calculate the average total sales from the North region only. What is the difference between the North region average total sales and the average total sales across all regions (including the North)? Round to 2 decimal places."
   ]
  },
  {
   "cell_type": "code",
   "execution_count": 25,
   "id": "17c69866-9840-4a28-9fb8-d415a6ab4afc",
   "metadata": {},
   "outputs": [
    {
     "data": {
      "text/html": [
       "<div>\n",
       "<style scoped>\n",
       "    .dataframe tbody tr th:only-of-type {\n",
       "        vertical-align: middle;\n",
       "    }\n",
       "\n",
       "    .dataframe tbody tr th {\n",
       "        vertical-align: top;\n",
       "    }\n",
       "\n",
       "    .dataframe thead th {\n",
       "        text-align: right;\n",
       "    }\n",
       "</style>\n",
       "<table border=\"1\" class=\"dataframe\">\n",
       "  <thead>\n",
       "    <tr style=\"text-align: right;\">\n",
       "      <th></th>\n",
       "      <th>count</th>\n",
       "      <th>mean</th>\n",
       "      <th>std</th>\n",
       "      <th>min</th>\n",
       "      <th>25%</th>\n",
       "      <th>50%</th>\n",
       "      <th>75%</th>\n",
       "      <th>max</th>\n",
       "    </tr>\n",
       "    <tr>\n",
       "      <th>Region</th>\n",
       "      <th></th>\n",
       "      <th></th>\n",
       "      <th></th>\n",
       "      <th></th>\n",
       "      <th></th>\n",
       "      <th></th>\n",
       "      <th></th>\n",
       "      <th></th>\n",
       "    </tr>\n",
       "  </thead>\n",
       "  <tbody>\n",
       "    <tr>\n",
       "      <th>East</th>\n",
       "      <td>755.0</td>\n",
       "      <td>476.013748</td>\n",
       "      <td>124.851016</td>\n",
       "      <td>72.31</td>\n",
       "      <td>402.61</td>\n",
       "      <td>473.050</td>\n",
       "      <td>551.9550</td>\n",
       "      <td>935.69</td>\n",
       "    </tr>\n",
       "    <tr>\n",
       "      <th>North</th>\n",
       "      <td>744.0</td>\n",
       "      <td>478.133952</td>\n",
       "      <td>116.507786</td>\n",
       "      <td>0.22</td>\n",
       "      <td>408.69</td>\n",
       "      <td>478.925</td>\n",
       "      <td>552.3125</td>\n",
       "      <td>848.93</td>\n",
       "    </tr>\n",
       "    <tr>\n",
       "      <th>South</th>\n",
       "      <td>756.0</td>\n",
       "      <td>474.323492</td>\n",
       "      <td>123.661023</td>\n",
       "      <td>43.45</td>\n",
       "      <td>392.42</td>\n",
       "      <td>478.035</td>\n",
       "      <td>559.5875</td>\n",
       "      <td>937.20</td>\n",
       "    </tr>\n",
       "    <tr>\n",
       "      <th>West</th>\n",
       "      <td>745.0</td>\n",
       "      <td>478.337128</td>\n",
       "      <td>115.853308</td>\n",
       "      <td>67.19</td>\n",
       "      <td>401.73</td>\n",
       "      <td>483.530</td>\n",
       "      <td>549.5800</td>\n",
       "      <td>938.31</td>\n",
       "    </tr>\n",
       "  </tbody>\n",
       "</table>\n",
       "</div>"
      ],
      "text/plain": [
       "        count        mean         std    min     25%      50%       75%  \\\n",
       "Region                                                                    \n",
       "East    755.0  476.013748  124.851016  72.31  402.61  473.050  551.9550   \n",
       "North   744.0  478.133952  116.507786   0.22  408.69  478.925  552.3125   \n",
       "South   756.0  474.323492  123.661023  43.45  392.42  478.035  559.5875   \n",
       "West    745.0  478.337128  115.853308  67.19  401.73  483.530  549.5800   \n",
       "\n",
       "           max  \n",
       "Region          \n",
       "East    935.69  \n",
       "North   848.93  \n",
       "South   937.20  \n",
       "West    938.31  "
      ]
     },
     "execution_count": 25,
     "metadata": {},
     "output_type": "execute_result"
    }
   ],
   "source": [
    "df.groupby(df['Region'])['Total Sale $'].describe()"
   ]
  },
  {
   "cell_type": "markdown",
   "id": "b14d7375-7863-4aaa-baab-424479bc3745",
   "metadata": {},
   "source": [
    "#### 6. What is the absolute value of difference between the North region median total sales and all orders median total sales (across all regions including the North)?\n"
   ]
  },
  {
   "cell_type": "code",
   "execution_count": 90,
   "id": "bc668657-3769-4650-89f2-956c5e40ff59",
   "metadata": {},
   "outputs": [
    {
     "data": {
      "text/plain": [
       "0.5799999999999841"
      ]
     },
     "execution_count": 90,
     "metadata": {},
     "output_type": "execute_result"
    }
   ],
   "source": [
    "abs(df_North['Total Sale $'].median()-df['Total Sale $'].median())"
   ]
  },
  {
   "cell_type": "markdown",
   "id": "60ac6438-a992-4f8c-a556-3a0445a9240b",
   "metadata": {},
   "source": [
    "#### 7. Next, take a look at customer age. Create 3 age groups: 21-30, 31-40, 41-50. What is the average total sales for the age group with the highest average? Round to 2 decimal places."
   ]
  },
  {
   "cell_type": "code",
   "execution_count": 130,
   "id": "e581adb2-f46d-4fba-8577-a678234aefa9",
   "metadata": {},
   "outputs": [
    {
     "data": {
      "image/png": "[encoded data removed]",
      "text/plain": [
       "<Figure size 640x480 with 1 Axes>"
      ]
     },
     "metadata": {},
     "output_type": "display_data"
    }
   ],
   "source": [
    "sns.histplot(x = df['Age'], bins = [20, 30, 50]);\n"
   ]
  },
  {
   "cell_type": "code",
   "execution_count": 132,
   "id": "611fccf1-ce6e-41e2-b35a-3f4f8b714e9f",
   "metadata": {},
   "outputs": [
    {
     "data": {
      "text/plain": [
       "count    3000.000000\n",
       "mean       35.416333\n",
       "std         8.675603\n",
       "min        21.000000\n",
       "25%        28.000000\n",
       "50%        35.000000\n",
       "75%        43.000000\n",
       "max        50.000000\n",
       "Name: Age, dtype: float64"
      ]
     },
     "execution_count": 132,
     "metadata": {},
     "output_type": "execute_result"
    }
   ],
   "source": [
    "df['Age'].describe()"
   ]
  },
  {
   "cell_type": "code",
   "execution_count": 138,
   "id": "3fcdff18-2d26-4427-a6ca-2b09c4a98c30",
   "metadata": {},
   "outputs": [
    {
     "data": {
      "text/plain": [
       "Age\n",
       "21-30    1000\n",
       "31-40    1000\n",
       "41-50    1000\n",
       "Name: count, dtype: int64"
      ]
     },
     "execution_count": 138,
     "metadata": {},
     "output_type": "execute_result"
    }
   ],
   "source": [
    "pd.cut(df['Age'], bins = [20, 30, 40, 50 ], labels = ['21-30', '31-40', '41-50']).value_counts()"
   ]
  },
  {
   "cell_type": "code",
   "execution_count": 106,
   "id": "4a8450ec-4e36-4150-991f-6da0b94e3173",
   "metadata": {},
   "outputs": [],
   "source": [
    "age_21_30 = df[(df['Age']>=21) & (df['Age']<=30)]\n",
    "age_31_40 = df[(df['Age']>=31) & (df['Age']<=40)]\n",
    "age_41_50 = df[(df['Age']>=41) & (df['Age']<=50)]"
   ]
  },
  {
   "cell_type": "code",
   "execution_count": 73,
   "id": "92e3bd6c-1d15-4b2e-8c8e-84184ba2b970",
   "metadata": {},
   "outputs": [],
   "source": [
    "df_East = df[df['Region']=='East']\n",
    "df_North = df[df['Region']=='North']\n",
    "df_South = [df['Region']=='South']\n",
    "df_West = df[df['Region']=='West']"
   ]
  },
  {
   "cell_type": "code",
   "execution_count": 140,
   "id": "a2e34f38-ef9f-4e6e-ba01-cd920ce283d8",
   "metadata": {},
   "outputs": [],
   "source": [
    "def categorize_age(age):\n",
    "    if 21 <= age <= 30:\n",
    "        return '21-30'\n",
    "    elif 31 <= age <= 40:\n",
    "        return '31-40'\n",
    "    elif 41 <= age <= 50:\n",
    "        return '41-50'\n",
    "    else:\n",
    "        return np.nan\n",
    "\n",
    "# Create the 'age_group' column using apply\n",
    "df['age_group1'] = df['Age'].apply(categorize_age)"
   ]
  },
  {
   "cell_type": "code",
   "execution_count": 142,
   "id": "aff8496b-1a59-45a4-ad6a-6f7219085535",
   "metadata": {},
   "outputs": [
    {
     "data": {
      "text/html": [
       "<div>\n",
       "<style scoped>\n",
       "    .dataframe tbody tr th:only-of-type {\n",
       "        vertical-align: middle;\n",
       "    }\n",
       "\n",
       "    .dataframe tbody tr th {\n",
       "        vertical-align: top;\n",
       "    }\n",
       "\n",
       "    .dataframe thead th {\n",
       "        text-align: right;\n",
       "    }\n",
       "</style>\n",
       "<table border=\"1\" class=\"dataframe\">\n",
       "  <thead>\n",
       "    <tr style=\"text-align: right;\">\n",
       "      <th></th>\n",
       "      <th>Order</th>\n",
       "      <th>Region</th>\n",
       "      <th>Age</th>\n",
       "      <th>Total Sale $</th>\n",
       "      <th>age_group1</th>\n",
       "    </tr>\n",
       "  </thead>\n",
       "  <tbody>\n",
       "    <tr>\n",
       "      <th>0</th>\n",
       "      <td>1000319</td>\n",
       "      <td>South</td>\n",
       "      <td>39</td>\n",
       "      <td>543.95</td>\n",
       "      <td>31-40</td>\n",
       "    </tr>\n",
       "    <tr>\n",
       "      <th>1</th>\n",
       "      <td>1002323</td>\n",
       "      <td>South</td>\n",
       "      <td>31</td>\n",
       "      <td>253.78</td>\n",
       "      <td>31-40</td>\n",
       "    </tr>\n",
       "    <tr>\n",
       "      <th>2</th>\n",
       "      <td>1005101</td>\n",
       "      <td>West</td>\n",
       "      <td>35</td>\n",
       "      <td>556.82</td>\n",
       "      <td>31-40</td>\n",
       "    </tr>\n",
       "    <tr>\n",
       "      <th>3</th>\n",
       "      <td>1008529</td>\n",
       "      <td>East</td>\n",
       "      <td>41</td>\n",
       "      <td>430.50</td>\n",
       "      <td>41-50</td>\n",
       "    </tr>\n",
       "    <tr>\n",
       "      <th>4</th>\n",
       "      <td>1008768</td>\n",
       "      <td>East</td>\n",
       "      <td>29</td>\n",
       "      <td>552.30</td>\n",
       "      <td>21-30</td>\n",
       "    </tr>\n",
       "    <tr>\n",
       "      <th>...</th>\n",
       "      <td>...</td>\n",
       "      <td>...</td>\n",
       "      <td>...</td>\n",
       "      <td>...</td>\n",
       "      <td>...</td>\n",
       "    </tr>\n",
       "    <tr>\n",
       "      <th>2995</th>\n",
       "      <td>9986453</td>\n",
       "      <td>North</td>\n",
       "      <td>41</td>\n",
       "      <td>295.27</td>\n",
       "      <td>41-50</td>\n",
       "    </tr>\n",
       "    <tr>\n",
       "      <th>2996</th>\n",
       "      <td>9987889</td>\n",
       "      <td>West</td>\n",
       "      <td>42</td>\n",
       "      <td>671.26</td>\n",
       "      <td>41-50</td>\n",
       "    </tr>\n",
       "    <tr>\n",
       "      <th>2997</th>\n",
       "      <td>9988584</td>\n",
       "      <td>North</td>\n",
       "      <td>23</td>\n",
       "      <td>624.41</td>\n",
       "      <td>21-30</td>\n",
       "    </tr>\n",
       "    <tr>\n",
       "      <th>2998</th>\n",
       "      <td>9992389</td>\n",
       "      <td>West</td>\n",
       "      <td>24</td>\n",
       "      <td>743.35</td>\n",
       "      <td>21-30</td>\n",
       "    </tr>\n",
       "    <tr>\n",
       "      <th>2999</th>\n",
       "      <td>9998727</td>\n",
       "      <td>South</td>\n",
       "      <td>31</td>\n",
       "      <td>476.61</td>\n",
       "      <td>31-40</td>\n",
       "    </tr>\n",
       "  </tbody>\n",
       "</table>\n",
       "<p>3000 rows × 5 columns</p>\n",
       "</div>"
      ],
      "text/plain": [
       "        Order Region  Age  Total Sale $ age_group1\n",
       "0     1000319  South   39        543.95      31-40\n",
       "1     1002323  South   31        253.78      31-40\n",
       "2     1005101   West   35        556.82      31-40\n",
       "3     1008529   East   41        430.50      41-50\n",
       "4     1008768   East   29        552.30      21-30\n",
       "...       ...    ...  ...           ...        ...\n",
       "2995  9986453  North   41        295.27      41-50\n",
       "2996  9987889   West   42        671.26      41-50\n",
       "2997  9988584  North   23        624.41      21-30\n",
       "2998  9992389   West   24        743.35      21-30\n",
       "2999  9998727  South   31        476.61      31-40\n",
       "\n",
       "[3000 rows x 5 columns]"
      ]
     },
     "execution_count": 142,
     "metadata": {},
     "output_type": "execute_result"
    }
   ],
   "source": [
    "df"
   ]
  },
  {
   "cell_type": "code",
   "execution_count": 146,
   "id": "c56ed58e-6154-486f-9319-5f896e659d32",
   "metadata": {},
   "outputs": [
    {
     "data": {
      "text/html": [
       "<div>\n",
       "<style scoped>\n",
       "    .dataframe tbody tr th:only-of-type {\n",
       "        vertical-align: middle;\n",
       "    }\n",
       "\n",
       "    .dataframe tbody tr th {\n",
       "        vertical-align: top;\n",
       "    }\n",
       "\n",
       "    .dataframe thead th {\n",
       "        text-align: right;\n",
       "    }\n",
       "</style>\n",
       "<table border=\"1\" class=\"dataframe\">\n",
       "  <thead>\n",
       "    <tr style=\"text-align: right;\">\n",
       "      <th></th>\n",
       "      <th>count</th>\n",
       "      <th>mean</th>\n",
       "      <th>std</th>\n",
       "      <th>min</th>\n",
       "      <th>25%</th>\n",
       "      <th>50%</th>\n",
       "      <th>75%</th>\n",
       "      <th>max</th>\n",
       "    </tr>\n",
       "    <tr>\n",
       "      <th>age_group1</th>\n",
       "      <th></th>\n",
       "      <th></th>\n",
       "      <th></th>\n",
       "      <th></th>\n",
       "      <th></th>\n",
       "      <th></th>\n",
       "      <th></th>\n",
       "      <th></th>\n",
       "    </tr>\n",
       "  </thead>\n",
       "  <tbody>\n",
       "    <tr>\n",
       "      <th>21-30</th>\n",
       "      <td>1000.0</td>\n",
       "      <td>494.62254</td>\n",
       "      <td>110.598146</td>\n",
       "      <td>267.98</td>\n",
       "      <td>413.6625</td>\n",
       "      <td>479.265</td>\n",
       "      <td>561.4200</td>\n",
       "      <td>938.31</td>\n",
       "    </tr>\n",
       "    <tr>\n",
       "      <th>31-40</th>\n",
       "      <td>1000.0</td>\n",
       "      <td>459.09028</td>\n",
       "      <td>104.344349</td>\n",
       "      <td>0.22</td>\n",
       "      <td>403.1775</td>\n",
       "      <td>479.820</td>\n",
       "      <td>538.4575</td>\n",
       "      <td>675.09</td>\n",
       "    </tr>\n",
       "    <tr>\n",
       "      <th>41-50</th>\n",
       "      <td>1000.0</td>\n",
       "      <td>476.35894</td>\n",
       "      <td>140.249711</td>\n",
       "      <td>1.38</td>\n",
       "      <td>386.1750</td>\n",
       "      <td>479.065</td>\n",
       "      <td>571.3400</td>\n",
       "      <td>937.20</td>\n",
       "    </tr>\n",
       "  </tbody>\n",
       "</table>\n",
       "</div>"
      ],
      "text/plain": [
       "             count       mean         std     min       25%      50%  \\\n",
       "age_group1                                                             \n",
       "21-30       1000.0  494.62254  110.598146  267.98  413.6625  479.265   \n",
       "31-40       1000.0  459.09028  104.344349    0.22  403.1775  479.820   \n",
       "41-50       1000.0  476.35894  140.249711    1.38  386.1750  479.065   \n",
       "\n",
       "                 75%     max  \n",
       "age_group1                    \n",
       "21-30       561.4200  938.31  \n",
       "31-40       538.4575  675.09  \n",
       "41-50       571.3400  937.20  "
      ]
     },
     "execution_count": 146,
     "metadata": {},
     "output_type": "execute_result"
    }
   ],
   "source": [
    "df.groupby(df['age_group1'])['Total Sale $'].describe()"
   ]
  },
  {
   "cell_type": "code",
   "execution_count": 162,
   "id": "b9931b66-770e-44cf-90c6-25f1c49023c4",
   "metadata": {},
   "outputs": [
    {
     "data": {
      "image/png": "[encoded data removed]",
      "text/plain": [
       "<Figure size 1200x600 with 1 Axes>"
      ]
     },
     "metadata": {},
     "output_type": "display_data"
    }
   ],
   "source": [
    "fig, ax = plt.subplots(figsize = (12, 6))\n",
    "sns.histplot(x = df['Total Sale $'], hue = df['age_group1'],\n",
    "             palette = [\"#FF6347\", \"#4682B4\", \"#32CD32\", \"#FFD700\"], \n",
    "             bins = np.arange(0, 901, 25),)\n",
    "ax.set_xticks(np.arange(0, 901, 50))\n",
    "ax.set_xlim(0, 901)\n",
    "for i in ax.containers:\n",
    "    ax.bar_label(i)\n",
    "# ax.bar_label(ax.containers[1])\n",
    "sns.despine()"
   ]
  },
  {
   "cell_type": "code",
   "execution_count": null,
   "id": "91343d82-1559-4f1b-a868-1a16520f9027",
   "metadata": {},
   "outputs": [],
   "source": []
  }
 ],
 "metadata": {
  "kernelspec": {
   "display_name": "Python 3 (ipykernel)",
   "language": "python",
   "name": "python3"
  },
  "language_info": {
   "codemirror_mode": {
    "name": "ipython",
    "version": 3
   },
   "file_extension": ".py",
   "mimetype": "text/x-python",
   "name": "python",
   "nbconvert_exporter": "python",
   "pygments_lexer": "ipython3",
   "version": "3.11.5"
  }
 },
 "nbformat": 4,
 "nbformat_minor": 5
}
