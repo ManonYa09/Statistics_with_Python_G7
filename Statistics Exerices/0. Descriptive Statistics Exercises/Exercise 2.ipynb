{
 "cells": [
  {
   "cell_type": "markdown",
   "id": "510780fa-4f20-4825-b226-2324b1de9072",
   "metadata": {},
   "source": [
    "<div style=\"padding:20px;\n",
    "            color:white;\n",
    "            margin:10;\n",
    "            font-size:170%;\n",
    "            text-align:left;\n",
    "            display:fill;\n",
    "            border-radius:5px;\n",
    "            background-color:#CA6F1E;\n",
    "            overflow:hidden;\n",
    "            font-weight:700\"><span style='color:#283747'></span>\"Predicting Insurance Charges.\" </div>"
   ]
  },
  {
   "cell_type": "markdown",
   "id": "264e1e2d-0721-4170-874a-f2cbf48b5b49",
   "metadata": {},
   "source": [
    "- [1. Load the dataset](#1)\n",
    "\n",
    "- [2.Descrptive Statistics](#2)\n",
    "    - [2.1 Exploring the dataset](#1.1)\n",
    "    - [2.2 Data Cleaning](#1.3)\n",
    "        - [2.3 Missing Value](#1.3.1)\n",
    "        - [2.3.2 Duplicated](#1.3.2)\n",
    "        - [2.3.3 Outliter](#1.3.3)\n",
    "     \n",
    "    - [2.3 Diagnostics Analytics](#2.3)"
   ]
  },
  {
   "cell_type": "markdown",
   "id": "6c7f716f-afc3-40a0-99c3-25782e598c09",
   "metadata": {},
   "source": [
    "### 1. Import Libary and Laod the dataset"
   ]
  },
  {
   "cell_type": "code",
   "execution_count": 4,
   "id": "17ae582c-4bab-4e53-8193-2222f4474ae6",
   "metadata": {},
   "outputs": [],
   "source": [
    "import pandas as pd\n",
    "import numpy as np \n",
    "import matplotlib.pyplot as plt\n",
    "import seaborn as sns\n",
    "import warnings\n",
    "warnings.filterwarnings('ignore')"
   ]
  },
  {
   "cell_type": "code",
   "execution_count": 8,
   "id": "90e1faa7-4496-464a-b544-ee7805cc2b5c",
   "metadata": {},
   "outputs": [],
   "source": [
    "df = pd.read_csv('https://raw.githubusercontent.com/ManonYa09/Statistics_with_Python_G6/main/Dataset/5.%20insurance.csv')"
   ]
  },
  {
   "cell_type": "markdown",
   "id": "45bb6298-6c77-4771-a3b8-93016dac8bac",
   "metadata": {},
   "source": [
    "### 2. Descriptive Statistics"
   ]
  },
  {
   "cell_type": "markdown",
   "id": "93a826c1-830a-4360-a69a-ca31f6d19003",
   "metadata": {},
   "source": [
    "<a id='basic_data_exploration'></a>\n",
    "#### 2.1. Basic Data Exploration or Quick Exploration\n",
    "```python\n",
    "- df.head() # Displays the first 5 rows of the DataFrame.\n",
    "- df.shape # show the numbers of rows and columns of dataset\n",
    "- df.iloc[[rows], [columns]] # df.iloc[[0, 1], [2, 3]]  # Selects rows 0 and 1, columns 2 and 3\n",
    "- df.loc[[rows], [columns]] # df.loc[[0, 1], ['column1', 'column2']]  # Selects rows 0 and 1, columns 'column1' and 'column2'\n",
    "- df.dtypes # Returns the data types of each column.\n",
    "- df.info() # Provides a concise summary of the DataFrame, including the number of non-null entries and data types.\n",
    "- df.describe() # Generates descriptive statistics for numeric columns, such as count, mean, and standard deviation.\n",
    "```"
   ]
  },
  {
   "cell_type": "markdown",
   "id": "23b1b594-5902-4636-8729-515836949511",
   "metadata": {},
   "source": [
    "<a id= 'data_cleaning'><a/>\n",
    "#### 2.1. Data Cleaning\n",
    "```python\n",
    "- df.isnull().sum() # Displays the number of missing (null) values in each column\n",
    "- df[column].isnull() # Returns a boolean series indicating whether each value in the specified column is missing.\n",
    "- df.dropna(inplace = True) | dataset = df.dropna() # Removes all rows with missing values. Using inplace=True modifies the DataFrame directly, while assigning to a new variable keeps the original DataFrame unchanged.\n",
    "- df.duplicated().sum() # Returns the number of duplicate rows in the DataFrame.\n",
    "```"
   ]
  },
  {
   "cell_type": "code",
   "execution_count": null,
   "id": "450ca075-ae2f-47b3-9b2d-6b880a5f56f6",
   "metadata": {},
   "outputs": [],
   "source": []
  }
 ],
 "metadata": {
  "kernelspec": {
   "display_name": "Python 3 (ipykernel)",
   "language": "python",
   "name": "python3"
  },
  "language_info": {
   "codemirror_mode": {
    "name": "ipython",
    "version": 3
   },
   "file_extension": ".py",
   "mimetype": "text/x-python",
   "name": "python",
   "nbconvert_exporter": "python",
   "pygments_lexer": "ipython3",
   "version": "3.11.5"
  }
 },
 "nbformat": 4,
 "nbformat_minor": 5
}
