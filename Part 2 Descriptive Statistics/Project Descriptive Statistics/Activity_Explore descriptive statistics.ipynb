{
 "cells": [
  {
   "cell_type": "markdown",
   "id": "5ac1c232",
   "metadata": {
    "id": "9HYKQFUbTX8V"
   },
   "source": [
    "# Activity: Explore descriptive statistics\n",
    "\n",
    "1. What is standard deviation?\n",
    "    - [More details You Tube Video](https://youtu.be/esskJJF8pCc?si=r236_Qr02w4rvgFU)\n"
   ]
  },
  {
   "cell_type": "markdown",
   "id": "5c3bbfd2",
   "metadata": {},
   "source": [
    "\n",
    "### About dataset"
   ]
  },
  {
   "cell_type": "markdown",
   "id": "80a11af5",
   "metadata": {},
   "source": [
    "| Column Name       | Type     | Description                                                      |\n",
    "|-------------------|----------|------------------------------------------------------------------|\n",
    "| [None]            | int      | Index                                                            |\n",
    "| date_local        | datetime | Date of AQI reading                                             |\n",
    "| state_name        | str      | The name of the state                                            |\n",
    "| county_name       | str      | The name of the U.S. county                                      |\n",
    "| city_name         | str      | U.S. City where monitoring occurred                              |\n",
    "| local_site_name   | str      | The identifier of the site in the owning agency's nomenclature  |\n",
    "| parameter_name    | str      | The description assigned in the air quality system to the parameter measured by the monitor. Parameters may be pollutants or non-pollutants (e.g., wind speed). |\n",
    "| units_of_measure  | str      | The unit of measure for all data in that row. Every parameter has a standard unit of measure. |\n",
    "| arithmetic_mean   | int      | The average (arithmetic mean) value for the day. |\n",
    "| aqi               | int      | \"Air Quality Index\" – AQI is like a thermometer that runs from 0 to 500. The higher the AQI value, the greater the level of air pollution and the greater the health concern. |\n"
   ]
  },
  {
   "cell_type": "markdown",
   "id": "b8097b15",
   "metadata": {},
   "source": [
    "<img src=\"ap.png\" alt=\"What ap\" width=\"50%\" style=\"display: block; margin: 0 auto;\">"
   ]
  },
  {
   "cell_type": "markdown",
   "id": "3d1148d6",
   "metadata": {
    "id": "ee31943b-274e-4c28-bce6-155cb6f4c334"
   },
   "source": [
    "### Introduction\n",
    "\n",
    "Data professionals often use descriptive statistics to understand the data they are working with and provide collaborators with a summary of the relative location of values in the data, as well an information about its spread. \n",
    "\n",
    "For this activity, you are a member of an analytics team for the **United States Environmental Protection Agency (EPA)**. You are assigned to analyze data on air quality with respect to carbon monoxide, a major air pollutant. The data includes information from more than 200 sites, identified by state, county, city, and local site names. You will use Python functions to gather statistics about air quality, then share insights with stakeholders."
   ]
  },
  {
   "cell_type": "markdown",
   "id": "b74a28da",
   "metadata": {
    "id": "4bb9630e-b940-4835-a389-d39def1fa848"
   },
   "source": [
    "### Step 1: Import the relevant Python libraries\n"
   ]
  },
  {
   "cell_type": "code",
   "execution_count": 1,
   "id": "640bcf51",
   "metadata": {
    "id": "8e7f1f2c-bbcc-4f3c-b927-b090ee8334c4"
   },
   "outputs": [],
   "source": [
    "# Import relevant Python libraries.\n"
   ]
  },
  {
   "cell_type": "markdown",
   "id": "8e434037",
   "metadata": {
    "id": "95bf39c9-d05c-4324-a40b-bc692607b61b"
   },
   "source": [
    "### Step 2: Data exploration"
   ]
  },
  {
   "cell_type": "markdown",
   "id": "ee2a25ad",
   "metadata": {
    "id": "26561614-8e9b-4840-8dbf-b50131ae5314",
    "tags": []
   },
   "source": [
    "To understand how the dataset is structured, display the first 10 rows of the data."
   ]
  },
  {
   "cell_type": "code",
   "execution_count": 4,
   "id": "e2fdd287",
   "metadata": {
    "id": "ad5210a5-7a64-4991-b004-de818cfaf506"
   },
   "outputs": [
    {
     "data": {
      "text/html": [
       "<div>\n",
       "<style scoped>\n",
       "    .dataframe tbody tr th:only-of-type {\n",
       "        vertical-align: middle;\n",
       "    }\n",
       "\n",
       "    .dataframe tbody tr th {\n",
       "        vertical-align: top;\n",
       "    }\n",
       "\n",
       "    .dataframe thead th {\n",
       "        text-align: right;\n",
       "    }\n",
       "</style>\n",
       "<table border=\"1\" class=\"dataframe\">\n",
       "  <thead>\n",
       "    <tr style=\"text-align: right;\">\n",
       "      <th></th>\n",
       "      <th>date_local</th>\n",
       "      <th>state_name</th>\n",
       "      <th>county_name</th>\n",
       "      <th>city_name</th>\n",
       "      <th>local_site_name</th>\n",
       "      <th>parameter_name</th>\n",
       "      <th>units_of_measure</th>\n",
       "      <th>arithmetic_mean</th>\n",
       "      <th>aqi</th>\n",
       "    </tr>\n",
       "  </thead>\n",
       "  <tbody>\n",
       "    <tr>\n",
       "      <th>0</th>\n",
       "      <td>2018-01-01</td>\n",
       "      <td>Arizona</td>\n",
       "      <td>Maricopa</td>\n",
       "      <td>Buckeye</td>\n",
       "      <td>BUCKEYE</td>\n",
       "      <td>Carbon monoxide</td>\n",
       "      <td>Parts per million</td>\n",
       "      <td>0.473684</td>\n",
       "      <td>7</td>\n",
       "    </tr>\n",
       "    <tr>\n",
       "      <th>1</th>\n",
       "      <td>2018-01-01</td>\n",
       "      <td>Ohio</td>\n",
       "      <td>Belmont</td>\n",
       "      <td>Shadyside</td>\n",
       "      <td>Shadyside</td>\n",
       "      <td>Carbon monoxide</td>\n",
       "      <td>Parts per million</td>\n",
       "      <td>0.263158</td>\n",
       "      <td>5</td>\n",
       "    </tr>\n",
       "    <tr>\n",
       "      <th>2</th>\n",
       "      <td>2018-01-01</td>\n",
       "      <td>Wyoming</td>\n",
       "      <td>Teton</td>\n",
       "      <td>Not in a city</td>\n",
       "      <td>Yellowstone National Park - Old Faithful Snow ...</td>\n",
       "      <td>Carbon monoxide</td>\n",
       "      <td>Parts per million</td>\n",
       "      <td>0.111111</td>\n",
       "      <td>2</td>\n",
       "    </tr>\n",
       "    <tr>\n",
       "      <th>3</th>\n",
       "      <td>2018-01-01</td>\n",
       "      <td>Pennsylvania</td>\n",
       "      <td>Philadelphia</td>\n",
       "      <td>Philadelphia</td>\n",
       "      <td>North East Waste (NEW)</td>\n",
       "      <td>Carbon monoxide</td>\n",
       "      <td>Parts per million</td>\n",
       "      <td>0.300000</td>\n",
       "      <td>3</td>\n",
       "    </tr>\n",
       "    <tr>\n",
       "      <th>4</th>\n",
       "      <td>2018-01-01</td>\n",
       "      <td>Iowa</td>\n",
       "      <td>Polk</td>\n",
       "      <td>Des Moines</td>\n",
       "      <td>CARPENTER</td>\n",
       "      <td>Carbon monoxide</td>\n",
       "      <td>Parts per million</td>\n",
       "      <td>0.215789</td>\n",
       "      <td>3</td>\n",
       "    </tr>\n",
       "    <tr>\n",
       "      <th>...</th>\n",
       "      <td>...</td>\n",
       "      <td>...</td>\n",
       "      <td>...</td>\n",
       "      <td>...</td>\n",
       "      <td>...</td>\n",
       "      <td>...</td>\n",
       "      <td>...</td>\n",
       "      <td>...</td>\n",
       "      <td>...</td>\n",
       "    </tr>\n",
       "    <tr>\n",
       "      <th>255</th>\n",
       "      <td>2018-01-01</td>\n",
       "      <td>District Of Columbia</td>\n",
       "      <td>District of Columbia</td>\n",
       "      <td>Washington</td>\n",
       "      <td>Near Road</td>\n",
       "      <td>Carbon monoxide</td>\n",
       "      <td>Parts per million</td>\n",
       "      <td>0.244444</td>\n",
       "      <td>3</td>\n",
       "    </tr>\n",
       "    <tr>\n",
       "      <th>256</th>\n",
       "      <td>2018-01-01</td>\n",
       "      <td>Wisconsin</td>\n",
       "      <td>Dodge</td>\n",
       "      <td>Kekoskee</td>\n",
       "      <td>HORICON WILDLIFE AREA</td>\n",
       "      <td>Carbon monoxide</td>\n",
       "      <td>Parts per million</td>\n",
       "      <td>0.200000</td>\n",
       "      <td>2</td>\n",
       "    </tr>\n",
       "    <tr>\n",
       "      <th>257</th>\n",
       "      <td>2018-01-01</td>\n",
       "      <td>Kentucky</td>\n",
       "      <td>Jefferson</td>\n",
       "      <td>Louisville</td>\n",
       "      <td>CANNONS LANE</td>\n",
       "      <td>Carbon monoxide</td>\n",
       "      <td>Parts per million</td>\n",
       "      <td>0.163158</td>\n",
       "      <td>2</td>\n",
       "    </tr>\n",
       "    <tr>\n",
       "      <th>258</th>\n",
       "      <td>2018-01-01</td>\n",
       "      <td>Nebraska</td>\n",
       "      <td>Douglas</td>\n",
       "      <td>Omaha</td>\n",
       "      <td>NaN</td>\n",
       "      <td>Carbon monoxide</td>\n",
       "      <td>Parts per million</td>\n",
       "      <td>0.421053</td>\n",
       "      <td>9</td>\n",
       "    </tr>\n",
       "    <tr>\n",
       "      <th>259</th>\n",
       "      <td>2018-01-01</td>\n",
       "      <td>North Carolina</td>\n",
       "      <td>Wake</td>\n",
       "      <td>Not in a city</td>\n",
       "      <td>Triple Oak</td>\n",
       "      <td>Carbon monoxide</td>\n",
       "      <td>Parts per million</td>\n",
       "      <td>0.188889</td>\n",
       "      <td>2</td>\n",
       "    </tr>\n",
       "  </tbody>\n",
       "</table>\n",
       "<p>260 rows × 9 columns</p>\n",
       "</div>"
      ],
      "text/plain": [
       "     date_local            state_name           county_name      city_name  \\\n",
       "0    2018-01-01               Arizona              Maricopa        Buckeye   \n",
       "1    2018-01-01                  Ohio               Belmont      Shadyside   \n",
       "2    2018-01-01               Wyoming                 Teton  Not in a city   \n",
       "3    2018-01-01          Pennsylvania          Philadelphia   Philadelphia   \n",
       "4    2018-01-01                  Iowa                  Polk     Des Moines   \n",
       "..          ...                   ...                   ...            ...   \n",
       "255  2018-01-01  District Of Columbia  District of Columbia     Washington   \n",
       "256  2018-01-01             Wisconsin                 Dodge       Kekoskee   \n",
       "257  2018-01-01              Kentucky             Jefferson     Louisville   \n",
       "258  2018-01-01              Nebraska               Douglas          Omaha   \n",
       "259  2018-01-01        North Carolina                  Wake  Not in a city   \n",
       "\n",
       "                                       local_site_name   parameter_name  \\\n",
       "0                                              BUCKEYE  Carbon monoxide   \n",
       "1                                            Shadyside  Carbon monoxide   \n",
       "2    Yellowstone National Park - Old Faithful Snow ...  Carbon monoxide   \n",
       "3                               North East Waste (NEW)  Carbon monoxide   \n",
       "4                                            CARPENTER  Carbon monoxide   \n",
       "..                                                 ...              ...   \n",
       "255                                          Near Road  Carbon monoxide   \n",
       "256                              HORICON WILDLIFE AREA  Carbon monoxide   \n",
       "257                                       CANNONS LANE  Carbon monoxide   \n",
       "258                                                NaN  Carbon monoxide   \n",
       "259                                         Triple Oak  Carbon monoxide   \n",
       "\n",
       "      units_of_measure  arithmetic_mean  aqi  \n",
       "0    Parts per million         0.473684    7  \n",
       "1    Parts per million         0.263158    5  \n",
       "2    Parts per million         0.111111    2  \n",
       "3    Parts per million         0.300000    3  \n",
       "4    Parts per million         0.215789    3  \n",
       "..                 ...              ...  ...  \n",
       "255  Parts per million         0.244444    3  \n",
       "256  Parts per million         0.200000    2  \n",
       "257  Parts per million         0.163158    2  \n",
       "258  Parts per million         0.421053    9  \n",
       "259  Parts per million         0.188889    2  \n",
       "\n",
       "[260 rows x 9 columns]"
      ]
     },
     "execution_count": 4,
     "metadata": {},
     "output_type": "execute_result"
    }
   ],
   "source": [
    "# Display first 10 rows of the data."
   ]
  },
  {
   "cell_type": "code",
   "execution_count": null,
   "id": "77bbde36",
   "metadata": {},
   "outputs": [],
   "source": [
    "## Check the data types of each column"
   ]
  },
  {
   "cell_type": "markdown",
   "id": "cf3baedf",
   "metadata": {
    "id": "fb45ed17-5e22-4d48-9750-130a8586bbf9",
    "tags": []
   },
   "source": [
    "**Question:** What does the `aqi` column represent?"
   ]
  },
  {
   "cell_type": "markdown",
   "id": "3c067eb8",
   "metadata": {
    "id": "7dac147e-19e1-49e7-bd80-e122390c3a70",
    "tags": []
   },
   "source": [
    "Now, get a table that contains some descriptive statistics about the data."
   ]
  },
  {
   "cell_type": "code",
   "execution_count": null,
   "id": "66f3f350",
   "metadata": {},
   "outputs": [],
   "source": [
    "## Data have any missiing values?"
   ]
  },
  {
   "cell_type": "markdown",
   "id": "4e659348",
   "metadata": {
    "id": "ZfvOKy7F7SOA"
   },
   "source": [
    "### Step 3: Statistical OR Descriptive Statistics"
   ]
  },
  {
   "cell_type": "markdown",
   "id": "6dd9f392",
   "metadata": {
    "id": "5464fa18-f969-4e1e-8539-9b2d9a11766d",
    "tags": []
   },
   "source": [
    "Next, get some descriptive statistics about the states in the data."
   ]
  },
  {
   "cell_type": "code",
   "execution_count": 13,
   "id": "9d93b79e",
   "metadata": {
    "id": "678346a1-bc1a-40be-850a-c03488970604"
   },
   "outputs": [],
   "source": [
    "# Get descriptive stats about the states in the data.\n",
    "\n",
    "### YOUR CODE HERE\n"
   ]
  },
  {
   "cell_type": "markdown",
   "id": "d50e8601-e882-4ca5-b02c-7c94c715384b",
   "metadata": {},
   "source": [
    "Next, get some desscriptive statistics about the aqi in the data"
   ]
  },
  {
   "cell_type": "markdown",
   "id": "2ae98c64",
   "metadata": {},
   "source": [
    "#### 3.1 Graphical Representations"
   ]
  },
  {
   "cell_type": "markdown",
   "id": "67b127e0",
   "metadata": {
    "id": "d6f10268-bf06-471f-8e6e-41c30a8e3e2a",
    "tags": []
   },
   "source": [
    "**Question:** What visualizations will best communicate the distribution and key statistics of carbon monoxide levels (e.g., histograms, box plots, scatter plots)?"
   ]
  },
  {
   "cell_type": "markdown",
   "id": "058c5ab2",
   "metadata": {
    "id": "Vbu9rG78pGY1"
   },
   "source": [
    "\n",
    "`Esc + B` Write your response"
   ]
  },
  {
   "cell_type": "markdown",
   "id": "1a793595-4b2f-48de-b742-877e65e26e27",
   "metadata": {},
   "source": [
    "#### 3.2 Category-Specific Analysis:\n",
    "1. Within the 'Good' AQI category (0-50)\n",
    "2. In the 'Moderate' AQI category (51-100)\n",
    "3. For the 'Unhealthy for Sensitive Groups'"
   ]
  },
  {
   "cell_type": "markdown",
   "id": "9d8dc1c0-03b9-4329-942b-01b47d214bb4",
   "metadata": {
    "id": "FWASCwOQZsgP"
   },
   "source": [
    "`Esc + B` Write your response"
   ]
  },
  {
   "cell_type": "markdown",
   "id": "6bfb2dc8-16ff-4f24-bda1-0c540ab164eb",
   "metadata": {},
   "source": [
    "#### 3.3 Visual Representation:\n",
    "1. How can we best visualize the count of observations in each AQI category to make the data clear and impactful for stakeholders?\n",
    "2. Should we use bar graphs, pie charts, or another form of visualization to represent the data distribution effectively?"
   ]
  },
  {
   "cell_type": "markdown",
   "id": "10081c5e-e021-4de5-b042-2a768a7d97a1",
   "metadata": {
    "id": "FWASCwOQZsgP"
   },
   "source": [
    "`Esc + B` Write your response"
   ]
  },
  {
   "cell_type": "markdown",
   "id": "47df8833",
   "metadata": {
    "id": "ArTZls9y8amg"
   },
   "source": [
    "### Step 4. Results and evaluation"
   ]
  },
  {
   "cell_type": "markdown",
   "id": "d15bcf36",
   "metadata": {
    "id": "FWASCwOQZsgP"
   },
   "source": [
    "`Esc + B` Write your response"
   ]
  },
  {
   "cell_type": "markdown",
   "id": "25e74e62",
   "metadata": {
    "id": "c77e7f0f-d2b9-4464-8a7c-9575d1e1ef9f"
   },
   "source": [
    "#### Policy-Relevant Insights:\n",
    "1. What insights can be drawn from the data that are relevant to policy decisions on air quality management?\n",
    "2. Are there specific recommendations for targeted actions based on the data analysis?\n"
   ]
  },
  {
   "cell_type": "markdown",
   "id": "3cc6e8d5",
   "metadata": {
    "id": "gfnZAHZ4Y7a_"
   },
   "source": [
    "`Esc + B` Write your response"
   ]
  },
  {
   "cell_type": "markdown",
   "id": "a54be308",
   "metadata": {
    "id": "OPcCpjDLuHaW"
   },
   "source": [
    "**References**\n",
    "\n",
    "[Air Quality Index - A Guide to Air Quality and Your Health](https://www.airnow.gov/sites/default/files/2018-04/aqi_brochure_02_14_0.pdf). (2014,February)\n",
    "\n",
    "[Numpy.Std — NumPy v1.23 Manual](https://numpy.org/doc/stable/reference/generated/numpy.std.html)\n",
    "\n",
    "US EPA, OAR. (2014, 8 July).[*Air Data: Air Quality Data Collected at Outdoor Monitors Across the US*](https://www.epa.gov/outdoor-air-quality-data). "
   ]
  }
 ],
 "metadata": {
  "colab": {
   "collapsed_sections": [
    "68dc9b73-8944-4dd6-b2f8-6879717a7dab",
    "a70475eb-d3a6-42e4-8b71-a49b5a1aa0db",
    "c7a59d04-61f1-45e5-946f-eaed074988cf",
    "4552de4a-70d5-4862-bff8-e08b8a812d98",
    "be75aa7d-a91c-4e3b-8eda-e2e3fe89c8d0",
    "59335267-2025-4013-92de-fec720576263",
    "b66e1d7d-a90e-4aff-b8da-3725c4f15c26"
   ],
   "name": "SR-032_Learner_Facing_Lab_Round4.ipynb",
   "provenance": []
  },
  "kernelspec": {
   "display_name": "Python 3 (ipykernel)",
   "language": "python",
   "name": "python3"
  },
  "language_info": {
   "codemirror_mode": {
    "name": "ipython",
    "version": 3
   },
   "file_extension": ".py",
   "mimetype": "text/x-python",
   "name": "python",
   "nbconvert_exporter": "python",
   "pygments_lexer": "ipython3",
   "version": "3.11.5"
  },
  "toc-autonumbering": false,
  "toc-showtags": false
 },
 "nbformat": 4,
 "nbformat_minor": 5
}
