{
 "cells": [
  {
   "cell_type": "markdown",
   "metadata": {},
   "source": [
    "### About dataset\n",
    "This dataset represents a list of school districts in an anonymous country. The data includes district and state names, total population, and the literacy rate.\n",
    "\n",
    "The dataset contains:\n",
    "\n",
    "680 rows – each row is a different school district\n",
    "\n",
    "| Column Name | Type   | Description                                                |\n",
    "|-------------|--------|------------------------------------------------------------|\n",
    "| DISTNAME    | str    | The names of an anonymous country’s school districts      |\n",
    "| STATNAME    | str    | The names of an anonymous country’s states                 |\n",
    "| BLOCKS      | int64  | The number of blocks in the school district. Blocks are the smallest organizational structure in the education system of the anonymous country.                |\n",
    "| VILLAGES    | int64  | The number of villages in each district                    |\n",
    "| CLUSTERS    | int64  | The number of clusters in the school district              |\n",
    "| TOTPOPULAT  | float64  | The population for each district                           |\n",
    "| OVERALL_LI  | float64  | The literacy rate for each district                        |"
   ]
  },
  {
   "cell_type": "code",
   "execution_count": null,
   "metadata": {},
   "outputs": [],
   "source": [
    "##"
   ]
  },
  {
   "cell_type": "code",
   "execution_count": 1,
   "metadata": {},
   "outputs": [],
   "source": [
    "import pandas as pd\n",
    "import numpy as np\n",
    "import matplotlib.pyplot as plt\n",
    "import seaborn as sns"
   ]
  },
  {
   "cell_type": "code",
   "execution_count": 4,
   "metadata": {},
   "outputs": [],
   "source": [
    "df = pd.read_csv('education_districtwise.csv')"
   ]
  },
  {
   "cell_type": "code",
   "execution_count": 5,
   "metadata": {},
   "outputs": [
    {
     "data": {
      "text/html": [
       "<div>\n",
       "<style scoped>\n",
       "    .dataframe tbody tr th:only-of-type {\n",
       "        vertical-align: middle;\n",
       "    }\n",
       "\n",
       "    .dataframe tbody tr th {\n",
       "        vertical-align: top;\n",
       "    }\n",
       "\n",
       "    .dataframe thead th {\n",
       "        text-align: right;\n",
       "    }\n",
       "</style>\n",
       "<table border=\"1\" class=\"dataframe\">\n",
       "  <thead>\n",
       "    <tr style=\"text-align: right;\">\n",
       "      <th></th>\n",
       "      <th>DISTNAME</th>\n",
       "      <th>STATNAME</th>\n",
       "      <th>BLOCKS</th>\n",
       "      <th>VILLAGES</th>\n",
       "      <th>CLUSTERS</th>\n",
       "      <th>TOTPOPULAT</th>\n",
       "      <th>OVERALL_LI</th>\n",
       "    </tr>\n",
       "  </thead>\n",
       "  <tbody>\n",
       "    <tr>\n",
       "      <th>0</th>\n",
       "      <td>DISTRICT32</td>\n",
       "      <td>STATE1</td>\n",
       "      <td>13</td>\n",
       "      <td>391</td>\n",
       "      <td>104</td>\n",
       "      <td>875564.0</td>\n",
       "      <td>66.92</td>\n",
       "    </tr>\n",
       "    <tr>\n",
       "      <th>1</th>\n",
       "      <td>DISTRICT649</td>\n",
       "      <td>STATE1</td>\n",
       "      <td>18</td>\n",
       "      <td>678</td>\n",
       "      <td>144</td>\n",
       "      <td>1015503.0</td>\n",
       "      <td>66.93</td>\n",
       "    </tr>\n",
       "    <tr>\n",
       "      <th>2</th>\n",
       "      <td>DISTRICT229</td>\n",
       "      <td>STATE1</td>\n",
       "      <td>8</td>\n",
       "      <td>94</td>\n",
       "      <td>65</td>\n",
       "      <td>1269751.0</td>\n",
       "      <td>71.21</td>\n",
       "    </tr>\n",
       "    <tr>\n",
       "      <th>3</th>\n",
       "      <td>DISTRICT259</td>\n",
       "      <td>STATE1</td>\n",
       "      <td>13</td>\n",
       "      <td>523</td>\n",
       "      <td>104</td>\n",
       "      <td>735753.0</td>\n",
       "      <td>57.98</td>\n",
       "    </tr>\n",
       "    <tr>\n",
       "      <th>4</th>\n",
       "      <td>DISTRICT486</td>\n",
       "      <td>STATE1</td>\n",
       "      <td>8</td>\n",
       "      <td>359</td>\n",
       "      <td>64</td>\n",
       "      <td>570060.0</td>\n",
       "      <td>65.00</td>\n",
       "    </tr>\n",
       "    <tr>\n",
       "      <th>...</th>\n",
       "      <td>...</td>\n",
       "      <td>...</td>\n",
       "      <td>...</td>\n",
       "      <td>...</td>\n",
       "      <td>...</td>\n",
       "      <td>...</td>\n",
       "      <td>...</td>\n",
       "    </tr>\n",
       "    <tr>\n",
       "      <th>675</th>\n",
       "      <td>DISTRICT522</td>\n",
       "      <td>STATE29</td>\n",
       "      <td>37</td>\n",
       "      <td>876</td>\n",
       "      <td>137</td>\n",
       "      <td>5296396.0</td>\n",
       "      <td>78.05</td>\n",
       "    </tr>\n",
       "    <tr>\n",
       "      <th>676</th>\n",
       "      <td>DISTRICT498</td>\n",
       "      <td>STATE29</td>\n",
       "      <td>64</td>\n",
       "      <td>1458</td>\n",
       "      <td>230</td>\n",
       "      <td>4042191.0</td>\n",
       "      <td>56.06</td>\n",
       "    </tr>\n",
       "    <tr>\n",
       "      <th>677</th>\n",
       "      <td>DISTRICT343</td>\n",
       "      <td>STATE29</td>\n",
       "      <td>59</td>\n",
       "      <td>1117</td>\n",
       "      <td>216</td>\n",
       "      <td>3483648.0</td>\n",
       "      <td>65.05</td>\n",
       "    </tr>\n",
       "    <tr>\n",
       "      <th>678</th>\n",
       "      <td>DISTRICT130</td>\n",
       "      <td>STATE29</td>\n",
       "      <td>51</td>\n",
       "      <td>993</td>\n",
       "      <td>211</td>\n",
       "      <td>3522644.0</td>\n",
       "      <td>66.16</td>\n",
       "    </tr>\n",
       "    <tr>\n",
       "      <th>679</th>\n",
       "      <td>DISTRICT341</td>\n",
       "      <td>STATE29</td>\n",
       "      <td>41</td>\n",
       "      <td>783</td>\n",
       "      <td>185</td>\n",
       "      <td>2798214.0</td>\n",
       "      <td>65.46</td>\n",
       "    </tr>\n",
       "  </tbody>\n",
       "</table>\n",
       "<p>680 rows × 7 columns</p>\n",
       "</div>"
      ],
      "text/plain": [
       "        DISTNAME STATNAME  BLOCKS  VILLAGES  CLUSTERS  TOTPOPULAT  OVERALL_LI\n",
       "0     DISTRICT32   STATE1      13       391       104    875564.0       66.92\n",
       "1    DISTRICT649   STATE1      18       678       144   1015503.0       66.93\n",
       "2    DISTRICT229   STATE1       8        94        65   1269751.0       71.21\n",
       "3    DISTRICT259   STATE1      13       523       104    735753.0       57.98\n",
       "4    DISTRICT486   STATE1       8       359        64    570060.0       65.00\n",
       "..           ...      ...     ...       ...       ...         ...         ...\n",
       "675  DISTRICT522  STATE29      37       876       137   5296396.0       78.05\n",
       "676  DISTRICT498  STATE29      64      1458       230   4042191.0       56.06\n",
       "677  DISTRICT343  STATE29      59      1117       216   3483648.0       65.05\n",
       "678  DISTRICT130  STATE29      51       993       211   3522644.0       66.16\n",
       "679  DISTRICT341  STATE29      41       783       185   2798214.0       65.46\n",
       "\n",
       "[680 rows x 7 columns]"
      ]
     },
     "execution_count": 5,
     "metadata": {},
     "output_type": "execute_result"
    }
   ],
   "source": [
    "df"
   ]
  },
  {
   "cell_type": "code",
   "execution_count": 6,
   "metadata": {
    "scrolled": true
   },
   "outputs": [
    {
     "data": {
      "text/plain": [
       "count    680.000000\n",
       "mean      10.760294\n",
       "std        9.585360\n",
       "min        1.000000\n",
       "25%        5.000000\n",
       "50%        8.000000\n",
       "75%       13.000000\n",
       "max       66.000000\n",
       "Name: BLOCKS, dtype: float64"
      ]
     },
     "execution_count": 6,
     "metadata": {},
     "output_type": "execute_result"
    }
   ],
   "source": [
    "df['BLOCKS'].describe()"
   ]
  },
  {
   "cell_type": "code",
   "execution_count": null,
   "metadata": {},
   "outputs": [],
   "source": []
  },
  {
   "cell_type": "code",
   "execution_count": 6,
   "metadata": {},
   "outputs": [
    {
     "data": {
      "text/plain": [
       "BLOCKS\n",
       "6     79\n",
       "5     59\n",
       "7     53\n",
       "8     51\n",
       "9     50\n",
       "4     50\n",
       "3     44\n",
       "10    42\n",
       "11    34\n",
       "15    22\n",
       "12    21\n",
       "13    18\n",
       "14    18\n",
       "17    16\n",
       "2     15\n",
       "18    14\n",
       "19    12\n",
       "20    12\n",
       "16    12\n",
       "1      7\n",
       "22     6\n",
       "21     4\n",
       "23     3\n",
       "25     3\n",
       "51     2\n",
       "30     2\n",
       "46     2\n",
       "57     2\n",
       "64     2\n",
       "37     2\n",
       "24     2\n",
       "36     2\n",
       "50     2\n",
       "27     2\n",
       "33     1\n",
       "59     1\n",
       "52     1\n",
       "66     1\n",
       "63     1\n",
       "54     1\n",
       "56     1\n",
       "31     1\n",
       "42     1\n",
       "48     1\n",
       "43     1\n",
       "34     1\n",
       "38     1\n",
       "40     1\n",
       "41     1\n",
       "Name: count, dtype: int64"
      ]
     },
     "execution_count": 6,
     "metadata": {},
     "output_type": "execute_result"
    }
   ],
   "source": [
    "df['BLOCKS'].value_counts()"
   ]
  },
  {
   "cell_type": "code",
   "execution_count": 7,
   "metadata": {},
   "outputs": [
    {
     "data": {
      "text/plain": [
       "VILLAGES\n",
       "876     4\n",
       "80      4\n",
       "512     3\n",
       "109     3\n",
       "95      3\n",
       "       ..\n",
       "1168    1\n",
       "404     1\n",
       "1621    1\n",
       "1188    1\n",
       "1458    1\n",
       "Name: count, Length: 576, dtype: int64"
      ]
     },
     "execution_count": 7,
     "metadata": {},
     "output_type": "execute_result"
    }
   ],
   "source": [
    "df['VILLAGES'].value_counts()"
   ]
  },
  {
   "cell_type": "code",
   "execution_count": 8,
   "metadata": {},
   "outputs": [
    {
     "data": {
      "text/plain": [
       "count     680.000000\n",
       "mean      874.614706\n",
       "std       622.711657\n",
       "min         6.000000\n",
       "25%       390.750000\n",
       "50%       785.500000\n",
       "75%      1204.250000\n",
       "max      3963.000000\n",
       "Name: VILLAGES, dtype: float64"
      ]
     },
     "execution_count": 8,
     "metadata": {},
     "output_type": "execute_result"
    }
   ],
   "source": [
    "df['VILLAGES'].describe()"
   ]
  },
  {
   "cell_type": "code",
   "execution_count": 9,
   "metadata": {},
   "outputs": [
    {
     "data": {
      "text/plain": [
       "VILLAGES\n",
       "876     4\n",
       "80      4\n",
       "512     3\n",
       "109     3\n",
       "95      3\n",
       "       ..\n",
       "1168    1\n",
       "404     1\n",
       "1621    1\n",
       "1188    1\n",
       "1458    1\n",
       "Name: count, Length: 576, dtype: int64"
      ]
     },
     "execution_count": 9,
     "metadata": {},
     "output_type": "execute_result"
    }
   ],
   "source": [
    "df['VILLAGES'].value_counts()"
   ]
  },
  {
   "cell_type": "code",
   "execution_count": 10,
   "metadata": {},
   "outputs": [
    {
     "data": {
      "text/plain": [
       "TOTPOPULAT\n",
       "875564.0     1\n",
       "2228619.0    1\n",
       "1725818.0    1\n",
       "1240938.0    1\n",
       "1444920.0    1\n",
       "            ..\n",
       "1994618.0    1\n",
       "1897102.0    1\n",
       "3921971.0    1\n",
       "4778610.0    1\n",
       "2798214.0    1\n",
       "Name: count, Length: 634, dtype: int64"
      ]
     },
     "execution_count": 10,
     "metadata": {},
     "output_type": "execute_result"
    }
   ],
   "source": [
    "df['TOTPOPULAT'].value_counts()"
   ]
  },
  {
   "cell_type": "code",
   "execution_count": 11,
   "metadata": {},
   "outputs": [
    {
     "data": {
      "text/html": [
       "<div>\n",
       "<style scoped>\n",
       "    .dataframe tbody tr th:only-of-type {\n",
       "        vertical-align: middle;\n",
       "    }\n",
       "\n",
       "    .dataframe tbody tr th {\n",
       "        vertical-align: top;\n",
       "    }\n",
       "\n",
       "    .dataframe thead th {\n",
       "        text-align: right;\n",
       "    }\n",
       "</style>\n",
       "<table border=\"1\" class=\"dataframe\">\n",
       "  <thead>\n",
       "    <tr style=\"text-align: right;\">\n",
       "      <th></th>\n",
       "      <th>DISTNAME</th>\n",
       "      <th>STATNAME</th>\n",
       "      <th>BLOCKS</th>\n",
       "      <th>VILLAGES</th>\n",
       "      <th>CLUSTERS</th>\n",
       "      <th>TOTPOPULAT</th>\n",
       "      <th>OVERALL_LI</th>\n",
       "    </tr>\n",
       "  </thead>\n",
       "  <tbody>\n",
       "    <tr>\n",
       "      <th>0</th>\n",
       "      <td>DISTRICT32</td>\n",
       "      <td>STATE1</td>\n",
       "      <td>13</td>\n",
       "      <td>391</td>\n",
       "      <td>104</td>\n",
       "      <td>875564.0</td>\n",
       "      <td>66.92</td>\n",
       "    </tr>\n",
       "    <tr>\n",
       "      <th>1</th>\n",
       "      <td>DISTRICT649</td>\n",
       "      <td>STATE1</td>\n",
       "      <td>18</td>\n",
       "      <td>678</td>\n",
       "      <td>144</td>\n",
       "      <td>1015503.0</td>\n",
       "      <td>66.93</td>\n",
       "    </tr>\n",
       "    <tr>\n",
       "      <th>2</th>\n",
       "      <td>DISTRICT229</td>\n",
       "      <td>STATE1</td>\n",
       "      <td>8</td>\n",
       "      <td>94</td>\n",
       "      <td>65</td>\n",
       "      <td>1269751.0</td>\n",
       "      <td>71.21</td>\n",
       "    </tr>\n",
       "    <tr>\n",
       "      <th>3</th>\n",
       "      <td>DISTRICT259</td>\n",
       "      <td>STATE1</td>\n",
       "      <td>13</td>\n",
       "      <td>523</td>\n",
       "      <td>104</td>\n",
       "      <td>735753.0</td>\n",
       "      <td>57.98</td>\n",
       "    </tr>\n",
       "    <tr>\n",
       "      <th>4</th>\n",
       "      <td>DISTRICT486</td>\n",
       "      <td>STATE1</td>\n",
       "      <td>8</td>\n",
       "      <td>359</td>\n",
       "      <td>64</td>\n",
       "      <td>570060.0</td>\n",
       "      <td>65.00</td>\n",
       "    </tr>\n",
       "  </tbody>\n",
       "</table>\n",
       "</div>"
      ],
      "text/plain": [
       "      DISTNAME STATNAME  BLOCKS  VILLAGES  CLUSTERS  TOTPOPULAT  OVERALL_LI\n",
       "0   DISTRICT32   STATE1      13       391       104    875564.0       66.92\n",
       "1  DISTRICT649   STATE1      18       678       144   1015503.0       66.93\n",
       "2  DISTRICT229   STATE1       8        94        65   1269751.0       71.21\n",
       "3  DISTRICT259   STATE1      13       523       104    735753.0       57.98\n",
       "4  DISTRICT486   STATE1       8       359        64    570060.0       65.00"
      ]
     },
     "execution_count": 11,
     "metadata": {},
     "output_type": "execute_result"
    }
   ],
   "source": [
    "df.head()"
   ]
  },
  {
   "cell_type": "markdown",
   "metadata": {},
   "source": [
    "### Distname"
   ]
  },
  {
   "cell_type": "code",
   "execution_count": 12,
   "metadata": {},
   "outputs": [
    {
     "data": {
      "text/plain": [
       "DISTNAME\n",
       "DISTRICT32     1\n",
       "DISTRICT338    1\n",
       "DISTRICT257    1\n",
       "DISTRICT483    1\n",
       "DISTRICT173    1\n",
       "              ..\n",
       "DISTRICT251    1\n",
       "DISTRICT583    1\n",
       "DISTRICT109    1\n",
       "DISTRICT451    1\n",
       "DISTRICT341    1\n",
       "Name: count, Length: 680, dtype: int64"
      ]
     },
     "execution_count": 12,
     "metadata": {},
     "output_type": "execute_result"
    }
   ],
   "source": [
    "df['DISTNAME'].value_counts()"
   ]
  },
  {
   "cell_type": "code",
   "execution_count": 13,
   "metadata": {},
   "outputs": [
    {
     "data": {
      "text/html": [
       "<div>\n",
       "<style scoped>\n",
       "    .dataframe tbody tr th:only-of-type {\n",
       "        vertical-align: middle;\n",
       "    }\n",
       "\n",
       "    .dataframe tbody tr th {\n",
       "        vertical-align: top;\n",
       "    }\n",
       "\n",
       "    .dataframe thead th {\n",
       "        text-align: right;\n",
       "    }\n",
       "</style>\n",
       "<table border=\"1\" class=\"dataframe\">\n",
       "  <thead>\n",
       "    <tr style=\"text-align: right;\">\n",
       "      <th></th>\n",
       "      <th>DISTNAME</th>\n",
       "      <th>STATNAME</th>\n",
       "      <th>BLOCKS</th>\n",
       "      <th>VILLAGES</th>\n",
       "      <th>CLUSTERS</th>\n",
       "      <th>TOTPOPULAT</th>\n",
       "      <th>OVERALL_LI</th>\n",
       "    </tr>\n",
       "  </thead>\n",
       "  <tbody>\n",
       "    <tr>\n",
       "      <th>294</th>\n",
       "      <td>DISTRICT562</td>\n",
       "      <td>STATE12</td>\n",
       "      <td>3</td>\n",
       "      <td>49</td>\n",
       "      <td>12</td>\n",
       "      <td>64875.0</td>\n",
       "      <td>98.76</td>\n",
       "    </tr>\n",
       "  </tbody>\n",
       "</table>\n",
       "</div>"
      ],
      "text/plain": [
       "        DISTNAME STATNAME  BLOCKS  VILLAGES  CLUSTERS  TOTPOPULAT  OVERALL_LI\n",
       "294  DISTRICT562  STATE12       3        49        12     64875.0       98.76"
      ]
     },
     "execution_count": 13,
     "metadata": {},
     "output_type": "execute_result"
    }
   ],
   "source": [
    "df[df['OVERALL_LI']== df['OVERALL_LI'].max()]"
   ]
  },
  {
   "cell_type": "code",
   "execution_count": 14,
   "metadata": {},
   "outputs": [
    {
     "data": {
      "text/html": [
       "<div>\n",
       "<style scoped>\n",
       "    .dataframe tbody tr th:only-of-type {\n",
       "        vertical-align: middle;\n",
       "    }\n",
       "\n",
       "    .dataframe tbody tr th {\n",
       "        vertical-align: top;\n",
       "    }\n",
       "\n",
       "    .dataframe thead th {\n",
       "        text-align: right;\n",
       "    }\n",
       "</style>\n",
       "<table border=\"1\" class=\"dataframe\">\n",
       "  <thead>\n",
       "    <tr style=\"text-align: right;\">\n",
       "      <th></th>\n",
       "      <th>DISTNAME</th>\n",
       "      <th>STATNAME</th>\n",
       "      <th>BLOCKS</th>\n",
       "      <th>VILLAGES</th>\n",
       "      <th>CLUSTERS</th>\n",
       "      <th>TOTPOPULAT</th>\n",
       "      <th>OVERALL_LI</th>\n",
       "    </tr>\n",
       "  </thead>\n",
       "  <tbody>\n",
       "    <tr>\n",
       "      <th>494</th>\n",
       "      <td>DISTRICT429</td>\n",
       "      <td>STATE22</td>\n",
       "      <td>6</td>\n",
       "      <td>612</td>\n",
       "      <td>62</td>\n",
       "      <td>728677.0</td>\n",
       "      <td>37.22</td>\n",
       "    </tr>\n",
       "  </tbody>\n",
       "</table>\n",
       "</div>"
      ],
      "text/plain": [
       "        DISTNAME STATNAME  BLOCKS  VILLAGES  CLUSTERS  TOTPOPULAT  OVERALL_LI\n",
       "494  DISTRICT429  STATE22       6       612        62    728677.0       37.22"
      ]
     },
     "execution_count": 14,
     "metadata": {},
     "output_type": "execute_result"
    }
   ],
   "source": [
    "df[df['OVERALL_LI']== df['OVERALL_LI'].min()]"
   ]
  },
  {
   "cell_type": "code",
   "execution_count": null,
   "metadata": {},
   "outputs": [],
   "source": []
  },
  {
   "cell_type": "markdown",
   "metadata": {},
   "source": [
    "## Statname"
   ]
  },
  {
   "cell_type": "code",
   "execution_count": 15,
   "metadata": {},
   "outputs": [
    {
     "data": {
      "text/plain": [
       "array(['STATE1', 'STATE16', 'STATE26', 'STATE36', 'STATE15', 'STATE25',\n",
       "       'STATE2', 'STATE13', 'STATE21', 'STATE28', 'STATE18', 'STATE3',\n",
       "       'STATE27', 'STATE35', 'STATE12', 'STATE14', 'STATE4', 'STATE33',\n",
       "       'STATE34', 'STATE23', 'STATE24', 'STATE31', 'STATE22', 'STATE9',\n",
       "       'STATE10', 'STATE8', 'STATE17', 'STATE7', 'STATE20', 'STATE30',\n",
       "       'STATE19', 'STATE5', 'STATE6', 'STATE32', 'STATE11', 'STATE29'],\n",
       "      dtype=object)"
      ]
     },
     "execution_count": 15,
     "metadata": {},
     "output_type": "execute_result"
    }
   ],
   "source": [
    "df['STATNAME'].unique()"
   ]
  },
  {
   "cell_type": "code",
   "execution_count": 16,
   "metadata": {},
   "outputs": [
    {
     "data": {
      "text/plain": [
       "36"
      ]
     },
     "execution_count": 16,
     "metadata": {},
     "output_type": "execute_result"
    }
   ],
   "source": [
    "df['STATNAME'].nunique()"
   ]
  },
  {
   "cell_type": "code",
   "execution_count": 17,
   "metadata": {},
   "outputs": [
    {
     "data": {
      "text/plain": [
       "36"
      ]
     },
     "execution_count": 17,
     "metadata": {},
     "output_type": "execute_result"
    }
   ],
   "source": [
    "len(df['STATNAME'].value_counts().index)"
   ]
  },
  {
   "cell_type": "code",
   "execution_count": 18,
   "metadata": {},
   "outputs": [
    {
     "data": {
      "image/png": "[encoded data removed]",
      "text/plain": [
       "<Figure size 1600x800 with 1 Axes>"
      ]
     },
     "metadata": {},
     "output_type": "display_data"
    }
   ],
   "source": [
    "fig, ax = plt.subplots(figsize = (16, 8))\n",
    "sns.barplot(x = df['STATNAME'].value_counts(), y = df['STATNAME'].value_counts().index, color = 'b');"
   ]
  },
  {
   "cell_type": "code",
   "execution_count": 43,
   "metadata": {},
   "outputs": [
    {
     "data": {
      "text/html": [
       "<div>\n",
       "<style scoped>\n",
       "    .dataframe tbody tr th:only-of-type {\n",
       "        vertical-align: middle;\n",
       "    }\n",
       "\n",
       "    .dataframe tbody tr th {\n",
       "        vertical-align: top;\n",
       "    }\n",
       "\n",
       "    .dataframe thead th {\n",
       "        text-align: right;\n",
       "    }\n",
       "</style>\n",
       "<table border=\"1\" class=\"dataframe\">\n",
       "  <thead>\n",
       "    <tr style=\"text-align: right;\">\n",
       "      <th></th>\n",
       "      <th>DISTNAME</th>\n",
       "      <th>STATNAME</th>\n",
       "      <th>BLOCKS</th>\n",
       "      <th>VILLAGES</th>\n",
       "      <th>CLUSTERS</th>\n",
       "      <th>TOTPOPULAT</th>\n",
       "      <th>OVERALL_LI</th>\n",
       "    </tr>\n",
       "  </thead>\n",
       "  <tbody>\n",
       "    <tr>\n",
       "      <th>0</th>\n",
       "      <td>DISTRICT32</td>\n",
       "      <td>STATE1</td>\n",
       "      <td>13</td>\n",
       "      <td>391</td>\n",
       "      <td>104</td>\n",
       "      <td>875564.0</td>\n",
       "      <td>66.92</td>\n",
       "    </tr>\n",
       "    <tr>\n",
       "      <th>1</th>\n",
       "      <td>DISTRICT649</td>\n",
       "      <td>STATE1</td>\n",
       "      <td>18</td>\n",
       "      <td>678</td>\n",
       "      <td>144</td>\n",
       "      <td>1015503.0</td>\n",
       "      <td>66.93</td>\n",
       "    </tr>\n",
       "    <tr>\n",
       "      <th>2</th>\n",
       "      <td>DISTRICT229</td>\n",
       "      <td>STATE1</td>\n",
       "      <td>8</td>\n",
       "      <td>94</td>\n",
       "      <td>65</td>\n",
       "      <td>1269751.0</td>\n",
       "      <td>71.21</td>\n",
       "    </tr>\n",
       "    <tr>\n",
       "      <th>3</th>\n",
       "      <td>DISTRICT259</td>\n",
       "      <td>STATE1</td>\n",
       "      <td>13</td>\n",
       "      <td>523</td>\n",
       "      <td>104</td>\n",
       "      <td>735753.0</td>\n",
       "      <td>57.98</td>\n",
       "    </tr>\n",
       "    <tr>\n",
       "      <th>4</th>\n",
       "      <td>DISTRICT486</td>\n",
       "      <td>STATE1</td>\n",
       "      <td>8</td>\n",
       "      <td>359</td>\n",
       "      <td>64</td>\n",
       "      <td>570060.0</td>\n",
       "      <td>65.00</td>\n",
       "    </tr>\n",
       "    <tr>\n",
       "      <th>...</th>\n",
       "      <td>...</td>\n",
       "      <td>...</td>\n",
       "      <td>...</td>\n",
       "      <td>...</td>\n",
       "      <td>...</td>\n",
       "      <td>...</td>\n",
       "      <td>...</td>\n",
       "    </tr>\n",
       "    <tr>\n",
       "      <th>675</th>\n",
       "      <td>DISTRICT522</td>\n",
       "      <td>STATE29</td>\n",
       "      <td>37</td>\n",
       "      <td>876</td>\n",
       "      <td>137</td>\n",
       "      <td>5296396.0</td>\n",
       "      <td>78.05</td>\n",
       "    </tr>\n",
       "    <tr>\n",
       "      <th>676</th>\n",
       "      <td>DISTRICT498</td>\n",
       "      <td>STATE29</td>\n",
       "      <td>64</td>\n",
       "      <td>1458</td>\n",
       "      <td>230</td>\n",
       "      <td>4042191.0</td>\n",
       "      <td>56.06</td>\n",
       "    </tr>\n",
       "    <tr>\n",
       "      <th>677</th>\n",
       "      <td>DISTRICT343</td>\n",
       "      <td>STATE29</td>\n",
       "      <td>59</td>\n",
       "      <td>1117</td>\n",
       "      <td>216</td>\n",
       "      <td>3483648.0</td>\n",
       "      <td>65.05</td>\n",
       "    </tr>\n",
       "    <tr>\n",
       "      <th>678</th>\n",
       "      <td>DISTRICT130</td>\n",
       "      <td>STATE29</td>\n",
       "      <td>51</td>\n",
       "      <td>993</td>\n",
       "      <td>211</td>\n",
       "      <td>3522644.0</td>\n",
       "      <td>66.16</td>\n",
       "    </tr>\n",
       "    <tr>\n",
       "      <th>679</th>\n",
       "      <td>DISTRICT341</td>\n",
       "      <td>STATE29</td>\n",
       "      <td>41</td>\n",
       "      <td>783</td>\n",
       "      <td>185</td>\n",
       "      <td>2798214.0</td>\n",
       "      <td>65.46</td>\n",
       "    </tr>\n",
       "  </tbody>\n",
       "</table>\n",
       "<p>680 rows × 7 columns</p>\n",
       "</div>"
      ],
      "text/plain": [
       "        DISTNAME STATNAME  BLOCKS  VILLAGES  CLUSTERS  TOTPOPULAT  OVERALL_LI\n",
       "0     DISTRICT32   STATE1      13       391       104    875564.0       66.92\n",
       "1    DISTRICT649   STATE1      18       678       144   1015503.0       66.93\n",
       "2    DISTRICT229   STATE1       8        94        65   1269751.0       71.21\n",
       "3    DISTRICT259   STATE1      13       523       104    735753.0       57.98\n",
       "4    DISTRICT486   STATE1       8       359        64    570060.0       65.00\n",
       "..           ...      ...     ...       ...       ...         ...         ...\n",
       "675  DISTRICT522  STATE29      37       876       137   5296396.0       78.05\n",
       "676  DISTRICT498  STATE29      64      1458       230   4042191.0       56.06\n",
       "677  DISTRICT343  STATE29      59      1117       216   3483648.0       65.05\n",
       "678  DISTRICT130  STATE29      51       993       211   3522644.0       66.16\n",
       "679  DISTRICT341  STATE29      41       783       185   2798214.0       65.46\n",
       "\n",
       "[680 rows x 7 columns]"
      ]
     },
     "execution_count": 43,
     "metadata": {},
     "output_type": "execute_result"
    }
   ],
   "source": [
    "pd.read_csv('/Users/macbook/Desktop/Statistics with Python G6/Dataset/1. education_districtwise.csv')"
   ]
  },
  {
   "cell_type": "code",
   "execution_count": 19,
   "metadata": {},
   "outputs": [
    {
     "data": {
      "text/plain": [
       "<Axes: xlabel='count', ylabel='STATNAME'>"
      ]
     },
     "execution_count": 19,
     "metadata": {},
     "output_type": "execute_result"
    },
    {
     "data": {
      "image/png": "[encoded data removed]",
      "text/plain": [
       "<Figure size 640x480 with 1 Axes>"
      ]
     },
     "metadata": {},
     "output_type": "display_data"
    }
   ],
   "source": [
    "sns.countplot(y = df['STATNAME'])"
   ]
  },
  {
   "cell_type": "code",
   "execution_count": 20,
   "metadata": {},
   "outputs": [
    {
     "data": {
      "text/plain": [
       "Index(['DISTNAME', 'STATNAME', 'BLOCKS', 'VILLAGES', 'CLUSTERS', 'TOTPOPULAT',\n",
       "       'OVERALL_LI'],\n",
       "      dtype='object')"
      ]
     },
     "execution_count": 20,
     "metadata": {},
     "output_type": "execute_result"
    }
   ],
   "source": [
    "df.columns"
   ]
  },
  {
   "cell_type": "markdown",
   "metadata": {},
   "source": [
    "### Blocks"
   ]
  },
  {
   "cell_type": "code",
   "execution_count": 23,
   "metadata": {},
   "outputs": [
    {
     "data": {
      "text/plain": [
       "340.0"
      ]
     },
     "execution_count": 23,
     "metadata": {},
     "output_type": "execute_result"
    }
   ],
   "source": [
    "680 /2"
   ]
  },
  {
   "cell_type": "code",
   "execution_count": 25,
   "metadata": {},
   "outputs": [
    {
     "data": {
      "text/plain": [
       "170.0"
      ]
     },
     "execution_count": 25,
     "metadata": {},
     "output_type": "execute_result"
    }
   ],
   "source": [
    "680/4"
   ]
  },
  {
   "cell_type": "code",
   "execution_count": 21,
   "metadata": {},
   "outputs": [
    {
     "data": {
      "text/plain": [
       "count    680.000000\n",
       "mean      10.760294\n",
       "std        9.585360\n",
       "min        1.000000\n",
       "25%        5.000000\n",
       "50%        8.000000\n",
       "75%       13.000000\n",
       "max       66.000000\n",
       "Name: BLOCKS, dtype: float64"
      ]
     },
     "execution_count": 21,
     "metadata": {},
     "output_type": "execute_result"
    }
   ],
   "source": [
    "df['BLOCKS'].describe()"
   ]
  },
  {
   "cell_type": "code",
   "execution_count": 24,
   "metadata": {},
   "outputs": [
    {
     "data": {
      "text/plain": [
       "65"
      ]
     },
     "execution_count": 24,
     "metadata": {},
     "output_type": "execute_result"
    }
   ],
   "source": [
    "df['BLOCKS'].max()- df['BLOCKS'].min()"
   ]
  },
  {
   "cell_type": "code",
   "execution_count": 26,
   "metadata": {},
   "outputs": [],
   "source": [
    "import seaborn as sns"
   ]
  },
  {
   "cell_type": "markdown",
   "metadata": {},
   "source": [
    "<img src=\"Photos/Box-Plot-and-Whisker-Plot-1.png\" alt=\"Control Structure\" width=\"75%\" style=\"display: block; margin: 0 auto;\">\n",
    "\n",
    "[Deials](https://www.scribbr.com/statistics/outliers/)"
   ]
  },
  {
   "cell_type": "code",
   "execution_count": 32,
   "metadata": {},
   "outputs": [
    {
     "data": {
      "image/png": "[encoded data removed]",
      "text/plain": [
       "<Figure size 800x800 with 1 Axes>"
      ]
     },
     "metadata": {},
     "output_type": "display_data"
    }
   ],
   "source": [
    "fig, ax = plt.subplots(figsize = (8, 8))\n",
    "sns.boxplot(y = df['BLOCKS'])\n",
    "ax.set_yticks(np.arange(0, 70, 5));"
   ]
  },
  {
   "cell_type": "code",
   "execution_count": null,
   "metadata": {},
   "outputs": [],
   "source": [
    "df"
   ]
  },
  {
   "cell_type": "code",
   "execution_count": 39,
   "metadata": {},
   "outputs": [
    {
     "data": {
      "text/html": [
       "<div>\n",
       "<style scoped>\n",
       "    .dataframe tbody tr th:only-of-type {\n",
       "        vertical-align: middle;\n",
       "    }\n",
       "\n",
       "    .dataframe tbody tr th {\n",
       "        vertical-align: top;\n",
       "    }\n",
       "\n",
       "    .dataframe thead th {\n",
       "        text-align: right;\n",
       "    }\n",
       "</style>\n",
       "<table border=\"1\" class=\"dataframe\">\n",
       "  <thead>\n",
       "    <tr style=\"text-align: right;\">\n",
       "      <th></th>\n",
       "      <th>DISTNAME</th>\n",
       "      <th>STATNAME</th>\n",
       "      <th>BLOCKS</th>\n",
       "      <th>VILLAGES</th>\n",
       "      <th>CLUSTERS</th>\n",
       "      <th>TOTPOPULAT</th>\n",
       "      <th>OVERALL_LI</th>\n",
       "    </tr>\n",
       "  </thead>\n",
       "  <tbody>\n",
       "    <tr>\n",
       "      <th>209</th>\n",
       "      <td>DISTRICT208</td>\n",
       "      <td>STATE28</td>\n",
       "      <td>27</td>\n",
       "      <td>1534</td>\n",
       "      <td>251</td>\n",
       "      <td>5082868.0</td>\n",
       "      <td>58.26</td>\n",
       "    </tr>\n",
       "    <tr>\n",
       "      <th>350</th>\n",
       "      <td>DISTRICT254</td>\n",
       "      <td>STATE34</td>\n",
       "      <td>33</td>\n",
       "      <td>3142</td>\n",
       "      <td>286</td>\n",
       "      <td>7102430.0</td>\n",
       "      <td>67.53</td>\n",
       "    </tr>\n",
       "    <tr>\n",
       "      <th>352</th>\n",
       "      <td>DISTRICT329</td>\n",
       "      <td>STATE34</td>\n",
       "      <td>42</td>\n",
       "      <td>3175</td>\n",
       "      <td>349</td>\n",
       "      <td>7723663.0</td>\n",
       "      <td>77.15</td>\n",
       "    </tr>\n",
       "    <tr>\n",
       "      <th>353</th>\n",
       "      <td>DISTRICT252</td>\n",
       "      <td>STATE34</td>\n",
       "      <td>27</td>\n",
       "      <td>2227</td>\n",
       "      <td>232</td>\n",
       "      <td>5168488.0</td>\n",
       "      <td>75.58</td>\n",
       "    </tr>\n",
       "    <tr>\n",
       "      <th>354</th>\n",
       "      <td>DISTRICT388</td>\n",
       "      <td>STATE34</td>\n",
       "      <td>50</td>\n",
       "      <td>3042</td>\n",
       "      <td>338</td>\n",
       "      <td>10082852.0</td>\n",
       "      <td>84.95</td>\n",
       "    </tr>\n",
       "    <tr>\n",
       "      <th>355</th>\n",
       "      <td>DISTRICT269</td>\n",
       "      <td>STATE34</td>\n",
       "      <td>31</td>\n",
       "      <td>2301</td>\n",
       "      <td>64</td>\n",
       "      <td>5520389.0</td>\n",
       "      <td>82.55</td>\n",
       "    </tr>\n",
       "    <tr>\n",
       "      <th>360</th>\n",
       "      <td>DISTRICT13</td>\n",
       "      <td>STATE34</td>\n",
       "      <td>36</td>\n",
       "      <td>3803</td>\n",
       "      <td>349</td>\n",
       "      <td>8153176.0</td>\n",
       "      <td>78.57</td>\n",
       "    </tr>\n",
       "    <tr>\n",
       "      <th>361</th>\n",
       "      <td>DISTRICT561</td>\n",
       "      <td>STATE34</td>\n",
       "      <td>30</td>\n",
       "      <td>3963</td>\n",
       "      <td>61</td>\n",
       "      <td>5094238.0</td>\n",
       "      <td>87.66</td>\n",
       "    </tr>\n",
       "    <tr>\n",
       "      <th>362</th>\n",
       "      <td>DISTRICT230</td>\n",
       "      <td>STATE34</td>\n",
       "      <td>37</td>\n",
       "      <td>3430</td>\n",
       "      <td>324</td>\n",
       "      <td>5943300.0</td>\n",
       "      <td>79.04</td>\n",
       "    </tr>\n",
       "    <tr>\n",
       "      <th>395</th>\n",
       "      <td>DISTRICT406</td>\n",
       "      <td>STATE24</td>\n",
       "      <td>30</td>\n",
       "      <td>3238</td>\n",
       "      <td>384</td>\n",
       "      <td>2513895.0</td>\n",
       "      <td>63.98</td>\n",
       "    </tr>\n",
       "    <tr>\n",
       "      <th>407</th>\n",
       "      <td>DISTRICT118</td>\n",
       "      <td>STATE24</td>\n",
       "      <td>40</td>\n",
       "      <td>2460</td>\n",
       "      <td>338</td>\n",
       "      <td>3520151.0</td>\n",
       "      <td>71.88</td>\n",
       "    </tr>\n",
       "    <tr>\n",
       "      <th>569</th>\n",
       "      <td>DISTRICT437</td>\n",
       "      <td>STATE7</td>\n",
       "      <td>38</td>\n",
       "      <td>1521</td>\n",
       "      <td>397</td>\n",
       "      <td>2699471.0</td>\n",
       "      <td>62.30</td>\n",
       "    </tr>\n",
       "    <tr>\n",
       "      <th>570</th>\n",
       "      <td>DISTRICT411</td>\n",
       "      <td>STATE7</td>\n",
       "      <td>34</td>\n",
       "      <td>1366</td>\n",
       "      <td>243</td>\n",
       "      <td>2342868.0</td>\n",
       "      <td>59.49</td>\n",
       "    </tr>\n",
       "    <tr>\n",
       "      <th>571</th>\n",
       "      <td>DISTRICT73</td>\n",
       "      <td>STATE7</td>\n",
       "      <td>43</td>\n",
       "      <td>2197</td>\n",
       "      <td>332</td>\n",
       "      <td>4288113.0</td>\n",
       "      <td>67.70</td>\n",
       "    </tr>\n",
       "    <tr>\n",
       "      <th>572</th>\n",
       "      <td>DISTRICT213</td>\n",
       "      <td>STATE7</td>\n",
       "      <td>64</td>\n",
       "      <td>1447</td>\n",
       "      <td>445</td>\n",
       "      <td>5151549.0</td>\n",
       "      <td>71.35</td>\n",
       "    </tr>\n",
       "    <tr>\n",
       "      <th>573</th>\n",
       "      <td>DISTRICT204</td>\n",
       "      <td>STATE7</td>\n",
       "      <td>48</td>\n",
       "      <td>871</td>\n",
       "      <td>367</td>\n",
       "      <td>3934782.0</td>\n",
       "      <td>74.32</td>\n",
       "    </tr>\n",
       "    <tr>\n",
       "      <th>574</th>\n",
       "      <td>DISTRICT92</td>\n",
       "      <td>STATE7</td>\n",
       "      <td>50</td>\n",
       "      <td>927</td>\n",
       "      <td>414</td>\n",
       "      <td>4529009.0</td>\n",
       "      <td>74.37</td>\n",
       "    </tr>\n",
       "    <tr>\n",
       "      <th>575</th>\n",
       "      <td>DISTRICT87</td>\n",
       "      <td>STATE7</td>\n",
       "      <td>57</td>\n",
       "      <td>718</td>\n",
       "      <td>378</td>\n",
       "      <td>4889230.0</td>\n",
       "      <td>67.99</td>\n",
       "    </tr>\n",
       "    <tr>\n",
       "      <th>576</th>\n",
       "      <td>DISTRICT321</td>\n",
       "      <td>STATE7</td>\n",
       "      <td>56</td>\n",
       "      <td>957</td>\n",
       "      <td>371</td>\n",
       "      <td>3392764.0</td>\n",
       "      <td>63.53</td>\n",
       "    </tr>\n",
       "    <tr>\n",
       "      <th>577</th>\n",
       "      <td>DISTRICT113</td>\n",
       "      <td>STATE7</td>\n",
       "      <td>46</td>\n",
       "      <td>1044</td>\n",
       "      <td>307</td>\n",
       "      <td>2966082.0</td>\n",
       "      <td>69.15</td>\n",
       "    </tr>\n",
       "    <tr>\n",
       "      <th>578</th>\n",
       "      <td>DISTRICT108</td>\n",
       "      <td>STATE7</td>\n",
       "      <td>51</td>\n",
       "      <td>835</td>\n",
       "      <td>381</td>\n",
       "      <td>2884524.0</td>\n",
       "      <td>67.88</td>\n",
       "    </tr>\n",
       "    <tr>\n",
       "      <th>579</th>\n",
       "      <td>DISTRICT235</td>\n",
       "      <td>STATE7</td>\n",
       "      <td>54</td>\n",
       "      <td>904</td>\n",
       "      <td>308</td>\n",
       "      <td>4046601.0</td>\n",
       "      <td>61.13</td>\n",
       "    </tr>\n",
       "    <tr>\n",
       "      <th>580</th>\n",
       "      <td>DISTRICT58</td>\n",
       "      <td>STATE7</td>\n",
       "      <td>63</td>\n",
       "      <td>916</td>\n",
       "      <td>565</td>\n",
       "      <td>4083315.0</td>\n",
       "      <td>64.28</td>\n",
       "    </tr>\n",
       "    <tr>\n",
       "      <th>581</th>\n",
       "      <td>DISTRICT492</td>\n",
       "      <td>STATE7</td>\n",
       "      <td>66</td>\n",
       "      <td>1372</td>\n",
       "      <td>568</td>\n",
       "      <td>4170468.0</td>\n",
       "      <td>72.36</td>\n",
       "    </tr>\n",
       "    <tr>\n",
       "      <th>670</th>\n",
       "      <td>DISTRICT371</td>\n",
       "      <td>STATE29</td>\n",
       "      <td>52</td>\n",
       "      <td>1555</td>\n",
       "      <td>233</td>\n",
       "      <td>2737738.0</td>\n",
       "      <td>61.55</td>\n",
       "    </tr>\n",
       "    <tr>\n",
       "      <th>671</th>\n",
       "      <td>DISTRICT620</td>\n",
       "      <td>STATE29</td>\n",
       "      <td>36</td>\n",
       "      <td>822</td>\n",
       "      <td>129</td>\n",
       "      <td>2552073.0</td>\n",
       "      <td>62.25</td>\n",
       "    </tr>\n",
       "    <tr>\n",
       "      <th>672</th>\n",
       "      <td>DISTRICT477</td>\n",
       "      <td>STATE29</td>\n",
       "      <td>57</td>\n",
       "      <td>1045</td>\n",
       "      <td>203</td>\n",
       "      <td>3811738.0</td>\n",
       "      <td>64.87</td>\n",
       "    </tr>\n",
       "    <tr>\n",
       "      <th>673</th>\n",
       "      <td>DISTRICT599</td>\n",
       "      <td>STATE29</td>\n",
       "      <td>46</td>\n",
       "      <td>1214</td>\n",
       "      <td>184</td>\n",
       "      <td>3031877.0</td>\n",
       "      <td>62.53</td>\n",
       "    </tr>\n",
       "    <tr>\n",
       "      <th>675</th>\n",
       "      <td>DISTRICT522</td>\n",
       "      <td>STATE29</td>\n",
       "      <td>37</td>\n",
       "      <td>876</td>\n",
       "      <td>137</td>\n",
       "      <td>5296396.0</td>\n",
       "      <td>78.05</td>\n",
       "    </tr>\n",
       "    <tr>\n",
       "      <th>676</th>\n",
       "      <td>DISTRICT498</td>\n",
       "      <td>STATE29</td>\n",
       "      <td>64</td>\n",
       "      <td>1458</td>\n",
       "      <td>230</td>\n",
       "      <td>4042191.0</td>\n",
       "      <td>56.06</td>\n",
       "    </tr>\n",
       "    <tr>\n",
       "      <th>677</th>\n",
       "      <td>DISTRICT343</td>\n",
       "      <td>STATE29</td>\n",
       "      <td>59</td>\n",
       "      <td>1117</td>\n",
       "      <td>216</td>\n",
       "      <td>3483648.0</td>\n",
       "      <td>65.05</td>\n",
       "    </tr>\n",
       "    <tr>\n",
       "      <th>678</th>\n",
       "      <td>DISTRICT130</td>\n",
       "      <td>STATE29</td>\n",
       "      <td>51</td>\n",
       "      <td>993</td>\n",
       "      <td>211</td>\n",
       "      <td>3522644.0</td>\n",
       "      <td>66.16</td>\n",
       "    </tr>\n",
       "    <tr>\n",
       "      <th>679</th>\n",
       "      <td>DISTRICT341</td>\n",
       "      <td>STATE29</td>\n",
       "      <td>41</td>\n",
       "      <td>783</td>\n",
       "      <td>185</td>\n",
       "      <td>2798214.0</td>\n",
       "      <td>65.46</td>\n",
       "    </tr>\n",
       "  </tbody>\n",
       "</table>\n",
       "</div>"
      ],
      "text/plain": [
       "        DISTNAME STATNAME  BLOCKS  VILLAGES  CLUSTERS  TOTPOPULAT  OVERALL_LI\n",
       "209  DISTRICT208  STATE28      27      1534       251   5082868.0       58.26\n",
       "350  DISTRICT254  STATE34      33      3142       286   7102430.0       67.53\n",
       "352  DISTRICT329  STATE34      42      3175       349   7723663.0       77.15\n",
       "353  DISTRICT252  STATE34      27      2227       232   5168488.0       75.58\n",
       "354  DISTRICT388  STATE34      50      3042       338  10082852.0       84.95\n",
       "355  DISTRICT269  STATE34      31      2301        64   5520389.0       82.55\n",
       "360   DISTRICT13  STATE34      36      3803       349   8153176.0       78.57\n",
       "361  DISTRICT561  STATE34      30      3963        61   5094238.0       87.66\n",
       "362  DISTRICT230  STATE34      37      3430       324   5943300.0       79.04\n",
       "395  DISTRICT406  STATE24      30      3238       384   2513895.0       63.98\n",
       "407  DISTRICT118  STATE24      40      2460       338   3520151.0       71.88\n",
       "569  DISTRICT437   STATE7      38      1521       397   2699471.0       62.30\n",
       "570  DISTRICT411   STATE7      34      1366       243   2342868.0       59.49\n",
       "571   DISTRICT73   STATE7      43      2197       332   4288113.0       67.70\n",
       "572  DISTRICT213   STATE7      64      1447       445   5151549.0       71.35\n",
       "573  DISTRICT204   STATE7      48       871       367   3934782.0       74.32\n",
       "574   DISTRICT92   STATE7      50       927       414   4529009.0       74.37\n",
       "575   DISTRICT87   STATE7      57       718       378   4889230.0       67.99\n",
       "576  DISTRICT321   STATE7      56       957       371   3392764.0       63.53\n",
       "577  DISTRICT113   STATE7      46      1044       307   2966082.0       69.15\n",
       "578  DISTRICT108   STATE7      51       835       381   2884524.0       67.88\n",
       "579  DISTRICT235   STATE7      54       904       308   4046601.0       61.13\n",
       "580   DISTRICT58   STATE7      63       916       565   4083315.0       64.28\n",
       "581  DISTRICT492   STATE7      66      1372       568   4170468.0       72.36\n",
       "670  DISTRICT371  STATE29      52      1555       233   2737738.0       61.55\n",
       "671  DISTRICT620  STATE29      36       822       129   2552073.0       62.25\n",
       "672  DISTRICT477  STATE29      57      1045       203   3811738.0       64.87\n",
       "673  DISTRICT599  STATE29      46      1214       184   3031877.0       62.53\n",
       "675  DISTRICT522  STATE29      37       876       137   5296396.0       78.05\n",
       "676  DISTRICT498  STATE29      64      1458       230   4042191.0       56.06\n",
       "677  DISTRICT343  STATE29      59      1117       216   3483648.0       65.05\n",
       "678  DISTRICT130  STATE29      51       993       211   3522644.0       66.16\n",
       "679  DISTRICT341  STATE29      41       783       185   2798214.0       65.46"
      ]
     },
     "execution_count": 39,
     "metadata": {},
     "output_type": "execute_result"
    }
   ],
   "source": [
    "df.loc[outlier_detection(df['BLOCKS']).index]"
   ]
  },
  {
   "cell_type": "code",
   "execution_count": 34,
   "metadata": {},
   "outputs": [],
   "source": [
    "def outlier_detection(df):\n",
    "    \"\"\"\n",
    "    Detect potential outliers in a DataFrame using the Interquartile Range (IQR) method.\n",
    "\n",
    "    Parameters:\n",
    "    - df (pandas.DataFrame): The input DataFrame containing numerical data.\n",
    "\n",
    "    Returns:\n",
    "    - pandas.Series: A Series containing potential outlier values.\n",
    "    \n",
    "    The function calculates the first quartile (Q1), third quartile (Q3), and the Interquartile Range (IQR).\n",
    "    It then identifies potential outliers below the lower bound (Q1 - 1.5 * IQR) or above the upper bound (Q3 + 1.5 * IQR).\n",
    "    The result is a Series containing the values in the DataFrame that are potential outliers.\n",
    "\n",
    "    Example:\n",
    "    >>> data = {'Column1': [2, 4, 5, 7, 8, 9, 10, 11, 12, 50]}\n",
    "    >>> df = pd.DataFrame(data)\n",
    "    >>> outlier_detection(df['Column1'])\n",
    "    Returns:\n",
    "    9    50\n",
    "    Name: Column1, dtype: int64\n",
    "    \"\"\"\n",
    "    Q1 = df.quantile(0.25)\n",
    "    Q3 = df.quantile(0.75)\n",
    "    IQR = Q3 - Q1\n",
    "    upper_end = Q3 + 1.5 * IQR\n",
    "    lower_end = Q1 - 1.5 * IQR\n",
    "    outliers = df[(df > upper_end) | (df < lower_end)]\n",
    "    return outliers"
   ]
  },
  {
   "cell_type": "code",
   "execution_count": 22,
   "metadata": {},
   "outputs": [
    {
     "data": {
      "image/png": "[encoded data removed]",
      "text/plain": [
       "<Figure size 1600x600 with 1 Axes>"
      ]
     },
     "metadata": {},
     "output_type": "display_data"
    }
   ],
   "source": [
    "fig, ax = plt.subplots(figsize = (16, 6))\n",
    "sns.barplot(y = df['BLOCKS'].value_counts(), x = df['BLOCKS'].value_counts().index, color = 'b')\n",
    "ax.bar_label(ax.containers[0], fontsize = 10);"
   ]
  },
  {
   "cell_type": "code",
   "execution_count": null,
   "metadata": {},
   "outputs": [],
   "source": []
  },
  {
   "cell_type": "code",
   "execution_count": 35,
   "metadata": {},
   "outputs": [
    {
     "data": {
      "text/plain": [
       "BLOCKS\n",
       "6     79\n",
       "5     59\n",
       "7     53\n",
       "8     51\n",
       "9     50\n",
       "4     50\n",
       "3     44\n",
       "10    42\n",
       "11    34\n",
       "15    22\n",
       "12    21\n",
       "13    18\n",
       "14    18\n",
       "17    16\n",
       "2     15\n",
       "18    14\n",
       "19    12\n",
       "20    12\n",
       "16    12\n",
       "1      7\n",
       "22     6\n",
       "21     4\n",
       "23     3\n",
       "25     3\n",
       "51     2\n",
       "30     2\n",
       "46     2\n",
       "57     2\n",
       "64     2\n",
       "37     2\n",
       "24     2\n",
       "36     2\n",
       "50     2\n",
       "27     2\n",
       "33     1\n",
       "59     1\n",
       "52     1\n",
       "66     1\n",
       "63     1\n",
       "54     1\n",
       "56     1\n",
       "31     1\n",
       "42     1\n",
       "48     1\n",
       "43     1\n",
       "34     1\n",
       "38     1\n",
       "40     1\n",
       "41     1\n",
       "Name: count, dtype: int64"
      ]
     },
     "execution_count": 35,
     "metadata": {},
     "output_type": "execute_result"
    }
   ],
   "source": [
    "df['BLOCKS'].value_counts()"
   ]
  },
  {
   "cell_type": "code",
   "execution_count": 44,
   "metadata": {},
   "outputs": [
    {
     "data": {
      "text/plain": [
       "48"
      ]
     },
     "execution_count": 44,
     "metadata": {},
     "output_type": "execute_result"
    }
   ],
   "source": [
    "6*8"
   ]
  },
  {
   "cell_type": "code",
   "execution_count": 46,
   "metadata": {},
   "outputs": [
    {
     "data": {
      "text/plain": [
       "(680, 7)"
      ]
     },
     "execution_count": 46,
     "metadata": {},
     "output_type": "execute_result"
    }
   ],
   "source": [
    "df.shape"
   ]
  },
  {
   "cell_type": "code",
   "execution_count": 45,
   "metadata": {},
   "outputs": [
    {
     "data": {
      "text/plain": [
       "count     680.000000\n",
       "mean      874.614706\n",
       "std       622.711657\n",
       "min         6.000000\n",
       "25%       390.750000\n",
       "50%       785.500000\n",
       "75%      1204.250000\n",
       "max      3963.000000\n",
       "Name: VILLAGES, dtype: float64"
      ]
     },
     "execution_count": 45,
     "metadata": {},
     "output_type": "execute_result"
    }
   ],
   "source": [
    "df['VILLAGES'].describe()"
   ]
  },
  {
   "cell_type": "code",
   "execution_count": 46,
   "metadata": {},
   "outputs": [
    {
     "data": {
      "text/plain": [
       "394.75"
      ]
     },
     "execution_count": 46,
     "metadata": {},
     "output_type": "execute_result"
    }
   ],
   "source": [
    "785.5-390.75"
   ]
  },
  {
   "cell_type": "code",
   "execution_count": 49,
   "metadata": {},
   "outputs": [
    {
     "data": {
      "text/plain": [
       "156    2603\n",
       "193    2618\n",
       "350    3142\n",
       "352    3175\n",
       "354    3042\n",
       "360    3803\n",
       "361    3963\n",
       "362    3430\n",
       "370    2573\n",
       "395    3238\n",
       "407    2460\n",
       "Name: VILLAGES, dtype: int64"
      ]
     },
     "execution_count": 49,
     "metadata": {},
     "output_type": "execute_result"
    }
   ],
   "source": [
    "outlier_detection(df['VILLAGES'])"
   ]
  },
  {
   "cell_type": "code",
   "execution_count": 47,
   "metadata": {},
   "outputs": [
    {
     "data": {
      "text/html": [
       "<div>\n",
       "<style scoped>\n",
       "    .dataframe tbody tr th:only-of-type {\n",
       "        vertical-align: middle;\n",
       "    }\n",
       "\n",
       "    .dataframe tbody tr th {\n",
       "        vertical-align: top;\n",
       "    }\n",
       "\n",
       "    .dataframe thead th {\n",
       "        text-align: right;\n",
       "    }\n",
       "</style>\n",
       "<table border=\"1\" class=\"dataframe\">\n",
       "  <thead>\n",
       "    <tr style=\"text-align: right;\">\n",
       "      <th></th>\n",
       "      <th>DISTNAME</th>\n",
       "      <th>STATNAME</th>\n",
       "      <th>BLOCKS</th>\n",
       "      <th>VILLAGES</th>\n",
       "      <th>CLUSTERS</th>\n",
       "      <th>TOTPOPULAT</th>\n",
       "      <th>OVERALL_LI</th>\n",
       "    </tr>\n",
       "  </thead>\n",
       "  <tbody>\n",
       "    <tr>\n",
       "      <th>156</th>\n",
       "      <td>DISTRICT129</td>\n",
       "      <td>STATE21</td>\n",
       "      <td>23</td>\n",
       "      <td>2603</td>\n",
       "      <td>238</td>\n",
       "      <td>4474446.0</td>\n",
       "      <td>63.38</td>\n",
       "    </tr>\n",
       "    <tr>\n",
       "      <th>193</th>\n",
       "      <td>DISTRICT398</td>\n",
       "      <td>STATE21</td>\n",
       "      <td>23</td>\n",
       "      <td>2618</td>\n",
       "      <td>283</td>\n",
       "      <td>4616509.0</td>\n",
       "      <td>72.69</td>\n",
       "    </tr>\n",
       "    <tr>\n",
       "      <th>350</th>\n",
       "      <td>DISTRICT254</td>\n",
       "      <td>STATE34</td>\n",
       "      <td>33</td>\n",
       "      <td>3142</td>\n",
       "      <td>286</td>\n",
       "      <td>7102430.0</td>\n",
       "      <td>67.53</td>\n",
       "    </tr>\n",
       "    <tr>\n",
       "      <th>352</th>\n",
       "      <td>DISTRICT329</td>\n",
       "      <td>STATE34</td>\n",
       "      <td>42</td>\n",
       "      <td>3175</td>\n",
       "      <td>349</td>\n",
       "      <td>7723663.0</td>\n",
       "      <td>77.15</td>\n",
       "    </tr>\n",
       "    <tr>\n",
       "      <th>354</th>\n",
       "      <td>DISTRICT388</td>\n",
       "      <td>STATE34</td>\n",
       "      <td>50</td>\n",
       "      <td>3042</td>\n",
       "      <td>338</td>\n",
       "      <td>10082852.0</td>\n",
       "      <td>84.95</td>\n",
       "    </tr>\n",
       "    <tr>\n",
       "      <th>360</th>\n",
       "      <td>DISTRICT13</td>\n",
       "      <td>STATE34</td>\n",
       "      <td>36</td>\n",
       "      <td>3803</td>\n",
       "      <td>349</td>\n",
       "      <td>8153176.0</td>\n",
       "      <td>78.57</td>\n",
       "    </tr>\n",
       "    <tr>\n",
       "      <th>361</th>\n",
       "      <td>DISTRICT561</td>\n",
       "      <td>STATE34</td>\n",
       "      <td>30</td>\n",
       "      <td>3963</td>\n",
       "      <td>61</td>\n",
       "      <td>5094238.0</td>\n",
       "      <td>87.66</td>\n",
       "    </tr>\n",
       "    <tr>\n",
       "      <th>362</th>\n",
       "      <td>DISTRICT230</td>\n",
       "      <td>STATE34</td>\n",
       "      <td>37</td>\n",
       "      <td>3430</td>\n",
       "      <td>324</td>\n",
       "      <td>5943300.0</td>\n",
       "      <td>79.04</td>\n",
       "    </tr>\n",
       "    <tr>\n",
       "      <th>370</th>\n",
       "      <td>DISTRICT223</td>\n",
       "      <td>STATE23</td>\n",
       "      <td>13</td>\n",
       "      <td>2573</td>\n",
       "      <td>146</td>\n",
       "      <td>2445203.0</td>\n",
       "      <td>65.12</td>\n",
       "    </tr>\n",
       "    <tr>\n",
       "      <th>395</th>\n",
       "      <td>DISTRICT406</td>\n",
       "      <td>STATE24</td>\n",
       "      <td>30</td>\n",
       "      <td>3238</td>\n",
       "      <td>384</td>\n",
       "      <td>2513895.0</td>\n",
       "      <td>63.98</td>\n",
       "    </tr>\n",
       "    <tr>\n",
       "      <th>407</th>\n",
       "      <td>DISTRICT118</td>\n",
       "      <td>STATE24</td>\n",
       "      <td>40</td>\n",
       "      <td>2460</td>\n",
       "      <td>338</td>\n",
       "      <td>3520151.0</td>\n",
       "      <td>71.88</td>\n",
       "    </tr>\n",
       "  </tbody>\n",
       "</table>\n",
       "</div>"
      ],
      "text/plain": [
       "        DISTNAME STATNAME  BLOCKS  VILLAGES  CLUSTERS  TOTPOPULAT  OVERALL_LI\n",
       "156  DISTRICT129  STATE21      23      2603       238   4474446.0       63.38\n",
       "193  DISTRICT398  STATE21      23      2618       283   4616509.0       72.69\n",
       "350  DISTRICT254  STATE34      33      3142       286   7102430.0       67.53\n",
       "352  DISTRICT329  STATE34      42      3175       349   7723663.0       77.15\n",
       "354  DISTRICT388  STATE34      50      3042       338  10082852.0       84.95\n",
       "360   DISTRICT13  STATE34      36      3803       349   8153176.0       78.57\n",
       "361  DISTRICT561  STATE34      30      3963        61   5094238.0       87.66\n",
       "362  DISTRICT230  STATE34      37      3430       324   5943300.0       79.04\n",
       "370  DISTRICT223  STATE23      13      2573       146   2445203.0       65.12\n",
       "395  DISTRICT406  STATE24      30      3238       384   2513895.0       63.98\n",
       "407  DISTRICT118  STATE24      40      2460       338   3520151.0       71.88"
      ]
     },
     "execution_count": 47,
     "metadata": {},
     "output_type": "execute_result"
    }
   ],
   "source": [
    "df.loc[outlier_detection(df['VILLAGES']).index]\n"
   ]
  },
  {
   "cell_type": "code",
   "execution_count": 43,
   "metadata": {},
   "outputs": [
    {
     "data": {
      "text/html": [
       "<div>\n",
       "<style scoped>\n",
       "    .dataframe tbody tr th:only-of-type {\n",
       "        vertical-align: middle;\n",
       "    }\n",
       "\n",
       "    .dataframe tbody tr th {\n",
       "        vertical-align: top;\n",
       "    }\n",
       "\n",
       "    .dataframe thead th {\n",
       "        text-align: right;\n",
       "    }\n",
       "</style>\n",
       "<table border=\"1\" class=\"dataframe\">\n",
       "  <thead>\n",
       "    <tr style=\"text-align: right;\">\n",
       "      <th></th>\n",
       "      <th>DISTNAME</th>\n",
       "      <th>STATNAME</th>\n",
       "      <th>BLOCKS</th>\n",
       "      <th>VILLAGES</th>\n",
       "      <th>CLUSTERS</th>\n",
       "      <th>TOTPOPULAT</th>\n",
       "      <th>OVERALL_LI</th>\n",
       "    </tr>\n",
       "  </thead>\n",
       "  <tbody>\n",
       "    <tr>\n",
       "      <th>0</th>\n",
       "      <td>DISTRICT32</td>\n",
       "      <td>STATE1</td>\n",
       "      <td>13</td>\n",
       "      <td>391</td>\n",
       "      <td>104</td>\n",
       "      <td>875564.0</td>\n",
       "      <td>66.92</td>\n",
       "    </tr>\n",
       "    <tr>\n",
       "      <th>1</th>\n",
       "      <td>DISTRICT649</td>\n",
       "      <td>STATE1</td>\n",
       "      <td>18</td>\n",
       "      <td>678</td>\n",
       "      <td>144</td>\n",
       "      <td>1015503.0</td>\n",
       "      <td>66.93</td>\n",
       "    </tr>\n",
       "    <tr>\n",
       "      <th>2</th>\n",
       "      <td>DISTRICT229</td>\n",
       "      <td>STATE1</td>\n",
       "      <td>8</td>\n",
       "      <td>94</td>\n",
       "      <td>65</td>\n",
       "      <td>1269751.0</td>\n",
       "      <td>71.21</td>\n",
       "    </tr>\n",
       "    <tr>\n",
       "      <th>3</th>\n",
       "      <td>DISTRICT259</td>\n",
       "      <td>STATE1</td>\n",
       "      <td>13</td>\n",
       "      <td>523</td>\n",
       "      <td>104</td>\n",
       "      <td>735753.0</td>\n",
       "      <td>57.98</td>\n",
       "    </tr>\n",
       "    <tr>\n",
       "      <th>4</th>\n",
       "      <td>DISTRICT486</td>\n",
       "      <td>STATE1</td>\n",
       "      <td>8</td>\n",
       "      <td>359</td>\n",
       "      <td>64</td>\n",
       "      <td>570060.0</td>\n",
       "      <td>65.00</td>\n",
       "    </tr>\n",
       "  </tbody>\n",
       "</table>\n",
       "</div>"
      ],
      "text/plain": [
       "      DISTNAME STATNAME  BLOCKS  VILLAGES  CLUSTERS  TOTPOPULAT  OVERALL_LI\n",
       "0   DISTRICT32   STATE1      13       391       104    875564.0       66.92\n",
       "1  DISTRICT649   STATE1      18       678       144   1015503.0       66.93\n",
       "2  DISTRICT229   STATE1       8        94        65   1269751.0       71.21\n",
       "3  DISTRICT259   STATE1      13       523       104    735753.0       57.98\n",
       "4  DISTRICT486   STATE1       8       359        64    570060.0       65.00"
      ]
     },
     "execution_count": 43,
     "metadata": {},
     "output_type": "execute_result"
    }
   ],
   "source": [
    "df.head()"
   ]
  },
  {
   "cell_type": "code",
   "execution_count": 42,
   "metadata": {},
   "outputs": [
    {
     "data": {
      "text/plain": [
       "count     680.000000\n",
       "mean      874.614706\n",
       "std       622.711657\n",
       "min         6.000000\n",
       "25%       390.750000\n",
       "50%       785.500000\n",
       "75%      1204.250000\n",
       "max      3963.000000\n",
       "Name: VILLAGES, dtype: float64"
      ]
     },
     "execution_count": 42,
     "metadata": {},
     "output_type": "execute_result"
    }
   ],
   "source": [
    "df['VILLAGES'].describe()"
   ]
  },
  {
   "cell_type": "code",
   "execution_count": 52,
   "metadata": {},
   "outputs": [
    {
     "name": "stderr",
     "output_type": "stream",
     "text": [
      "/opt/anaconda3/lib/python3.11/site-packages/seaborn/_oldcore.py:1119: FutureWarning: use_inf_as_na option is deprecated and will be removed in a future version. Convert inf values to NaN before operating instead.\n",
      "  with pd.option_context('mode.use_inf_as_na', True):\n"
     ]
    },
    {
     "data": {
      "text/plain": [
       "''"
      ]
     },
     "execution_count": 52,
     "metadata": {},
     "output_type": "execute_result"
    },
    {
     "data": {
      "image/png": "[encoded data removed]",
      "text/plain": [
       "<Figure size 1600x600 with 1 Axes>"
      ]
     },
     "metadata": {},
     "output_type": "display_data"
    }
   ],
   "source": [
    "fig, ax = plt.subplots(figsize = (16, 6))\n",
    "sns.histplot(x = df['VILLAGES'], bins = 30)\n",
    "ax.bar_label(ax.containers[1])\n",
    "ax.set_xticks(np.arange(0, 4000, 200))\n",
    ";"
   ]
  },
  {
   "cell_type": "code",
   "execution_count": 54,
   "metadata": {},
   "outputs": [
    {
     "data": {
      "image/png": "[encoded data removed]",
      "text/plain": [
       "<Figure size 640x480 with 1 Axes>"
      ]
     },
     "metadata": {},
     "output_type": "display_data"
    }
   ],
   "source": [
    "sns.boxplot(y = df['TOTPOPULAT']);"
   ]
  },
  {
   "cell_type": "code",
   "execution_count": 56,
   "metadata": {},
   "outputs": [
    {
     "data": {
      "text/plain": [
       "count    6.340000e+02\n",
       "mean     1.899024e+06\n",
       "std      1.547475e+06\n",
       "min      7.948000e+03\n",
       "25%      8.226940e+05\n",
       "50%      1.564392e+06\n",
       "75%      2.587520e+06\n",
       "max      1.105413e+07\n",
       "Name: TOTPOPULAT, dtype: float64"
      ]
     },
     "execution_count": 56,
     "metadata": {},
     "output_type": "execute_result"
    }
   ],
   "source": [
    "df['TOTPOPULAT'].describe()"
   ]
  },
  {
   "cell_type": "code",
   "execution_count": null,
   "metadata": {},
   "outputs": [],
   "source": [
    "mean = median = Q2 = 50% "
   ]
  },
  {
   "cell_type": "code",
   "execution_count": 52,
   "metadata": {},
   "outputs": [
    {
     "data": {
      "text/plain": [
       "5296396.0"
      ]
     },
     "execution_count": 52,
     "metadata": {},
     "output_type": "execute_result"
    }
   ],
   "source": [
    "outlier_detection(df['TOTPOPULAT']).min()"
   ]
  },
  {
   "cell_type": "code",
   "execution_count": 50,
   "metadata": {},
   "outputs": [
    {
     "data": {
      "text/plain": [
       "count    6.340000e+02\n",
       "mean     1.899024e+06\n",
       "std      1.547475e+06\n",
       "min      7.948000e+03\n",
       "25%      8.226940e+05\n",
       "50%      1.564392e+06\n",
       "75%      2.587520e+06\n",
       "max      1.105413e+07\n",
       "Name: TOTPOPULAT, dtype: float64"
      ]
     },
     "execution_count": 50,
     "metadata": {},
     "output_type": "execute_result"
    }
   ],
   "source": [
    "df['TOTPOPULAT'].describe()"
   ]
  },
  {
   "cell_type": "code",
   "execution_count": 63,
   "metadata": {},
   "outputs": [
    {
     "data": {
      "text/plain": [
       "1546254.5591443505"
      ]
     },
     "execution_count": 63,
     "metadata": {},
     "output_type": "execute_result"
    }
   ],
   "source": [
    "df['TOTPOPULAT'].std(ddof=0)"
   ]
  },
  {
   "cell_type": "code",
   "execution_count": 62,
   "metadata": {},
   "outputs": [
    {
     "data": {
      "text/plain": [
       "1547475.447261244"
      ]
     },
     "execution_count": 62,
     "metadata": {},
     "output_type": "execute_result"
    }
   ],
   "source": [
    "df['TOTPOPULAT'].std(ddof=1) # std for sample"
   ]
  },
  {
   "cell_type": "code",
   "execution_count": 61,
   "metadata": {},
   "outputs": [
    {
     "data": {
      "text/plain": [
       "0.00       7948.00\n",
       "0.99    7553560.21\n",
       "Name: TOTPOPULAT, dtype: float64"
      ]
     },
     "execution_count": 61,
     "metadata": {},
     "output_type": "execute_result"
    }
   ],
   "source": [
    "df['TOTPOPULAT'].quantile([0, .99])"
   ]
  },
  {
   "cell_type": "code",
   "execution_count": 58,
   "metadata": {},
   "outputs": [
    {
     "data": {
      "text/html": [
       "<div>\n",
       "<style scoped>\n",
       "    .dataframe tbody tr th:only-of-type {\n",
       "        vertical-align: middle;\n",
       "    }\n",
       "\n",
       "    .dataframe tbody tr th {\n",
       "        vertical-align: top;\n",
       "    }\n",
       "\n",
       "    .dataframe thead th {\n",
       "        text-align: right;\n",
       "    }\n",
       "</style>\n",
       "<table border=\"1\" class=\"dataframe\">\n",
       "  <thead>\n",
       "    <tr style=\"text-align: right;\">\n",
       "      <th></th>\n",
       "      <th>DISTNAME</th>\n",
       "      <th>STATNAME</th>\n",
       "      <th>BLOCKS</th>\n",
       "      <th>VILLAGES</th>\n",
       "      <th>CLUSTERS</th>\n",
       "      <th>TOTPOPULAT</th>\n",
       "      <th>OVERALL_LI</th>\n",
       "    </tr>\n",
       "  </thead>\n",
       "  <tbody>\n",
       "    <tr>\n",
       "      <th>553</th>\n",
       "      <td>DISTRICT274</td>\n",
       "      <td>STATE17</td>\n",
       "      <td>12</td>\n",
       "      <td>1202</td>\n",
       "      <td>195</td>\n",
       "      <td>11054131.0</td>\n",
       "      <td>86.18</td>\n",
       "    </tr>\n",
       "  </tbody>\n",
       "</table>\n",
       "</div>"
      ],
      "text/plain": [
       "        DISTNAME STATNAME  BLOCKS  VILLAGES  CLUSTERS  TOTPOPULAT  OVERALL_LI\n",
       "553  DISTRICT274  STATE17      12      1202       195  11054131.0       86.18"
      ]
     },
     "execution_count": 58,
     "metadata": {},
     "output_type": "execute_result"
    }
   ],
   "source": [
    "df[df['TOTPOPULAT']==df['TOTPOPULAT'].max()]"
   ]
  },
  {
   "cell_type": "code",
   "execution_count": 56,
   "metadata": {},
   "outputs": [
    {
     "name": "stderr",
     "output_type": "stream",
     "text": [
      "/opt/anaconda3/lib/python3.11/site-packages/seaborn/_oldcore.py:1119: FutureWarning: use_inf_as_na option is deprecated and will be removed in a future version. Convert inf values to NaN before operating instead.\n",
      "  with pd.option_context('mode.use_inf_as_na', True):\n"
     ]
    },
    {
     "data": {
      "image/png": "[encoded data removed]",
      "text/plain": [
       "<Figure size 1600x600 with 1 Axes>"
      ]
     },
     "metadata": {},
     "output_type": "display_data"
    }
   ],
   "source": [
    "fig, ax = plt.subplots(figsize = (16, 6))\n",
    "sns.histplot(x = df['TOTPOPULAT'],bins = 40)\n",
    "ax.bar_label(ax.containers[1]);\n",
    "# ax.set_xticks(np.arange(0, 4000, 200))"
   ]
  },
  {
   "cell_type": "code",
   "execution_count": 60,
   "metadata": {},
   "outputs": [
    {
     "data": {
      "text/plain": [
       "Index(['DISTNAME', 'STATNAME', 'BLOCKS', 'VILLAGES', 'CLUSTERS', 'TOTPOPULAT',\n",
       "       'OVERALL_LI'],\n",
       "      dtype='object')"
      ]
     },
     "execution_count": 60,
     "metadata": {},
     "output_type": "execute_result"
    }
   ],
   "source": [
    "df.columns"
   ]
  },
  {
   "cell_type": "code",
   "execution_count": 64,
   "metadata": {},
   "outputs": [
    {
     "data": {
      "text/plain": [
       "count    634.000000\n",
       "mean      73.395189\n",
       "std       10.098460\n",
       "min       37.220000\n",
       "25%       66.437500\n",
       "50%       73.490000\n",
       "75%       80.815000\n",
       "max       98.760000\n",
       "Name: OVERALL_LI, dtype: float64"
      ]
     },
     "execution_count": 64,
     "metadata": {},
     "output_type": "execute_result"
    }
   ],
   "source": [
    "df['OVERALL_LI'].describe()"
   ]
  },
  {
   "cell_type": "code",
   "execution_count": 69,
   "metadata": {},
   "outputs": [
    {
     "data": {
      "text/html": [
       "<div>\n",
       "<style scoped>\n",
       "    .dataframe tbody tr th:only-of-type {\n",
       "        vertical-align: middle;\n",
       "    }\n",
       "\n",
       "    .dataframe tbody tr th {\n",
       "        vertical-align: top;\n",
       "    }\n",
       "\n",
       "    .dataframe thead th {\n",
       "        text-align: right;\n",
       "    }\n",
       "</style>\n",
       "<table border=\"1\" class=\"dataframe\">\n",
       "  <thead>\n",
       "    <tr style=\"text-align: right;\">\n",
       "      <th></th>\n",
       "      <th>DISTNAME</th>\n",
       "      <th>STATNAME</th>\n",
       "      <th>BLOCKS</th>\n",
       "      <th>VILLAGES</th>\n",
       "      <th>CLUSTERS</th>\n",
       "      <th>TOTPOPULAT</th>\n",
       "      <th>OVERALL_LI</th>\n",
       "    </tr>\n",
       "  </thead>\n",
       "  <tbody>\n",
       "    <tr>\n",
       "      <th>183</th>\n",
       "      <td>DISTRICT585</td>\n",
       "      <td>STATE21</td>\n",
       "      <td>5</td>\n",
       "      <td>803</td>\n",
       "      <td>54</td>\n",
       "      <td>1114615.0</td>\n",
       "      <td>49.13</td>\n",
       "    </tr>\n",
       "    <tr>\n",
       "      <th>416</th>\n",
       "      <td>DISTRICT116</td>\n",
       "      <td>STATE24</td>\n",
       "      <td>12</td>\n",
       "      <td>870</td>\n",
       "      <td>166</td>\n",
       "      <td>1218762.0</td>\n",
       "      <td>48.20</td>\n",
       "    </tr>\n",
       "    <tr>\n",
       "      <th>417</th>\n",
       "      <td>DISTRICT56</td>\n",
       "      <td>STATE24</td>\n",
       "      <td>18</td>\n",
       "      <td>1585</td>\n",
       "      <td>179</td>\n",
       "      <td>1376934.0</td>\n",
       "      <td>49.87</td>\n",
       "    </tr>\n",
       "    <tr>\n",
       "      <th>418</th>\n",
       "      <td>DISTRICT471</td>\n",
       "      <td>STATE24</td>\n",
       "      <td>9</td>\n",
       "      <td>790</td>\n",
       "      <td>110</td>\n",
       "      <td>612727.0</td>\n",
       "      <td>49.49</td>\n",
       "    </tr>\n",
       "    <tr>\n",
       "      <th>434</th>\n",
       "      <td>DISTRICT461</td>\n",
       "      <td>STATE31</td>\n",
       "      <td>4</td>\n",
       "      <td>360</td>\n",
       "      <td>53</td>\n",
       "      <td>532791.0</td>\n",
       "      <td>42.67</td>\n",
       "    </tr>\n",
       "    <tr>\n",
       "      <th>469</th>\n",
       "      <td>DISTRICT320</td>\n",
       "      <td>STATE22</td>\n",
       "      <td>6</td>\n",
       "      <td>819</td>\n",
       "      <td>65</td>\n",
       "      <td>1024091.0</td>\n",
       "      <td>44.45</td>\n",
       "    </tr>\n",
       "    <tr>\n",
       "      <th>494</th>\n",
       "      <td>DISTRICT429</td>\n",
       "      <td>STATE22</td>\n",
       "      <td>6</td>\n",
       "      <td>612</td>\n",
       "      <td>62</td>\n",
       "      <td>728677.0</td>\n",
       "      <td>37.22</td>\n",
       "    </tr>\n",
       "  </tbody>\n",
       "</table>\n",
       "</div>"
      ],
      "text/plain": [
       "        DISTNAME STATNAME  BLOCKS  VILLAGES  CLUSTERS  TOTPOPULAT  OVERALL_LI\n",
       "183  DISTRICT585  STATE21       5       803        54   1114615.0       49.13\n",
       "416  DISTRICT116  STATE24      12       870       166   1218762.0       48.20\n",
       "417   DISTRICT56  STATE24      18      1585       179   1376934.0       49.87\n",
       "418  DISTRICT471  STATE24       9       790       110    612727.0       49.49\n",
       "434  DISTRICT461  STATE31       4       360        53    532791.0       42.67\n",
       "469  DISTRICT320  STATE22       6       819        65   1024091.0       44.45\n",
       "494  DISTRICT429  STATE22       6       612        62    728677.0       37.22"
      ]
     },
     "execution_count": 69,
     "metadata": {},
     "output_type": "execute_result"
    }
   ],
   "source": [
    "df[df['OVERALL_LI']<50]"
   ]
  },
  {
   "cell_type": "code",
   "execution_count": 67,
   "metadata": {},
   "outputs": [
    {
     "data": {
      "text/plain": [
       "0.010294117647058823"
      ]
     },
     "execution_count": 67,
     "metadata": {},
     "output_type": "execute_result"
    }
   ],
   "source": [
    "len(df[df['OVERALL_LI']<50])/len(df)"
   ]
  },
  {
   "cell_type": "code",
   "execution_count": null,
   "metadata": {},
   "outputs": [],
   "source": []
  },
  {
   "cell_type": "code",
   "execution_count": 68,
   "metadata": {},
   "outputs": [
    {
     "name": "stderr",
     "output_type": "stream",
     "text": [
      "/opt/anaconda3/lib/python3.11/site-packages/seaborn/_oldcore.py:1119: FutureWarning: use_inf_as_na option is deprecated and will be removed in a future version. Convert inf values to NaN before operating instead.\n",
      "  with pd.option_context('mode.use_inf_as_na', True):\n"
     ]
    },
    {
     "data": {
      "image/png": "[encoded data removed]",
      "text/plain": [
       "<Figure size 640x480 with 1 Axes>"
      ]
     },
     "metadata": {},
     "output_type": "display_data"
    }
   ],
   "source": [
    "sns.histplot(x = df['OVERALL_LI'], kde=True);"
   ]
  },
  {
   "cell_type": "code",
   "execution_count": 67,
   "metadata": {},
   "outputs": [
    {
     "data": {
      "image/png": "[encoded data removed]",
      "text/plain": [
       "<Figure size 640x480 with 1 Axes>"
      ]
     },
     "metadata": {},
     "output_type": "display_data"
    }
   ],
   "source": [
    "sns.violinplot( y = df['OVERALL_LI']);"
   ]
  },
  {
   "cell_type": "code",
   "execution_count": 61,
   "metadata": {},
   "outputs": [
    {
     "data": {
      "text/plain": [
       "count    634.000000\n",
       "mean      73.395189\n",
       "std       10.098460\n",
       "min       37.220000\n",
       "25%       66.437500\n",
       "50%       73.490000\n",
       "75%       80.815000\n",
       "max       98.760000\n",
       "Name: OVERALL_LI, dtype: float64"
      ]
     },
     "execution_count": 61,
     "metadata": {},
     "output_type": "execute_result"
    }
   ],
   "source": [
    "df['OVERALL_LI'].describe()"
   ]
  },
  {
   "cell_type": "code",
   "execution_count": 70,
   "metadata": {},
   "outputs": [
    {
     "data": {
      "text/plain": [
       "10.098460413782469"
      ]
     },
     "execution_count": 70,
     "metadata": {},
     "output_type": "execute_result"
    }
   ],
   "source": [
    "(df['OVERALL_LI'].var())**(1/2)"
   ]
  },
  {
   "cell_type": "markdown",
   "metadata": {},
   "source": [
    "#### Range\n",
    "The **range** is the difference between the largest and smallest value in a dataset. \n",
    "\n",
    "#### Variance \n",
    "The average of the spuared difference of each data point from the mean.\n",
    "#### Standard Deviation\n",
    "Measures how spread out your values are from the mean of your dataset.\n",
    "\n",
    "    - Low, or small, standard deviation indicates data are clustered tightly around the mean, and high, or large, standard deviation indicates data are more spread out.\n",
    "<img src=\"Photos/photo_2023-11-11_10-46-48.jpg\" alt=\"Standard Deviation\" width=\"75%\" style=\"display: block; margin: 0 auto;\">"
   ]
  },
  {
   "cell_type": "markdown",
   "metadata": {},
   "source": [
    "**Exercise:** \n",
    "```py\n",
    "data = [56, 65, 74, 75, 76, 77, 80, 81, 91]\n",
    "```\n",
    "- Find Mean \n",
    "- Find std Population"
   ]
  },
  {
   "cell_type": "code",
   "execution_count": 22,
   "metadata": {},
   "outputs": [
    {
     "name": "stdout",
     "output_type": "stream",
     "text": [
      "The average of our data: 75.0\n",
      "The STD of our data: 9.33\n"
     ]
    }
   ],
   "source": [
    "data = np.array([56, 65, 74, 75, 76, 77, 80, 81, 91])\n",
    "print('The average of our data:', data.mean())\n",
    "print('The STD of our data:', np.round(data.std(), 2))"
   ]
  },
  {
   "cell_type": "markdown",
   "metadata": {},
   "source": [
    "### 3. Measures of Position \n"
   ]
  },
  {
   "cell_type": "markdown",
   "metadata": {},
   "source": [
    "\n",
    "**Measures of Position**  let you determine the position of a value in relation to other values in a dataset."
   ]
  },
  {
   "cell_type": "markdown",
   "metadata": {},
   "source": [
    "#### 3.1 Percentile "
   ]
  },
  {
   "cell_type": "markdown",
   "metadata": {},
   "source": [
    "#### What Is a Percentile in Statistics?"
   ]
  },
  {
   "cell_type": "markdown",
   "metadata": {},
   "source": [
    "Percentiles: are value that separates a set of data into **100** equal parts. we can use $ P_1, P_2, P_3, ... P_{99}$"
   ]
  },
  {
   "attachments": {
    "image.png": {
     "image/png": "[encoded data removed]"
    }
   },
   "cell_type": "markdown",
   "metadata": {},
   "source": [
    "![image.png](attachment:image.png)"
   ]
  },
  {
   "cell_type": "markdown",
   "metadata": {},
   "source": [
    "### Quartile"
   ]
  },
  {
   "cell_type": "markdown",
   "metadata": {},
   "source": [
    "divides the values in a dataset into four equal parts"
   ]
  },
  {
   "cell_type": "markdown",
   "metadata": {},
   "source": [
    "\n",
    "<img src=\"Photos/Three-Quartiles-Four-Quarters.png\" alt=\"Control Structure\" width=\"75%\" style=\"display: block; margin: 0 auto;\">"
   ]
  },
  {
   "cell_type": "markdown",
   "metadata": {},
   "source": [
    "#### Boxplot\n",
    "\n",
    "#### Using visualizations\n"
   ]
  },
  {
   "cell_type": "markdown",
   "metadata": {},
   "source": [
    "<img src=\"Photos/Box-Plot-and-Whisker-Plot-1.png\" alt=\"Control Structure\" width=\"75%\" style=\"display: block; margin: 0 auto;\">\n",
    "\n",
    "[Deials](https://www.scribbr.com/statistics/outliers/)"
   ]
  },
  {
   "cell_type": "markdown",
   "metadata": {},
   "source": [
    "### Outlier\n",
    "Outliers are values at the extreme ends of a dataset.\n",
    "\n",
    "Some outliers represent true values from natural variation in the population. Other outliers may result from incorrect data entry, equipment malfunctions, or other measurement errors.\n",
    "\n"
   ]
  },
  {
   "cell_type": "code",
   "execution_count": 27,
   "metadata": {},
   "outputs": [],
   "source": [
    "def outlier_detection(df):\n",
    "    \"\"\"\n",
    "    Detect potential outliers in a DataFrame using the Interquartile Range (IQR) method.\n",
    "\n",
    "    Parameters:\n",
    "    - df (pandas.DataFrame): The input DataFrame containing numerical data.\n",
    "\n",
    "    Returns:\n",
    "    - pandas.Series: A Series containing potential outlier values.\n",
    "    \n",
    "    The function calculates the first quartile (Q1), third quartile (Q3), and the Interquartile Range (IQR).\n",
    "    It then identifies potential outliers below the lower bound (Q1 - 1.5 * IQR) or above the upper bound (Q3 + 1.5 * IQR).\n",
    "    The result is a Series containing the values in the DataFrame that are potential outliers.\n",
    "\n",
    "    Example:\n",
    "    >>> data = {'Column1': [2, 4, 5, 7, 8, 9, 10, 11, 12, 50]}\n",
    "    >>> df = pd.DataFrame(data)\n",
    "    >>> outlier_detection(df['Column1'])\n",
    "    Returns:\n",
    "    9    50\n",
    "    Name: Column1, dtype: int64\n",
    "    \"\"\"\n",
    "    Q1 = df.quantile(0.25)\n",
    "    Q3 = df.quantile(0.75)\n",
    "    IQR = Q3 - Q1\n",
    "    upper_end = Q3 + 1.5 * IQR\n",
    "    lower_end = Q1 - 1.5 * IQR\n",
    "    outliers = df[(df > upper_end) | (df < lower_end)]\n",
    "    return outliers\n"
   ]
  }
 ],
 "metadata": {
  "kernelspec": {
   "display_name": "Python 3 (ipykernel)",
   "language": "python",
   "name": "python3"
  },
  "language_info": {
   "codemirror_mode": {
    "name": "ipython",
    "version": 3
   },
   "file_extension": ".py",
   "mimetype": "text/x-python",
   "name": "python",
   "nbconvert_exporter": "python",
   "pygments_lexer": "ipython3",
   "version": "3.11.5"
  }
 },
 "nbformat": 4,
 "nbformat_minor": 4
}
